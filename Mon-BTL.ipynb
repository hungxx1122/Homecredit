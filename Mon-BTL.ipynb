{
 "cells": [
  {
   "cell_type": "markdown",
   "metadata": {
    "_cell_guid": "b018242b-b3c5-4245-b5d7-ea6a3f28d4c8",
    "_uuid": "2053f9b0b897cad21155cca0a00c537bfd1bb340",
    "id": "PBpP8fAyV3aD"
   },
   "source": [
    "# 1. Thêm thư viện\n"
   ]
  },
  {
   "cell_type": "code",
   "execution_count": 1,
   "metadata": {
    "_cell_guid": "d237539e-2aa1-438e-a2c6-39a48c47211c",
    "_uuid": "3a39bcc870d823d4923c7ec9d8acb62c733bebaa",
    "id": "Cx-yNCWfV3aE"
   },
   "outputs": [],
   "source": [
    "import numpy as np\n",
    "import scipy as sp\n",
    "import pandas as pd\n",
    "import matplotlib as mpl\n",
    "import matplotlib.pyplot as plt\n",
    "import seaborn as sns\n",
    "\n",
    "# Pandas options\n",
    "pd.set_option('display.max_colwidth', 1000, 'display.max_rows', None, 'display.max_columns', None)\n",
    "\n",
    "# Plotting options\n",
    "%matplotlib inline\n",
    "mpl.style.use('ggplot')\n",
    "sns.set(style='whitegrid')"
   ]
  },
  {
   "cell_type": "code",
   "execution_count": 2,
   "metadata": {
    "id": "oIKP73YLxcqO"
   },
   "outputs": [],
   "source": [
    "# from google.colab import drive\n",
    "# drive.mount('/content/drive')"
   ]
  },
  {
   "cell_type": "markdown",
   "metadata": {
    "_cell_guid": "4c0f7ef4-37a3-4c71-847f-38f924706540",
    "_uuid": "c4b355a5d50e067d1461d6504cb04d827f65c6cd",
    "id": "uMZOGsXEV3aF"
   },
   "source": [
    "**Đọc dữ liệu**"
   ]
  },
  {
   "cell_type": "code",
   "execution_count": 4,
   "metadata": {
    "_cell_guid": "b54dd1e5-bbf7-4014-9434-3495a578e27f",
    "_uuid": "370f21d16cb87752040bb20a82a9115db2e36cb5",
    "id": "0oX1Hn2CV3aG"
   },
   "outputs": [],
   "source": [
    "data = pd.read_csv(\"accepted_2007_to_2018Q4.csv/accepted_2007_to_2018Q4.csv\",low_memory=False)"
   ]
  },
  {
   "cell_type": "markdown",
   "metadata": {
    "_cell_guid": "b195b476-a58b-4a6b-9745-f26a86e9c61c",
    "_uuid": "ee053ebca5fbc378cf651939bde5e378e5d0cdae",
    "id": "O6QPkp9aV3aG"
   },
   "source": [
    "Xem thông tin cơ bản:"
   ]
  },
  {
   "cell_type": "code",
   "execution_count": 5,
   "metadata": {
    "_cell_guid": "f4a7c9a2-ff89-4219-8ff9-2324bef16bdf",
    "_uuid": "00c703a1943e72a68b83c4ddf46c00310656e22c",
    "colab": {
     "base_uri": "https://localhost:8080/"
    },
    "id": "YOi6gRglV3aH",
    "outputId": "3e9f564b-0245-4973-ba2e-542511bb6740"
   },
   "outputs": [
    {
     "name": "stdout",
     "output_type": "stream",
     "text": [
      "<class 'pandas.core.frame.DataFrame'>\n",
      "RangeIndex: 2260701 entries, 0 to 2260700\n",
      "Columns: 151 entries, id to settlement_term\n",
      "dtypes: float64(113), object(38)\n",
      "memory usage: 2.5+ GB\n"
     ]
    }
   ],
   "source": [
    "data.info()"
   ]
  },
  {
   "cell_type": "markdown",
   "metadata": {
    "_cell_guid": "53dad5c0-e147-4a75-9143-263c25aca443",
    "_uuid": "9174c9f401807a208e48aae2553eb69fa807f1cf",
    "id": "nhDbS1z-V3aH"
   },
   "source": [
    "Có 2260701 dòng và 151 cột. Kích thước của tập dữ liệu 2.5+ GB.\n",
    "\n",
    "Xem qua 5 dòng được chọn ngẫu nhiên. Mỗi dòng tương ứng với một khoản vay."
   ]
  },
  {
   "cell_type": "code",
   "execution_count": 6,
   "metadata": {
    "_cell_guid": "ecdf5e79-8e7d-4e10-9d6a-bbed279cf07d",
    "_uuid": "927c3589a9c7ae39e78c2ad42f569101442cbb48",
    "colab": {
     "base_uri": "https://localhost:8080/",
     "height": 313
    },
    "id": "WiEwMQz6V3aH",
    "outputId": "136fdc92-b2bb-43d1-963c-7ca141de1e00",
    "scrolled": true
   },
   "outputs": [
    {
     "data": {
      "text/html": [
       "<div>\n",
       "<style scoped>\n",
       "    .dataframe tbody tr th:only-of-type {\n",
       "        vertical-align: middle;\n",
       "    }\n",
       "\n",
       "    .dataframe tbody tr th {\n",
       "        vertical-align: top;\n",
       "    }\n",
       "\n",
       "    .dataframe thead th {\n",
       "        text-align: right;\n",
       "    }\n",
       "</style>\n",
       "<table border=\"1\" class=\"dataframe\">\n",
       "  <thead>\n",
       "    <tr style=\"text-align: right;\">\n",
       "      <th></th>\n",
       "      <th>id</th>\n",
       "      <th>member_id</th>\n",
       "      <th>loan_amnt</th>\n",
       "      <th>funded_amnt</th>\n",
       "      <th>funded_amnt_inv</th>\n",
       "      <th>term</th>\n",
       "      <th>int_rate</th>\n",
       "      <th>installment</th>\n",
       "      <th>grade</th>\n",
       "      <th>sub_grade</th>\n",
       "      <th>emp_title</th>\n",
       "      <th>emp_length</th>\n",
       "      <th>home_ownership</th>\n",
       "      <th>annual_inc</th>\n",
       "      <th>verification_status</th>\n",
       "      <th>issue_d</th>\n",
       "      <th>loan_status</th>\n",
       "      <th>pymnt_plan</th>\n",
       "      <th>url</th>\n",
       "      <th>desc</th>\n",
       "      <th>purpose</th>\n",
       "      <th>title</th>\n",
       "      <th>zip_code</th>\n",
       "      <th>addr_state</th>\n",
       "      <th>dti</th>\n",
       "      <th>delinq_2yrs</th>\n",
       "      <th>earliest_cr_line</th>\n",
       "      <th>fico_range_low</th>\n",
       "      <th>fico_range_high</th>\n",
       "      <th>inq_last_6mths</th>\n",
       "      <th>mths_since_last_delinq</th>\n",
       "      <th>mths_since_last_record</th>\n",
       "      <th>open_acc</th>\n",
       "      <th>pub_rec</th>\n",
       "      <th>revol_bal</th>\n",
       "      <th>revol_util</th>\n",
       "      <th>total_acc</th>\n",
       "      <th>initial_list_status</th>\n",
       "      <th>out_prncp</th>\n",
       "      <th>out_prncp_inv</th>\n",
       "      <th>total_pymnt</th>\n",
       "      <th>total_pymnt_inv</th>\n",
       "      <th>total_rec_prncp</th>\n",
       "      <th>total_rec_int</th>\n",
       "      <th>total_rec_late_fee</th>\n",
       "      <th>recoveries</th>\n",
       "      <th>collection_recovery_fee</th>\n",
       "      <th>last_pymnt_d</th>\n",
       "      <th>last_pymnt_amnt</th>\n",
       "      <th>next_pymnt_d</th>\n",
       "      <th>last_credit_pull_d</th>\n",
       "      <th>last_fico_range_high</th>\n",
       "      <th>last_fico_range_low</th>\n",
       "      <th>collections_12_mths_ex_med</th>\n",
       "      <th>mths_since_last_major_derog</th>\n",
       "      <th>policy_code</th>\n",
       "      <th>application_type</th>\n",
       "      <th>annual_inc_joint</th>\n",
       "      <th>dti_joint</th>\n",
       "      <th>verification_status_joint</th>\n",
       "      <th>acc_now_delinq</th>\n",
       "      <th>tot_coll_amt</th>\n",
       "      <th>tot_cur_bal</th>\n",
       "      <th>open_acc_6m</th>\n",
       "      <th>open_act_il</th>\n",
       "      <th>open_il_12m</th>\n",
       "      <th>open_il_24m</th>\n",
       "      <th>mths_since_rcnt_il</th>\n",
       "      <th>total_bal_il</th>\n",
       "      <th>il_util</th>\n",
       "      <th>open_rv_12m</th>\n",
       "      <th>open_rv_24m</th>\n",
       "      <th>max_bal_bc</th>\n",
       "      <th>all_util</th>\n",
       "      <th>total_rev_hi_lim</th>\n",
       "      <th>inq_fi</th>\n",
       "      <th>total_cu_tl</th>\n",
       "      <th>inq_last_12m</th>\n",
       "      <th>acc_open_past_24mths</th>\n",
       "      <th>avg_cur_bal</th>\n",
       "      <th>bc_open_to_buy</th>\n",
       "      <th>bc_util</th>\n",
       "      <th>chargeoff_within_12_mths</th>\n",
       "      <th>delinq_amnt</th>\n",
       "      <th>mo_sin_old_il_acct</th>\n",
       "      <th>mo_sin_old_rev_tl_op</th>\n",
       "      <th>mo_sin_rcnt_rev_tl_op</th>\n",
       "      <th>mo_sin_rcnt_tl</th>\n",
       "      <th>mort_acc</th>\n",
       "      <th>mths_since_recent_bc</th>\n",
       "      <th>mths_since_recent_bc_dlq</th>\n",
       "      <th>mths_since_recent_inq</th>\n",
       "      <th>mths_since_recent_revol_delinq</th>\n",
       "      <th>num_accts_ever_120_pd</th>\n",
       "      <th>num_actv_bc_tl</th>\n",
       "      <th>num_actv_rev_tl</th>\n",
       "      <th>num_bc_sats</th>\n",
       "      <th>num_bc_tl</th>\n",
       "      <th>num_il_tl</th>\n",
       "      <th>num_op_rev_tl</th>\n",
       "      <th>num_rev_accts</th>\n",
       "      <th>num_rev_tl_bal_gt_0</th>\n",
       "      <th>num_sats</th>\n",
       "      <th>num_tl_120dpd_2m</th>\n",
       "      <th>num_tl_30dpd</th>\n",
       "      <th>num_tl_90g_dpd_24m</th>\n",
       "      <th>num_tl_op_past_12m</th>\n",
       "      <th>pct_tl_nvr_dlq</th>\n",
       "      <th>percent_bc_gt_75</th>\n",
       "      <th>pub_rec_bankruptcies</th>\n",
       "      <th>tax_liens</th>\n",
       "      <th>tot_hi_cred_lim</th>\n",
       "      <th>total_bal_ex_mort</th>\n",
       "      <th>total_bc_limit</th>\n",
       "      <th>total_il_high_credit_limit</th>\n",
       "      <th>revol_bal_joint</th>\n",
       "      <th>sec_app_fico_range_low</th>\n",
       "      <th>sec_app_fico_range_high</th>\n",
       "      <th>sec_app_earliest_cr_line</th>\n",
       "      <th>sec_app_inq_last_6mths</th>\n",
       "      <th>sec_app_mort_acc</th>\n",
       "      <th>sec_app_open_acc</th>\n",
       "      <th>sec_app_revol_util</th>\n",
       "      <th>sec_app_open_act_il</th>\n",
       "      <th>sec_app_num_rev_accts</th>\n",
       "      <th>sec_app_chargeoff_within_12_mths</th>\n",
       "      <th>sec_app_collections_12_mths_ex_med</th>\n",
       "      <th>sec_app_mths_since_last_major_derog</th>\n",
       "      <th>hardship_flag</th>\n",
       "      <th>hardship_type</th>\n",
       "      <th>hardship_reason</th>\n",
       "      <th>hardship_status</th>\n",
       "      <th>deferral_term</th>\n",
       "      <th>hardship_amount</th>\n",
       "      <th>hardship_start_date</th>\n",
       "      <th>hardship_end_date</th>\n",
       "      <th>payment_plan_start_date</th>\n",
       "      <th>hardship_length</th>\n",
       "      <th>hardship_dpd</th>\n",
       "      <th>hardship_loan_status</th>\n",
       "      <th>orig_projected_additional_accrued_interest</th>\n",
       "      <th>hardship_payoff_balance_amount</th>\n",
       "      <th>hardship_last_payment_amount</th>\n",
       "      <th>disbursement_method</th>\n",
       "      <th>debt_settlement_flag</th>\n",
       "      <th>debt_settlement_flag_date</th>\n",
       "      <th>settlement_status</th>\n",
       "      <th>settlement_date</th>\n",
       "      <th>settlement_amount</th>\n",
       "      <th>settlement_percentage</th>\n",
       "      <th>settlement_term</th>\n",
       "    </tr>\n",
       "  </thead>\n",
       "  <tbody>\n",
       "    <tr>\n",
       "      <th>2085404</th>\n",
       "      <td>123885197</td>\n",
       "      <td>NaN</td>\n",
       "      <td>20000.0</td>\n",
       "      <td>20000.0</td>\n",
       "      <td>20000.0</td>\n",
       "      <td>36 months</td>\n",
       "      <td>15.05</td>\n",
       "      <td>693.80</td>\n",
       "      <td>C</td>\n",
       "      <td>C4</td>\n",
       "      <td>manager partner</td>\n",
       "      <td>10+ years</td>\n",
       "      <td>RENT</td>\n",
       "      <td>109000.0</td>\n",
       "      <td>Verified</td>\n",
       "      <td>Nov-2017</td>\n",
       "      <td>Current</td>\n",
       "      <td>n</td>\n",
       "      <td>https://lendingclub.com/browse/loanDetail.action?loan_id=123885197</td>\n",
       "      <td>NaN</td>\n",
       "      <td>other</td>\n",
       "      <td>Other</td>\n",
       "      <td>100xx</td>\n",
       "      <td>NY</td>\n",
       "      <td>20.69</td>\n",
       "      <td>0.0</td>\n",
       "      <td>Apr-2013</td>\n",
       "      <td>690.0</td>\n",
       "      <td>694.0</td>\n",
       "      <td>1.0</td>\n",
       "      <td>NaN</td>\n",
       "      <td>NaN</td>\n",
       "      <td>7.0</td>\n",
       "      <td>0.0</td>\n",
       "      <td>18708.0</td>\n",
       "      <td>60.3</td>\n",
       "      <td>7.0</td>\n",
       "      <td>w</td>\n",
       "      <td>12205.21</td>\n",
       "      <td>12205.21</td>\n",
       "      <td>11067.360000</td>\n",
       "      <td>11067.36</td>\n",
       "      <td>7794.79</td>\n",
       "      <td>3272.57</td>\n",
       "      <td>0.0</td>\n",
       "      <td>0.0</td>\n",
       "      <td>0.0</td>\n",
       "      <td>Mar-2019</td>\n",
       "      <td>693.80</td>\n",
       "      <td>Apr-2019</td>\n",
       "      <td>Mar-2019</td>\n",
       "      <td>699.0</td>\n",
       "      <td>695.0</td>\n",
       "      <td>0.0</td>\n",
       "      <td>NaN</td>\n",
       "      <td>1.0</td>\n",
       "      <td>Individual</td>\n",
       "      <td>NaN</td>\n",
       "      <td>NaN</td>\n",
       "      <td>NaN</td>\n",
       "      <td>0.0</td>\n",
       "      <td>0.0</td>\n",
       "      <td>46113.0</td>\n",
       "      <td>0.0</td>\n",
       "      <td>2.0</td>\n",
       "      <td>0.0</td>\n",
       "      <td>1.0</td>\n",
       "      <td>17.0</td>\n",
       "      <td>14541.0</td>\n",
       "      <td>46.0</td>\n",
       "      <td>0.0</td>\n",
       "      <td>1.0</td>\n",
       "      <td>10738.0</td>\n",
       "      <td>61.0</td>\n",
       "      <td>31000.0</td>\n",
       "      <td>1.0</td>\n",
       "      <td>0.0</td>\n",
       "      <td>1.0</td>\n",
       "      <td>2.0</td>\n",
       "      <td>6588.0</td>\n",
       "      <td>12292.0</td>\n",
       "      <td>60.3</td>\n",
       "      <td>0.0</td>\n",
       "      <td>0.0</td>\n",
       "      <td>29.0</td>\n",
       "      <td>49.0</td>\n",
       "      <td>17.0</td>\n",
       "      <td>17.0</td>\n",
       "      <td>0.0</td>\n",
       "      <td>17.0</td>\n",
       "      <td>NaN</td>\n",
       "      <td>5.0</td>\n",
       "      <td>NaN</td>\n",
       "      <td>0.0</td>\n",
       "      <td>4.0</td>\n",
       "      <td>4.0</td>\n",
       "      <td>4.0</td>\n",
       "      <td>4.0</td>\n",
       "      <td>2.0</td>\n",
       "      <td>4.0</td>\n",
       "      <td>4.0</td>\n",
       "      <td>4.0</td>\n",
       "      <td>7.0</td>\n",
       "      <td>0.0</td>\n",
       "      <td>0.0</td>\n",
       "      <td>0.0</td>\n",
       "      <td>0.0</td>\n",
       "      <td>100.0</td>\n",
       "      <td>25.0</td>\n",
       "      <td>0.0</td>\n",
       "      <td>0.0</td>\n",
       "      <td>75664.0</td>\n",
       "      <td>46113.0</td>\n",
       "      <td>31000.0</td>\n",
       "      <td>31800.0</td>\n",
       "      <td>NaN</td>\n",
       "      <td>NaN</td>\n",
       "      <td>NaN</td>\n",
       "      <td>NaN</td>\n",
       "      <td>NaN</td>\n",
       "      <td>NaN</td>\n",
       "      <td>NaN</td>\n",
       "      <td>NaN</td>\n",
       "      <td>NaN</td>\n",
       "      <td>NaN</td>\n",
       "      <td>NaN</td>\n",
       "      <td>NaN</td>\n",
       "      <td>NaN</td>\n",
       "      <td>N</td>\n",
       "      <td>NaN</td>\n",
       "      <td>NaN</td>\n",
       "      <td>NaN</td>\n",
       "      <td>NaN</td>\n",
       "      <td>NaN</td>\n",
       "      <td>NaN</td>\n",
       "      <td>NaN</td>\n",
       "      <td>NaN</td>\n",
       "      <td>NaN</td>\n",
       "      <td>NaN</td>\n",
       "      <td>NaN</td>\n",
       "      <td>NaN</td>\n",
       "      <td>NaN</td>\n",
       "      <td>NaN</td>\n",
       "      <td>Cash</td>\n",
       "      <td>N</td>\n",
       "      <td>NaN</td>\n",
       "      <td>NaN</td>\n",
       "      <td>NaN</td>\n",
       "      <td>NaN</td>\n",
       "      <td>NaN</td>\n",
       "      <td>NaN</td>\n",
       "    </tr>\n",
       "    <tr>\n",
       "      <th>1165769</th>\n",
       "      <td>31326908</td>\n",
       "      <td>NaN</td>\n",
       "      <td>21175.0</td>\n",
       "      <td>21175.0</td>\n",
       "      <td>21175.0</td>\n",
       "      <td>60 months</td>\n",
       "      <td>18.24</td>\n",
       "      <td>540.48</td>\n",
       "      <td>D</td>\n",
       "      <td>D5</td>\n",
       "      <td>Manager</td>\n",
       "      <td>&lt; 1 year</td>\n",
       "      <td>RENT</td>\n",
       "      <td>75000.0</td>\n",
       "      <td>Source Verified</td>\n",
       "      <td>Oct-2014</td>\n",
       "      <td>Charged Off</td>\n",
       "      <td>n</td>\n",
       "      <td>https://lendingclub.com/browse/loanDetail.action?loan_id=31326908</td>\n",
       "      <td>NaN</td>\n",
       "      <td>credit_card</td>\n",
       "      <td>Credit card refinancing</td>\n",
       "      <td>257xx</td>\n",
       "      <td>WV</td>\n",
       "      <td>35.10</td>\n",
       "      <td>0.0</td>\n",
       "      <td>Nov-1997</td>\n",
       "      <td>695.0</td>\n",
       "      <td>699.0</td>\n",
       "      <td>0.0</td>\n",
       "      <td>NaN</td>\n",
       "      <td>NaN</td>\n",
       "      <td>19.0</td>\n",
       "      <td>0.0</td>\n",
       "      <td>60197.0</td>\n",
       "      <td>91.9</td>\n",
       "      <td>45.0</td>\n",
       "      <td>w</td>\n",
       "      <td>0.00</td>\n",
       "      <td>0.00</td>\n",
       "      <td>7576.080000</td>\n",
       "      <td>7576.08</td>\n",
       "      <td>3382.25</td>\n",
       "      <td>4193.83</td>\n",
       "      <td>0.0</td>\n",
       "      <td>0.0</td>\n",
       "      <td>0.0</td>\n",
       "      <td>Dec-2015</td>\n",
       "      <td>540.48</td>\n",
       "      <td>NaN</td>\n",
       "      <td>Feb-2017</td>\n",
       "      <td>579.0</td>\n",
       "      <td>575.0</td>\n",
       "      <td>0.0</td>\n",
       "      <td>NaN</td>\n",
       "      <td>1.0</td>\n",
       "      <td>Individual</td>\n",
       "      <td>NaN</td>\n",
       "      <td>NaN</td>\n",
       "      <td>NaN</td>\n",
       "      <td>0.0</td>\n",
       "      <td>0.0</td>\n",
       "      <td>314864.0</td>\n",
       "      <td>NaN</td>\n",
       "      <td>NaN</td>\n",
       "      <td>NaN</td>\n",
       "      <td>NaN</td>\n",
       "      <td>NaN</td>\n",
       "      <td>NaN</td>\n",
       "      <td>NaN</td>\n",
       "      <td>NaN</td>\n",
       "      <td>NaN</td>\n",
       "      <td>NaN</td>\n",
       "      <td>NaN</td>\n",
       "      <td>65500.0</td>\n",
       "      <td>NaN</td>\n",
       "      <td>NaN</td>\n",
       "      <td>NaN</td>\n",
       "      <td>1.0</td>\n",
       "      <td>16572.0</td>\n",
       "      <td>1573.0</td>\n",
       "      <td>96.1</td>\n",
       "      <td>0.0</td>\n",
       "      <td>0.0</td>\n",
       "      <td>145.0</td>\n",
       "      <td>203.0</td>\n",
       "      <td>25.0</td>\n",
       "      <td>10.0</td>\n",
       "      <td>6.0</td>\n",
       "      <td>82.0</td>\n",
       "      <td>NaN</td>\n",
       "      <td>NaN</td>\n",
       "      <td>NaN</td>\n",
       "      <td>0.0</td>\n",
       "      <td>8.0</td>\n",
       "      <td>12.0</td>\n",
       "      <td>8.0</td>\n",
       "      <td>16.0</td>\n",
       "      <td>10.0</td>\n",
       "      <td>15.0</td>\n",
       "      <td>28.0</td>\n",
       "      <td>12.0</td>\n",
       "      <td>19.0</td>\n",
       "      <td>0.0</td>\n",
       "      <td>0.0</td>\n",
       "      <td>0.0</td>\n",
       "      <td>1.0</td>\n",
       "      <td>100.0</td>\n",
       "      <td>87.5</td>\n",
       "      <td>0.0</td>\n",
       "      <td>0.0</td>\n",
       "      <td>338208.0</td>\n",
       "      <td>94058.0</td>\n",
       "      <td>40100.0</td>\n",
       "      <td>43508.0</td>\n",
       "      <td>NaN</td>\n",
       "      <td>NaN</td>\n",
       "      <td>NaN</td>\n",
       "      <td>NaN</td>\n",
       "      <td>NaN</td>\n",
       "      <td>NaN</td>\n",
       "      <td>NaN</td>\n",
       "      <td>NaN</td>\n",
       "      <td>NaN</td>\n",
       "      <td>NaN</td>\n",
       "      <td>NaN</td>\n",
       "      <td>NaN</td>\n",
       "      <td>NaN</td>\n",
       "      <td>N</td>\n",
       "      <td>NaN</td>\n",
       "      <td>NaN</td>\n",
       "      <td>NaN</td>\n",
       "      <td>NaN</td>\n",
       "      <td>NaN</td>\n",
       "      <td>NaN</td>\n",
       "      <td>NaN</td>\n",
       "      <td>NaN</td>\n",
       "      <td>NaN</td>\n",
       "      <td>NaN</td>\n",
       "      <td>NaN</td>\n",
       "      <td>NaN</td>\n",
       "      <td>NaN</td>\n",
       "      <td>NaN</td>\n",
       "      <td>Cash</td>\n",
       "      <td>N</td>\n",
       "      <td>NaN</td>\n",
       "      <td>NaN</td>\n",
       "      <td>NaN</td>\n",
       "      <td>NaN</td>\n",
       "      <td>NaN</td>\n",
       "      <td>NaN</td>\n",
       "    </tr>\n",
       "    <tr>\n",
       "      <th>973681</th>\n",
       "      <td>102575051</td>\n",
       "      <td>NaN</td>\n",
       "      <td>14000.0</td>\n",
       "      <td>14000.0</td>\n",
       "      <td>14000.0</td>\n",
       "      <td>60 months</td>\n",
       "      <td>14.99</td>\n",
       "      <td>332.99</td>\n",
       "      <td>C</td>\n",
       "      <td>C4</td>\n",
       "      <td>Greeter</td>\n",
       "      <td>7 years</td>\n",
       "      <td>MORTGAGE</td>\n",
       "      <td>64000.0</td>\n",
       "      <td>Not Verified</td>\n",
       "      <td>Apr-2017</td>\n",
       "      <td>Current</td>\n",
       "      <td>n</td>\n",
       "      <td>https://lendingclub.com/browse/loanDetail.action?loan_id=102575051</td>\n",
       "      <td>NaN</td>\n",
       "      <td>credit_card</td>\n",
       "      <td>Credit card refinancing</td>\n",
       "      <td>762xx</td>\n",
       "      <td>TX</td>\n",
       "      <td>25.33</td>\n",
       "      <td>1.0</td>\n",
       "      <td>Jul-1986</td>\n",
       "      <td>665.0</td>\n",
       "      <td>669.0</td>\n",
       "      <td>0.0</td>\n",
       "      <td>7.0</td>\n",
       "      <td>79.0</td>\n",
       "      <td>9.0</td>\n",
       "      <td>1.0</td>\n",
       "      <td>13857.0</td>\n",
       "      <td>68.3</td>\n",
       "      <td>20.0</td>\n",
       "      <td>w</td>\n",
       "      <td>9817.31</td>\n",
       "      <td>9817.31</td>\n",
       "      <td>7682.090000</td>\n",
       "      <td>7682.09</td>\n",
       "      <td>4182.69</td>\n",
       "      <td>3499.40</td>\n",
       "      <td>0.0</td>\n",
       "      <td>0.0</td>\n",
       "      <td>0.0</td>\n",
       "      <td>Mar-2019</td>\n",
       "      <td>332.99</td>\n",
       "      <td>Apr-2019</td>\n",
       "      <td>Mar-2019</td>\n",
       "      <td>689.0</td>\n",
       "      <td>685.0</td>\n",
       "      <td>0.0</td>\n",
       "      <td>NaN</td>\n",
       "      <td>1.0</td>\n",
       "      <td>Individual</td>\n",
       "      <td>NaN</td>\n",
       "      <td>NaN</td>\n",
       "      <td>NaN</td>\n",
       "      <td>0.0</td>\n",
       "      <td>0.0</td>\n",
       "      <td>263913.0</td>\n",
       "      <td>0.0</td>\n",
       "      <td>2.0</td>\n",
       "      <td>0.0</td>\n",
       "      <td>1.0</td>\n",
       "      <td>22.0</td>\n",
       "      <td>16655.0</td>\n",
       "      <td>55.0</td>\n",
       "      <td>0.0</td>\n",
       "      <td>1.0</td>\n",
       "      <td>4875.0</td>\n",
       "      <td>64.0</td>\n",
       "      <td>20300.0</td>\n",
       "      <td>0.0</td>\n",
       "      <td>1.0</td>\n",
       "      <td>1.0</td>\n",
       "      <td>5.0</td>\n",
       "      <td>29324.0</td>\n",
       "      <td>206.0</td>\n",
       "      <td>97.4</td>\n",
       "      <td>0.0</td>\n",
       "      <td>0.0</td>\n",
       "      <td>171.0</td>\n",
       "      <td>369.0</td>\n",
       "      <td>23.0</td>\n",
       "      <td>7.0</td>\n",
       "      <td>6.0</td>\n",
       "      <td>46.0</td>\n",
       "      <td>NaN</td>\n",
       "      <td>9.0</td>\n",
       "      <td>NaN</td>\n",
       "      <td>0.0</td>\n",
       "      <td>2.0</td>\n",
       "      <td>6.0</td>\n",
       "      <td>2.0</td>\n",
       "      <td>3.0</td>\n",
       "      <td>4.0</td>\n",
       "      <td>6.0</td>\n",
       "      <td>10.0</td>\n",
       "      <td>6.0</td>\n",
       "      <td>9.0</td>\n",
       "      <td>0.0</td>\n",
       "      <td>0.0</td>\n",
       "      <td>0.0</td>\n",
       "      <td>1.0</td>\n",
       "      <td>94.4</td>\n",
       "      <td>100.0</td>\n",
       "      <td>1.0</td>\n",
       "      <td>0.0</td>\n",
       "      <td>299530.0</td>\n",
       "      <td>30512.0</td>\n",
       "      <td>8000.0</td>\n",
       "      <td>43176.0</td>\n",
       "      <td>NaN</td>\n",
       "      <td>NaN</td>\n",
       "      <td>NaN</td>\n",
       "      <td>NaN</td>\n",
       "      <td>NaN</td>\n",
       "      <td>NaN</td>\n",
       "      <td>NaN</td>\n",
       "      <td>NaN</td>\n",
       "      <td>NaN</td>\n",
       "      <td>NaN</td>\n",
       "      <td>NaN</td>\n",
       "      <td>NaN</td>\n",
       "      <td>NaN</td>\n",
       "      <td>N</td>\n",
       "      <td>NaN</td>\n",
       "      <td>NaN</td>\n",
       "      <td>NaN</td>\n",
       "      <td>NaN</td>\n",
       "      <td>NaN</td>\n",
       "      <td>NaN</td>\n",
       "      <td>NaN</td>\n",
       "      <td>NaN</td>\n",
       "      <td>NaN</td>\n",
       "      <td>NaN</td>\n",
       "      <td>NaN</td>\n",
       "      <td>NaN</td>\n",
       "      <td>NaN</td>\n",
       "      <td>NaN</td>\n",
       "      <td>Cash</td>\n",
       "      <td>N</td>\n",
       "      <td>NaN</td>\n",
       "      <td>NaN</td>\n",
       "      <td>NaN</td>\n",
       "      <td>NaN</td>\n",
       "      <td>NaN</td>\n",
       "      <td>NaN</td>\n",
       "    </tr>\n",
       "    <tr>\n",
       "      <th>806774</th>\n",
       "      <td>138412763</td>\n",
       "      <td>NaN</td>\n",
       "      <td>10000.0</td>\n",
       "      <td>10000.0</td>\n",
       "      <td>10000.0</td>\n",
       "      <td>36 months</td>\n",
       "      <td>16.91</td>\n",
       "      <td>356.08</td>\n",
       "      <td>C</td>\n",
       "      <td>C5</td>\n",
       "      <td>Housekeeping</td>\n",
       "      <td>1 year</td>\n",
       "      <td>RENT</td>\n",
       "      <td>45000.0</td>\n",
       "      <td>Verified</td>\n",
       "      <td>Aug-2018</td>\n",
       "      <td>Current</td>\n",
       "      <td>n</td>\n",
       "      <td>https://lendingclub.com/browse/loanDetail.action?loan_id=138412763</td>\n",
       "      <td>NaN</td>\n",
       "      <td>credit_card</td>\n",
       "      <td>Credit card refinancing</td>\n",
       "      <td>967xx</td>\n",
       "      <td>HI</td>\n",
       "      <td>16.67</td>\n",
       "      <td>0.0</td>\n",
       "      <td>Aug-2004</td>\n",
       "      <td>680.0</td>\n",
       "      <td>684.0</td>\n",
       "      <td>0.0</td>\n",
       "      <td>NaN</td>\n",
       "      <td>NaN</td>\n",
       "      <td>9.0</td>\n",
       "      <td>0.0</td>\n",
       "      <td>10144.0</td>\n",
       "      <td>49.7</td>\n",
       "      <td>16.0</td>\n",
       "      <td>w</td>\n",
       "      <td>8428.66</td>\n",
       "      <td>8428.66</td>\n",
       "      <td>2492.570000</td>\n",
       "      <td>2492.57</td>\n",
       "      <td>1571.34</td>\n",
       "      <td>921.23</td>\n",
       "      <td>0.0</td>\n",
       "      <td>0.0</td>\n",
       "      <td>0.0</td>\n",
       "      <td>Mar-2019</td>\n",
       "      <td>356.08</td>\n",
       "      <td>Apr-2019</td>\n",
       "      <td>Mar-2019</td>\n",
       "      <td>684.0</td>\n",
       "      <td>680.0</td>\n",
       "      <td>0.0</td>\n",
       "      <td>NaN</td>\n",
       "      <td>1.0</td>\n",
       "      <td>Individual</td>\n",
       "      <td>NaN</td>\n",
       "      <td>NaN</td>\n",
       "      <td>NaN</td>\n",
       "      <td>0.0</td>\n",
       "      <td>0.0</td>\n",
       "      <td>15854.0</td>\n",
       "      <td>1.0</td>\n",
       "      <td>2.0</td>\n",
       "      <td>1.0</td>\n",
       "      <td>2.0</td>\n",
       "      <td>7.0</td>\n",
       "      <td>5710.0</td>\n",
       "      <td>82.0</td>\n",
       "      <td>3.0</td>\n",
       "      <td>3.0</td>\n",
       "      <td>3209.0</td>\n",
       "      <td>58.0</td>\n",
       "      <td>20400.0</td>\n",
       "      <td>2.0</td>\n",
       "      <td>0.0</td>\n",
       "      <td>1.0</td>\n",
       "      <td>5.0</td>\n",
       "      <td>1762.0</td>\n",
       "      <td>5419.0</td>\n",
       "      <td>44.7</td>\n",
       "      <td>0.0</td>\n",
       "      <td>0.0</td>\n",
       "      <td>168.0</td>\n",
       "      <td>145.0</td>\n",
       "      <td>4.0</td>\n",
       "      <td>4.0</td>\n",
       "      <td>0.0</td>\n",
       "      <td>4.0</td>\n",
       "      <td>NaN</td>\n",
       "      <td>7.0</td>\n",
       "      <td>NaN</td>\n",
       "      <td>0.0</td>\n",
       "      <td>3.0</td>\n",
       "      <td>7.0</td>\n",
       "      <td>3.0</td>\n",
       "      <td>6.0</td>\n",
       "      <td>5.0</td>\n",
       "      <td>7.0</td>\n",
       "      <td>11.0</td>\n",
       "      <td>7.0</td>\n",
       "      <td>9.0</td>\n",
       "      <td>0.0</td>\n",
       "      <td>0.0</td>\n",
       "      <td>0.0</td>\n",
       "      <td>4.0</td>\n",
       "      <td>100.0</td>\n",
       "      <td>0.0</td>\n",
       "      <td>0.0</td>\n",
       "      <td>0.0</td>\n",
       "      <td>27400.0</td>\n",
       "      <td>15854.0</td>\n",
       "      <td>9800.0</td>\n",
       "      <td>7000.0</td>\n",
       "      <td>NaN</td>\n",
       "      <td>NaN</td>\n",
       "      <td>NaN</td>\n",
       "      <td>NaN</td>\n",
       "      <td>NaN</td>\n",
       "      <td>NaN</td>\n",
       "      <td>NaN</td>\n",
       "      <td>NaN</td>\n",
       "      <td>NaN</td>\n",
       "      <td>NaN</td>\n",
       "      <td>NaN</td>\n",
       "      <td>NaN</td>\n",
       "      <td>NaN</td>\n",
       "      <td>N</td>\n",
       "      <td>NaN</td>\n",
       "      <td>NaN</td>\n",
       "      <td>NaN</td>\n",
       "      <td>NaN</td>\n",
       "      <td>NaN</td>\n",
       "      <td>NaN</td>\n",
       "      <td>NaN</td>\n",
       "      <td>NaN</td>\n",
       "      <td>NaN</td>\n",
       "      <td>NaN</td>\n",
       "      <td>NaN</td>\n",
       "      <td>NaN</td>\n",
       "      <td>NaN</td>\n",
       "      <td>NaN</td>\n",
       "      <td>Cash</td>\n",
       "      <td>N</td>\n",
       "      <td>NaN</td>\n",
       "      <td>NaN</td>\n",
       "      <td>NaN</td>\n",
       "      <td>NaN</td>\n",
       "      <td>NaN</td>\n",
       "      <td>NaN</td>\n",
       "    </tr>\n",
       "    <tr>\n",
       "      <th>1936175</th>\n",
       "      <td>1123187</td>\n",
       "      <td>NaN</td>\n",
       "      <td>20000.0</td>\n",
       "      <td>20000.0</td>\n",
       "      <td>20000.0</td>\n",
       "      <td>36 months</td>\n",
       "      <td>14.65</td>\n",
       "      <td>689.89</td>\n",
       "      <td>C</td>\n",
       "      <td>C3</td>\n",
       "      <td>El Paso Independent School District</td>\n",
       "      <td>10+ years</td>\n",
       "      <td>MORTGAGE</td>\n",
       "      <td>61000.0</td>\n",
       "      <td>Verified</td>\n",
       "      <td>Feb-2012</td>\n",
       "      <td>Fully Paid</td>\n",
       "      <td>n</td>\n",
       "      <td>https://lendingclub.com/browse/loanDetail.action?loan_id=1123187</td>\n",
       "      <td>Borrower added on 01/25/12 &gt; 30 year old home desperately needs some upkeep.  Bathroom, windows, flooring, and bath.  Otherwise, it's a wonderful home.&lt;br&gt;</td>\n",
       "      <td>home_improvement</td>\n",
       "      <td>Home Improvement Loan</td>\n",
       "      <td>799xx</td>\n",
       "      <td>TX</td>\n",
       "      <td>12.24</td>\n",
       "      <td>0.0</td>\n",
       "      <td>Mar-2003</td>\n",
       "      <td>685.0</td>\n",
       "      <td>689.0</td>\n",
       "      <td>2.0</td>\n",
       "      <td>NaN</td>\n",
       "      <td>NaN</td>\n",
       "      <td>6.0</td>\n",
       "      <td>0.0</td>\n",
       "      <td>4519.0</td>\n",
       "      <td>35.5</td>\n",
       "      <td>15.0</td>\n",
       "      <td>f</td>\n",
       "      <td>0.00</td>\n",
       "      <td>0.00</td>\n",
       "      <td>21166.347662</td>\n",
       "      <td>21166.35</td>\n",
       "      <td>20000.00</td>\n",
       "      <td>1166.35</td>\n",
       "      <td>0.0</td>\n",
       "      <td>0.0</td>\n",
       "      <td>0.0</td>\n",
       "      <td>Jul-2012</td>\n",
       "      <td>18412.47</td>\n",
       "      <td>NaN</td>\n",
       "      <td>Mar-2019</td>\n",
       "      <td>719.0</td>\n",
       "      <td>715.0</td>\n",
       "      <td>0.0</td>\n",
       "      <td>NaN</td>\n",
       "      <td>1.0</td>\n",
       "      <td>Individual</td>\n",
       "      <td>NaN</td>\n",
       "      <td>NaN</td>\n",
       "      <td>NaN</td>\n",
       "      <td>0.0</td>\n",
       "      <td>NaN</td>\n",
       "      <td>NaN</td>\n",
       "      <td>NaN</td>\n",
       "      <td>NaN</td>\n",
       "      <td>NaN</td>\n",
       "      <td>NaN</td>\n",
       "      <td>NaN</td>\n",
       "      <td>NaN</td>\n",
       "      <td>NaN</td>\n",
       "      <td>NaN</td>\n",
       "      <td>NaN</td>\n",
       "      <td>NaN</td>\n",
       "      <td>NaN</td>\n",
       "      <td>NaN</td>\n",
       "      <td>NaN</td>\n",
       "      <td>NaN</td>\n",
       "      <td>NaN</td>\n",
       "      <td>NaN</td>\n",
       "      <td>NaN</td>\n",
       "      <td>NaN</td>\n",
       "      <td>NaN</td>\n",
       "      <td>0.0</td>\n",
       "      <td>0.0</td>\n",
       "      <td>NaN</td>\n",
       "      <td>NaN</td>\n",
       "      <td>NaN</td>\n",
       "      <td>NaN</td>\n",
       "      <td>NaN</td>\n",
       "      <td>NaN</td>\n",
       "      <td>NaN</td>\n",
       "      <td>NaN</td>\n",
       "      <td>NaN</td>\n",
       "      <td>NaN</td>\n",
       "      <td>NaN</td>\n",
       "      <td>NaN</td>\n",
       "      <td>NaN</td>\n",
       "      <td>NaN</td>\n",
       "      <td>NaN</td>\n",
       "      <td>NaN</td>\n",
       "      <td>NaN</td>\n",
       "      <td>NaN</td>\n",
       "      <td>NaN</td>\n",
       "      <td>NaN</td>\n",
       "      <td>NaN</td>\n",
       "      <td>NaN</td>\n",
       "      <td>NaN</td>\n",
       "      <td>NaN</td>\n",
       "      <td>NaN</td>\n",
       "      <td>0.0</td>\n",
       "      <td>0.0</td>\n",
       "      <td>NaN</td>\n",
       "      <td>NaN</td>\n",
       "      <td>NaN</td>\n",
       "      <td>NaN</td>\n",
       "      <td>NaN</td>\n",
       "      <td>NaN</td>\n",
       "      <td>NaN</td>\n",
       "      <td>NaN</td>\n",
       "      <td>NaN</td>\n",
       "      <td>NaN</td>\n",
       "      <td>NaN</td>\n",
       "      <td>NaN</td>\n",
       "      <td>NaN</td>\n",
       "      <td>NaN</td>\n",
       "      <td>NaN</td>\n",
       "      <td>NaN</td>\n",
       "      <td>NaN</td>\n",
       "      <td>N</td>\n",
       "      <td>NaN</td>\n",
       "      <td>NaN</td>\n",
       "      <td>NaN</td>\n",
       "      <td>NaN</td>\n",
       "      <td>NaN</td>\n",
       "      <td>NaN</td>\n",
       "      <td>NaN</td>\n",
       "      <td>NaN</td>\n",
       "      <td>NaN</td>\n",
       "      <td>NaN</td>\n",
       "      <td>NaN</td>\n",
       "      <td>NaN</td>\n",
       "      <td>NaN</td>\n",
       "      <td>NaN</td>\n",
       "      <td>Cash</td>\n",
       "      <td>N</td>\n",
       "      <td>NaN</td>\n",
       "      <td>NaN</td>\n",
       "      <td>NaN</td>\n",
       "      <td>NaN</td>\n",
       "      <td>NaN</td>\n",
       "      <td>NaN</td>\n",
       "    </tr>\n",
       "  </tbody>\n",
       "</table>\n",
       "</div>"
      ],
      "text/plain": [
       "                id  member_id  loan_amnt  funded_amnt  funded_amnt_inv  \\\n",
       "2085404  123885197        NaN    20000.0      20000.0          20000.0   \n",
       "1165769   31326908        NaN    21175.0      21175.0          21175.0   \n",
       "973681   102575051        NaN    14000.0      14000.0          14000.0   \n",
       "806774   138412763        NaN    10000.0      10000.0          10000.0   \n",
       "1936175    1123187        NaN    20000.0      20000.0          20000.0   \n",
       "\n",
       "               term  int_rate  installment grade sub_grade  \\\n",
       "2085404   36 months     15.05       693.80     C        C4   \n",
       "1165769   60 months     18.24       540.48     D        D5   \n",
       "973681    60 months     14.99       332.99     C        C4   \n",
       "806774    36 months     16.91       356.08     C        C5   \n",
       "1936175   36 months     14.65       689.89     C        C3   \n",
       "\n",
       "                                   emp_title emp_length home_ownership  \\\n",
       "2085404                      manager partner  10+ years           RENT   \n",
       "1165769                              Manager   < 1 year           RENT   \n",
       "973681                               Greeter    7 years       MORTGAGE   \n",
       "806774                          Housekeeping     1 year           RENT   \n",
       "1936175  El Paso Independent School District  10+ years       MORTGAGE   \n",
       "\n",
       "         annual_inc verification_status   issue_d  loan_status pymnt_plan  \\\n",
       "2085404    109000.0            Verified  Nov-2017      Current          n   \n",
       "1165769     75000.0     Source Verified  Oct-2014  Charged Off          n   \n",
       "973681      64000.0        Not Verified  Apr-2017      Current          n   \n",
       "806774      45000.0            Verified  Aug-2018      Current          n   \n",
       "1936175     61000.0            Verified  Feb-2012   Fully Paid          n   \n",
       "\n",
       "                                                                        url  \\\n",
       "2085404  https://lendingclub.com/browse/loanDetail.action?loan_id=123885197   \n",
       "1165769   https://lendingclub.com/browse/loanDetail.action?loan_id=31326908   \n",
       "973681   https://lendingclub.com/browse/loanDetail.action?loan_id=102575051   \n",
       "806774   https://lendingclub.com/browse/loanDetail.action?loan_id=138412763   \n",
       "1936175    https://lendingclub.com/browse/loanDetail.action?loan_id=1123187   \n",
       "\n",
       "                                                                                                                                                                  desc  \\\n",
       "2085404                                                                                                                                                            NaN   \n",
       "1165769                                                                                                                                                            NaN   \n",
       "973681                                                                                                                                                             NaN   \n",
       "806774                                                                                                                                                             NaN   \n",
       "1936175    Borrower added on 01/25/12 > 30 year old home desperately needs some upkeep.  Bathroom, windows, flooring, and bath.  Otherwise, it's a wonderful home.<br>   \n",
       "\n",
       "                  purpose                    title zip_code addr_state    dti  \\\n",
       "2085404             other                    Other    100xx         NY  20.69   \n",
       "1165769       credit_card  Credit card refinancing    257xx         WV  35.10   \n",
       "973681        credit_card  Credit card refinancing    762xx         TX  25.33   \n",
       "806774        credit_card  Credit card refinancing    967xx         HI  16.67   \n",
       "1936175  home_improvement    Home Improvement Loan    799xx         TX  12.24   \n",
       "\n",
       "         delinq_2yrs earliest_cr_line  fico_range_low  fico_range_high  \\\n",
       "2085404          0.0         Apr-2013           690.0            694.0   \n",
       "1165769          0.0         Nov-1997           695.0            699.0   \n",
       "973681           1.0         Jul-1986           665.0            669.0   \n",
       "806774           0.0         Aug-2004           680.0            684.0   \n",
       "1936175          0.0         Mar-2003           685.0            689.0   \n",
       "\n",
       "         inq_last_6mths  mths_since_last_delinq  mths_since_last_record  \\\n",
       "2085404             1.0                     NaN                     NaN   \n",
       "1165769             0.0                     NaN                     NaN   \n",
       "973681              0.0                     7.0                    79.0   \n",
       "806774              0.0                     NaN                     NaN   \n",
       "1936175             2.0                     NaN                     NaN   \n",
       "\n",
       "         open_acc  pub_rec  revol_bal  revol_util  total_acc  \\\n",
       "2085404       7.0      0.0    18708.0        60.3        7.0   \n",
       "1165769      19.0      0.0    60197.0        91.9       45.0   \n",
       "973681        9.0      1.0    13857.0        68.3       20.0   \n",
       "806774        9.0      0.0    10144.0        49.7       16.0   \n",
       "1936175       6.0      0.0     4519.0        35.5       15.0   \n",
       "\n",
       "        initial_list_status  out_prncp  out_prncp_inv   total_pymnt  \\\n",
       "2085404                   w   12205.21       12205.21  11067.360000   \n",
       "1165769                   w       0.00           0.00   7576.080000   \n",
       "973681                    w    9817.31        9817.31   7682.090000   \n",
       "806774                    w    8428.66        8428.66   2492.570000   \n",
       "1936175                   f       0.00           0.00  21166.347662   \n",
       "\n",
       "         total_pymnt_inv  total_rec_prncp  total_rec_int  total_rec_late_fee  \\\n",
       "2085404         11067.36          7794.79        3272.57                 0.0   \n",
       "1165769          7576.08          3382.25        4193.83                 0.0   \n",
       "973681           7682.09          4182.69        3499.40                 0.0   \n",
       "806774           2492.57          1571.34         921.23                 0.0   \n",
       "1936175         21166.35         20000.00        1166.35                 0.0   \n",
       "\n",
       "         recoveries  collection_recovery_fee last_pymnt_d  last_pymnt_amnt  \\\n",
       "2085404         0.0                      0.0     Mar-2019           693.80   \n",
       "1165769         0.0                      0.0     Dec-2015           540.48   \n",
       "973681          0.0                      0.0     Mar-2019           332.99   \n",
       "806774          0.0                      0.0     Mar-2019           356.08   \n",
       "1936175         0.0                      0.0     Jul-2012         18412.47   \n",
       "\n",
       "        next_pymnt_d last_credit_pull_d  last_fico_range_high  \\\n",
       "2085404     Apr-2019           Mar-2019                 699.0   \n",
       "1165769          NaN           Feb-2017                 579.0   \n",
       "973681      Apr-2019           Mar-2019                 689.0   \n",
       "806774      Apr-2019           Mar-2019                 684.0   \n",
       "1936175          NaN           Mar-2019                 719.0   \n",
       "\n",
       "         last_fico_range_low  collections_12_mths_ex_med  \\\n",
       "2085404                695.0                         0.0   \n",
       "1165769                575.0                         0.0   \n",
       "973681                 685.0                         0.0   \n",
       "806774                 680.0                         0.0   \n",
       "1936175                715.0                         0.0   \n",
       "\n",
       "         mths_since_last_major_derog  policy_code application_type  \\\n",
       "2085404                          NaN          1.0       Individual   \n",
       "1165769                          NaN          1.0       Individual   \n",
       "973681                           NaN          1.0       Individual   \n",
       "806774                           NaN          1.0       Individual   \n",
       "1936175                          NaN          1.0       Individual   \n",
       "\n",
       "         annual_inc_joint  dti_joint verification_status_joint  \\\n",
       "2085404               NaN        NaN                       NaN   \n",
       "1165769               NaN        NaN                       NaN   \n",
       "973681                NaN        NaN                       NaN   \n",
       "806774                NaN        NaN                       NaN   \n",
       "1936175               NaN        NaN                       NaN   \n",
       "\n",
       "         acc_now_delinq  tot_coll_amt  tot_cur_bal  open_acc_6m  open_act_il  \\\n",
       "2085404             0.0           0.0      46113.0          0.0          2.0   \n",
       "1165769             0.0           0.0     314864.0          NaN          NaN   \n",
       "973681              0.0           0.0     263913.0          0.0          2.0   \n",
       "806774              0.0           0.0      15854.0          1.0          2.0   \n",
       "1936175             0.0           NaN          NaN          NaN          NaN   \n",
       "\n",
       "         open_il_12m  open_il_24m  mths_since_rcnt_il  total_bal_il  il_util  \\\n",
       "2085404          0.0          1.0                17.0       14541.0     46.0   \n",
       "1165769          NaN          NaN                 NaN           NaN      NaN   \n",
       "973681           0.0          1.0                22.0       16655.0     55.0   \n",
       "806774           1.0          2.0                 7.0        5710.0     82.0   \n",
       "1936175          NaN          NaN                 NaN           NaN      NaN   \n",
       "\n",
       "         open_rv_12m  open_rv_24m  max_bal_bc  all_util  total_rev_hi_lim  \\\n",
       "2085404          0.0          1.0     10738.0      61.0           31000.0   \n",
       "1165769          NaN          NaN         NaN       NaN           65500.0   \n",
       "973681           0.0          1.0      4875.0      64.0           20300.0   \n",
       "806774           3.0          3.0      3209.0      58.0           20400.0   \n",
       "1936175          NaN          NaN         NaN       NaN               NaN   \n",
       "\n",
       "         inq_fi  total_cu_tl  inq_last_12m  acc_open_past_24mths  avg_cur_bal  \\\n",
       "2085404     1.0          0.0           1.0                   2.0       6588.0   \n",
       "1165769     NaN          NaN           NaN                   1.0      16572.0   \n",
       "973681      0.0          1.0           1.0                   5.0      29324.0   \n",
       "806774      2.0          0.0           1.0                   5.0       1762.0   \n",
       "1936175     NaN          NaN           NaN                   NaN          NaN   \n",
       "\n",
       "         bc_open_to_buy  bc_util  chargeoff_within_12_mths  delinq_amnt  \\\n",
       "2085404         12292.0     60.3                       0.0          0.0   \n",
       "1165769          1573.0     96.1                       0.0          0.0   \n",
       "973681            206.0     97.4                       0.0          0.0   \n",
       "806774           5419.0     44.7                       0.0          0.0   \n",
       "1936175             NaN      NaN                       0.0          0.0   \n",
       "\n",
       "         mo_sin_old_il_acct  mo_sin_old_rev_tl_op  mo_sin_rcnt_rev_tl_op  \\\n",
       "2085404                29.0                  49.0                   17.0   \n",
       "1165769               145.0                 203.0                   25.0   \n",
       "973681                171.0                 369.0                   23.0   \n",
       "806774                168.0                 145.0                    4.0   \n",
       "1936175                 NaN                   NaN                    NaN   \n",
       "\n",
       "         mo_sin_rcnt_tl  mort_acc  mths_since_recent_bc  \\\n",
       "2085404            17.0       0.0                  17.0   \n",
       "1165769            10.0       6.0                  82.0   \n",
       "973681              7.0       6.0                  46.0   \n",
       "806774              4.0       0.0                   4.0   \n",
       "1936175             NaN       NaN                   NaN   \n",
       "\n",
       "         mths_since_recent_bc_dlq  mths_since_recent_inq  \\\n",
       "2085404                       NaN                    5.0   \n",
       "1165769                       NaN                    NaN   \n",
       "973681                        NaN                    9.0   \n",
       "806774                        NaN                    7.0   \n",
       "1936175                       NaN                    NaN   \n",
       "\n",
       "         mths_since_recent_revol_delinq  num_accts_ever_120_pd  \\\n",
       "2085404                             NaN                    0.0   \n",
       "1165769                             NaN                    0.0   \n",
       "973681                              NaN                    0.0   \n",
       "806774                              NaN                    0.0   \n",
       "1936175                             NaN                    NaN   \n",
       "\n",
       "         num_actv_bc_tl  num_actv_rev_tl  num_bc_sats  num_bc_tl  num_il_tl  \\\n",
       "2085404             4.0              4.0          4.0        4.0        2.0   \n",
       "1165769             8.0             12.0          8.0       16.0       10.0   \n",
       "973681              2.0              6.0          2.0        3.0        4.0   \n",
       "806774              3.0              7.0          3.0        6.0        5.0   \n",
       "1936175             NaN              NaN          NaN        NaN        NaN   \n",
       "\n",
       "         num_op_rev_tl  num_rev_accts  num_rev_tl_bal_gt_0  num_sats  \\\n",
       "2085404            4.0            4.0                  4.0       7.0   \n",
       "1165769           15.0           28.0                 12.0      19.0   \n",
       "973681             6.0           10.0                  6.0       9.0   \n",
       "806774             7.0           11.0                  7.0       9.0   \n",
       "1936175            NaN            NaN                  NaN       NaN   \n",
       "\n",
       "         num_tl_120dpd_2m  num_tl_30dpd  num_tl_90g_dpd_24m  \\\n",
       "2085404               0.0           0.0                 0.0   \n",
       "1165769               0.0           0.0                 0.0   \n",
       "973681                0.0           0.0                 0.0   \n",
       "806774                0.0           0.0                 0.0   \n",
       "1936175               NaN           NaN                 NaN   \n",
       "\n",
       "         num_tl_op_past_12m  pct_tl_nvr_dlq  percent_bc_gt_75  \\\n",
       "2085404                 0.0           100.0              25.0   \n",
       "1165769                 1.0           100.0              87.5   \n",
       "973681                  1.0            94.4             100.0   \n",
       "806774                  4.0           100.0               0.0   \n",
       "1936175                 NaN             NaN               NaN   \n",
       "\n",
       "         pub_rec_bankruptcies  tax_liens  tot_hi_cred_lim  total_bal_ex_mort  \\\n",
       "2085404                   0.0        0.0          75664.0            46113.0   \n",
       "1165769                   0.0        0.0         338208.0            94058.0   \n",
       "973681                    1.0        0.0         299530.0            30512.0   \n",
       "806774                    0.0        0.0          27400.0            15854.0   \n",
       "1936175                   0.0        0.0              NaN                NaN   \n",
       "\n",
       "         total_bc_limit  total_il_high_credit_limit  revol_bal_joint  \\\n",
       "2085404         31000.0                     31800.0              NaN   \n",
       "1165769         40100.0                     43508.0              NaN   \n",
       "973681           8000.0                     43176.0              NaN   \n",
       "806774           9800.0                      7000.0              NaN   \n",
       "1936175             NaN                         NaN              NaN   \n",
       "\n",
       "         sec_app_fico_range_low  sec_app_fico_range_high  \\\n",
       "2085404                     NaN                      NaN   \n",
       "1165769                     NaN                      NaN   \n",
       "973681                      NaN                      NaN   \n",
       "806774                      NaN                      NaN   \n",
       "1936175                     NaN                      NaN   \n",
       "\n",
       "        sec_app_earliest_cr_line  sec_app_inq_last_6mths  sec_app_mort_acc  \\\n",
       "2085404                      NaN                     NaN               NaN   \n",
       "1165769                      NaN                     NaN               NaN   \n",
       "973681                       NaN                     NaN               NaN   \n",
       "806774                       NaN                     NaN               NaN   \n",
       "1936175                      NaN                     NaN               NaN   \n",
       "\n",
       "         sec_app_open_acc  sec_app_revol_util  sec_app_open_act_il  \\\n",
       "2085404               NaN                 NaN                  NaN   \n",
       "1165769               NaN                 NaN                  NaN   \n",
       "973681                NaN                 NaN                  NaN   \n",
       "806774                NaN                 NaN                  NaN   \n",
       "1936175               NaN                 NaN                  NaN   \n",
       "\n",
       "         sec_app_num_rev_accts  sec_app_chargeoff_within_12_mths  \\\n",
       "2085404                    NaN                               NaN   \n",
       "1165769                    NaN                               NaN   \n",
       "973681                     NaN                               NaN   \n",
       "806774                     NaN                               NaN   \n",
       "1936175                    NaN                               NaN   \n",
       "\n",
       "         sec_app_collections_12_mths_ex_med  \\\n",
       "2085404                                 NaN   \n",
       "1165769                                 NaN   \n",
       "973681                                  NaN   \n",
       "806774                                  NaN   \n",
       "1936175                                 NaN   \n",
       "\n",
       "         sec_app_mths_since_last_major_derog hardship_flag hardship_type  \\\n",
       "2085404                                  NaN             N           NaN   \n",
       "1165769                                  NaN             N           NaN   \n",
       "973681                                   NaN             N           NaN   \n",
       "806774                                   NaN             N           NaN   \n",
       "1936175                                  NaN             N           NaN   \n",
       "\n",
       "        hardship_reason hardship_status  deferral_term  hardship_amount  \\\n",
       "2085404             NaN             NaN            NaN              NaN   \n",
       "1165769             NaN             NaN            NaN              NaN   \n",
       "973681              NaN             NaN            NaN              NaN   \n",
       "806774              NaN             NaN            NaN              NaN   \n",
       "1936175             NaN             NaN            NaN              NaN   \n",
       "\n",
       "        hardship_start_date hardship_end_date payment_plan_start_date  \\\n",
       "2085404                 NaN               NaN                     NaN   \n",
       "1165769                 NaN               NaN                     NaN   \n",
       "973681                  NaN               NaN                     NaN   \n",
       "806774                  NaN               NaN                     NaN   \n",
       "1936175                 NaN               NaN                     NaN   \n",
       "\n",
       "         hardship_length  hardship_dpd hardship_loan_status  \\\n",
       "2085404              NaN           NaN                  NaN   \n",
       "1165769              NaN           NaN                  NaN   \n",
       "973681               NaN           NaN                  NaN   \n",
       "806774               NaN           NaN                  NaN   \n",
       "1936175              NaN           NaN                  NaN   \n",
       "\n",
       "         orig_projected_additional_accrued_interest  \\\n",
       "2085404                                         NaN   \n",
       "1165769                                         NaN   \n",
       "973681                                          NaN   \n",
       "806774                                          NaN   \n",
       "1936175                                         NaN   \n",
       "\n",
       "         hardship_payoff_balance_amount  hardship_last_payment_amount  \\\n",
       "2085404                             NaN                           NaN   \n",
       "1165769                             NaN                           NaN   \n",
       "973681                              NaN                           NaN   \n",
       "806774                              NaN                           NaN   \n",
       "1936175                             NaN                           NaN   \n",
       "\n",
       "        disbursement_method debt_settlement_flag debt_settlement_flag_date  \\\n",
       "2085404                Cash                    N                       NaN   \n",
       "1165769                Cash                    N                       NaN   \n",
       "973681                 Cash                    N                       NaN   \n",
       "806774                 Cash                    N                       NaN   \n",
       "1936175                Cash                    N                       NaN   \n",
       "\n",
       "        settlement_status settlement_date  settlement_amount  \\\n",
       "2085404               NaN             NaN                NaN   \n",
       "1165769               NaN             NaN                NaN   \n",
       "973681                NaN             NaN                NaN   \n",
       "806774                NaN             NaN                NaN   \n",
       "1936175               NaN             NaN                NaN   \n",
       "\n",
       "         settlement_percentage  settlement_term  \n",
       "2085404                    NaN              NaN  \n",
       "1165769                    NaN              NaN  \n",
       "973681                     NaN              NaN  \n",
       "806774                     NaN              NaN  \n",
       "1936175                    NaN              NaN  "
      ]
     },
     "execution_count": 6,
     "metadata": {},
     "output_type": "execute_result"
    }
   ],
   "source": [
    "data.sample(5)"
   ]
  },
  {
   "cell_type": "markdown",
   "metadata": {
    "_cell_guid": "6e847348-5344-4ebb-b820-03a772ad5059",
    "_uuid": "841ca8b2103b35b98730139c2e64b790f2edeb89",
    "id": "L-5HkhttV3aH"
   },
   "source": [
    "## 2. Response Variable\n",
    "<a id=\"3\"></a>"
   ]
  },
  {
   "cell_type": "code",
   "execution_count": 7,
   "metadata": {
    "_cell_guid": "d5b467af-c5a1-4ae0-a044-3a421252eb78",
    "_uuid": "84e9c41ee08246a83bc6f8ad04a90c83a1bf408e",
    "colab": {
     "base_uri": "https://localhost:8080/"
    },
    "id": "HC1WA5lYV3aI",
    "outputId": "acc346c5-eda2-4cd5-87bb-ad358e210f4f"
   },
   "outputs": [
    {
     "data": {
      "text/plain": [
       "loan_status\n",
       "Fully Paid                                             1076751\n",
       "Current                                                 878317\n",
       "Charged Off                                             268559\n",
       "Late (31-120 days)                                       21467\n",
       "In Grace Period                                           8436\n",
       "Late (16-30 days)                                         4349\n",
       "Does not meet the credit policy. Status:Fully Paid        1988\n",
       "Does not meet the credit policy. Status:Charged Off        761\n",
       "Default                                                     40\n",
       "NaN                                                         33\n",
       "Name: count, dtype: int64"
      ]
     },
     "execution_count": 7,
     "metadata": {},
     "output_type": "execute_result"
    }
   ],
   "source": [
    "data['loan_status'].value_counts(dropna=False)"
   ]
  },
  {
   "cell_type": "markdown",
   "metadata": {
    "_cell_guid": "527520b1-32a4-4b95-ab0a-b24ac47b3cf6",
    "_uuid": "49a92fd5f4aab3a3561edf9929df506c9fd34a9d",
    "id": "-HO-FAO7V3aI"
   },
   "source": [
    " Cố gắng tìm những khác biệt trong các đặc điểm giữa các khoản vay đã hoàn tất và đã bị thu hồi, không xem xét các khoản vay đang hiện hành, không đáp ứng chính sách tín dụng, đã mặc nợ hoặc có trạng thái thiếu thông tin. Vì vậy, chỉ giữ lại các khoản vay có trạng thái \"Fully Paid\" (Hoàn trả đủ) hoặc \"Charged Off\" (Bị thu hồi)."
   ]
  },
  {
   "cell_type": "code",
   "execution_count": 8,
   "metadata": {
    "_cell_guid": "f4f361b5-32f2-4828-8e37-3e43a32c32c0",
    "_uuid": "5c7dc5453d31b32b849bec55fe252c449d8e9557",
    "id": "whZTl85EV3aI"
   },
   "outputs": [],
   "source": [
    "data = data.loc[data['loan_status'].isin(['Fully Paid', 'Charged Off'])]"
   ]
  },
  {
   "cell_type": "markdown",
   "metadata": {
    "_uuid": "700a8f42b281c1dc0f9a03aef2765f17c03ad5ef",
    "id": "KltMhA9hV3aI"
   },
   "source": [
    "Số khoản vay còn lại trong tập dữ liệu"
   ]
  },
  {
   "cell_type": "code",
   "execution_count": 9,
   "metadata": {
    "_cell_guid": "be5c5ad3-f002-48f3-9695-3a80a1539c1b",
    "_uuid": "c71ee5ec2f8dc3d8297a7eea7eef441f27c51317",
    "colab": {
     "base_uri": "https://localhost:8080/"
    },
    "id": "712HUXHcV3aI",
    "outputId": "de782d4a-e671-4be7-8748-4fca3b49f808"
   },
   "outputs": [
    {
     "data": {
      "text/plain": [
       "(1345310, 151)"
      ]
     },
     "execution_count": 9,
     "metadata": {},
     "output_type": "execute_result"
    }
   ],
   "source": [
    "data.shape"
   ]
  },
  {
   "cell_type": "code",
   "execution_count": 10,
   "metadata": {
    "_cell_guid": "590a5146-c659-43ed-bfb4-7bea32672932",
    "_uuid": "d70396f915861568607ee204c4ff4574f80d5bdc",
    "colab": {
     "base_uri": "https://localhost:8080/"
    },
    "id": "XAFO2LzHV3aJ",
    "outputId": "b9bac895-6c12-4880-e421-bc0ce087ed08"
   },
   "outputs": [
    {
     "data": {
      "text/plain": [
       "loan_status\n",
       "Fully Paid     1076751\n",
       "Charged Off     268559\n",
       "Name: count, dtype: int64"
      ]
     },
     "execution_count": 10,
     "metadata": {},
     "output_type": "execute_result"
    }
   ],
   "source": [
    "data['loan_status'].value_counts(dropna=False)"
   ]
  },
  {
   "cell_type": "markdown",
   "metadata": {
    "_uuid": "d6011be6ec3fa527d90f7a468039506dc3f9dd7c",
    "id": "UToOHyD1V3aJ"
   },
   "source": [
    "Trạng thái được tính theo tỷ lệ phần trăm:"
   ]
  },
  {
   "cell_type": "code",
   "execution_count": 11,
   "metadata": {
    "_cell_guid": "590a5146-c659-43ed-bfb4-7bea32672932",
    "_uuid": "d70396f915861568607ee204c4ff4574f80d5bdc",
    "colab": {
     "base_uri": "https://localhost:8080/"
    },
    "id": "RABp4mQdV3aJ",
    "outputId": "6ecbb1c1-0f9b-44d9-b4e3-d8e938968c7d"
   },
   "outputs": [
    {
     "data": {
      "text/plain": [
       "loan_status\n",
       "Fully Paid     0.800374\n",
       "Charged Off    0.199626\n",
       "Name: proportion, dtype: float64"
      ]
     },
     "execution_count": 11,
     "metadata": {},
     "output_type": "execute_result"
    }
   ],
   "source": [
    "data['loan_status'].value_counts(normalize=True, dropna=False)"
   ]
  },
  {
   "cell_type": "markdown",
   "metadata": {
    "_cell_guid": "c44aa6b1-041a-490e-8f64-81d010b1bf4a",
    "_uuid": "715d0aed4051332c5f32f35142e130e7da555150",
    "id": "wL9YOMfWV3aJ"
   },
   "source": [
    "80% trong số khoản vay còn lại đã được trả đủ và 20% đã bị thu hồi, vì vậy chúng ta đang đối diện với một vấn đề phân loại hơi không cân bằng."
   ]
  },
  {
   "cell_type": "markdown",
   "metadata": {
    "_cell_guid": "a6220e50-5df9-427a-a92b-5e6138234fb9",
    "_uuid": "34206dc6425cbf3c744c23006e6b10f522777a9d",
    "id": "ER3fDghpV3aJ"
   },
   "source": [
    "# 3. Giới hạn các thuộc tính"
   ]
  },
  {
   "cell_type": "markdown",
   "metadata": {
    "_cell_guid": "89f9038c-fb12-46e9-9136-5f5e0a81d2bb",
    "_uuid": "a0a000e470b72a6128fc3ec216e181ab4ccc3809",
    "id": "tS0_tK7FV3aJ"
   },
   "source": [
    "Bộ dữ liệu đầy đủ có 151 thuộc tính cho mỗi khoản vay. Lựa chọn các thuộc tính theo hai bước:\n",
    "\n",
    "- Loại bỏ các thuộc tính mà có hơn 30% dữ liệu bị thiếu.\n",
    "- Từ các thuộc tính còn lại, chỉ chọn những thuộc tính mà một nhà đầu tư có sẵn trước khi quyết định đầu tư vào khoản vay."
   ]
  },
  {
   "cell_type": "markdown",
   "metadata": {
    "_cell_guid": "033676d1-c042-4af2-a41c-1f49d678d03f",
    "_uuid": "6d374ac8147274a76355bbeca958bbcf6ebb1de4",
    "id": "oSjqnIFXV3aJ"
   },
   "source": [
    "## 3.1 Loại bỏ các thuộc tính mà có hơn 30% dữ liệu bị thiếu."
   ]
  },
  {
   "cell_type": "markdown",
   "metadata": {
    "_uuid": "420071fcaa55fe7f5d8195182a7375ced061ad94",
    "id": "4PjSAPKuV3aJ"
   },
   "source": [
    "Đầu tiên, tính phần trăm dữ liệu thiếu cho mỗi đặc điểm:"
   ]
  },
  {
   "cell_type": "code",
   "execution_count": 12,
   "metadata": {
    "_uuid": "7d251f04ab602e23503fcf0568173312a78b8d32",
    "id": "37xHN9ypV3aK"
   },
   "outputs": [],
   "source": [
    "miss_fracs = data.isnull().mean().sort_values(ascending=False)"
   ]
  },
  {
   "cell_type": "code",
   "execution_count": 13,
   "metadata": {
    "_uuid": "e6526659eb9614cdcf86f975678ae2bd07598dd4",
    "colab": {
     "base_uri": "https://localhost:8080/"
    },
    "id": "9p8Wgl6zV3aK",
    "outputId": "4411dff8-3113-4a7a-f68e-bce0be0e684d"
   },
   "outputs": [
    {
     "data": {
      "text/plain": [
       "next_pymnt_d                                  1.000000\n",
       "member_id                                     1.000000\n",
       "orig_projected_additional_accrued_interest    0.997206\n",
       "hardship_start_date                           0.995723\n",
       "hardship_length                               0.995723\n",
       "dtype: float64"
      ]
     },
     "execution_count": 13,
     "metadata": {},
     "output_type": "execute_result"
    }
   ],
   "source": [
    "miss_fracs.head()"
   ]
  },
  {
   "cell_type": "markdown",
   "metadata": {
    "_uuid": "e4b9c8da8bd9cc8c0fd79a18339f2fa326b5a1e7",
    "id": "GBSVurwBV3aK"
   },
   "source": [
    "Trực quan hóa phân phối phần trăm dữ liệu thiếu:"
   ]
  },
  {
   "cell_type": "code",
   "execution_count": 14,
   "metadata": {
    "_uuid": "a69814fcefdd159b82a0317415536bc48ab1467d",
    "colab": {
     "base_uri": "https://localhost:8080/",
     "height": 357
    },
    "id": "n78HxHpeV3aK",
    "outputId": "37a8ee90-8b48-4f7a-97d9-7694e14c7ec2"
   },
   "outputs": [
    {
     "data": {
      "text/plain": [
       "Text(0, 0.5, 'Số lượng thuộc tính')"
      ]
     },
     "execution_count": 14,
     "metadata": {},
     "output_type": "execute_result"
    },
    {
     "data": {
      "image/png": "[encoded data removed]",
      "text/plain": [
       "<Figure size 640x320 with 1 Axes>"
      ]
     },
     "metadata": {},
     "output_type": "display_data"
    }
   ],
   "source": [
    "plt.figure(figsize=(8,4), dpi=80)\n",
    "miss_fracs.plot.hist(bins=10)\n",
    "plt.title('Biểu đồ histogram về tính không đầy đủ của các thuộc tính')\n",
    "plt.xlabel('Tỷ lệ dữ liệu bị thiếu.')\n",
    "plt.ylabel('Số lượng thuộc tính')"
   ]
  },
  {
   "cell_type": "markdown",
   "metadata": {
    "_uuid": "87ae4bb87781f20de21b776d56ed74dbb0d1c3f1",
    "id": "K_mEefrFV3aL"
   },
   "source": [
    "Từ biểu đồ histogram ở trên, thấy có một khoảng lớn giữa các đặc điểm thiếu ít dữ liệu (&lt;20%) và các đặc điểm thiếu nhiều dữ liệu (&gt;50%). Bởi vì thường rất khó để điền dữ liệu một cách chính xác khi có hơn 30% giá trị bị thiếu, sẽ loại bỏ các cột như vậy. Đầu tiên, lưu tất cả các biến có nhiều hơn 30% dữ liệu bị thiếu vào một danh sách theo thứ tự bảng chữ cái:"
   ]
  },
  {
   "cell_type": "code",
   "execution_count": 15,
   "metadata": {
    "_cell_guid": "b2bccd07-6308-4d83-b45a-de8ade091106",
    "_uuid": "dd01b28cdf204ed38fa2d7123254fe9dd5f62c87",
    "colab": {
     "base_uri": "https://localhost:8080/"
    },
    "id": "31fEO-FSV3aL",
    "outputId": "a9c7f9f5-2bbc-4e99-8ac6-52f803d1e2b0"
   },
   "outputs": [
    {
     "data": {
      "text/plain": [
       "['all_util',\n",
       " 'annual_inc_joint',\n",
       " 'debt_settlement_flag_date',\n",
       " 'deferral_term',\n",
       " 'desc',\n",
       " 'dti_joint',\n",
       " 'hardship_amount',\n",
       " 'hardship_dpd',\n",
       " 'hardship_end_date',\n",
       " 'hardship_last_payment_amount',\n",
       " 'hardship_length',\n",
       " 'hardship_loan_status',\n",
       " 'hardship_payoff_balance_amount',\n",
       " 'hardship_reason',\n",
       " 'hardship_start_date',\n",
       " 'hardship_status',\n",
       " 'hardship_type',\n",
       " 'il_util',\n",
       " 'inq_fi',\n",
       " 'inq_last_12m',\n",
       " 'max_bal_bc',\n",
       " 'member_id',\n",
       " 'mths_since_last_delinq',\n",
       " 'mths_since_last_major_derog',\n",
       " 'mths_since_last_record',\n",
       " 'mths_since_rcnt_il',\n",
       " 'mths_since_recent_bc_dlq',\n",
       " 'mths_since_recent_revol_delinq',\n",
       " 'next_pymnt_d',\n",
       " 'open_acc_6m',\n",
       " 'open_act_il',\n",
       " 'open_il_12m',\n",
       " 'open_il_24m',\n",
       " 'open_rv_12m',\n",
       " 'open_rv_24m',\n",
       " 'orig_projected_additional_accrued_interest',\n",
       " 'payment_plan_start_date',\n",
       " 'revol_bal_joint',\n",
       " 'sec_app_chargeoff_within_12_mths',\n",
       " 'sec_app_collections_12_mths_ex_med',\n",
       " 'sec_app_earliest_cr_line',\n",
       " 'sec_app_fico_range_high',\n",
       " 'sec_app_fico_range_low',\n",
       " 'sec_app_inq_last_6mths',\n",
       " 'sec_app_mort_acc',\n",
       " 'sec_app_mths_since_last_major_derog',\n",
       " 'sec_app_num_rev_accts',\n",
       " 'sec_app_open_acc',\n",
       " 'sec_app_open_act_il',\n",
       " 'sec_app_revol_util',\n",
       " 'settlement_amount',\n",
       " 'settlement_date',\n",
       " 'settlement_percentage',\n",
       " 'settlement_status',\n",
       " 'settlement_term',\n",
       " 'total_bal_il',\n",
       " 'total_cu_tl',\n",
       " 'verification_status_joint']"
      ]
     },
     "execution_count": 15,
     "metadata": {},
     "output_type": "execute_result"
    }
   ],
   "source": [
    "drop_lst = sorted(list(miss_fracs[miss_fracs > 0.3].index))\n",
    "drop_lst"
   ]
  },
  {
   "cell_type": "code",
   "execution_count": 16,
   "metadata": {
    "_uuid": "3e8a2790ba4539a693435de10957ba2bd57e4b94",
    "colab": {
     "base_uri": "https://localhost:8080/"
    },
    "id": "X57CArvlV3aL",
    "outputId": "76bbfbd5-b34b-48aa-a088-3294ffe34f63"
   },
   "outputs": [
    {
     "data": {
      "text/plain": [
       "58"
      ]
     },
     "execution_count": 16,
     "metadata": {},
     "output_type": "execute_result"
    }
   ],
   "source": [
    "len(drop_lst)"
   ]
  },
  {
   "cell_type": "markdown",
   "metadata": {
    "_cell_guid": "7fcfae32-fdf5-42af-a14a-0b797c17b034",
    "_uuid": "4477765ea99a243a25421550ff4087b68fc6fa1b",
    "id": "8HB-dzdDV3aP"
   },
   "source": [
    "Loại bỏ các thuộc tính"
   ]
  },
  {
   "cell_type": "code",
   "execution_count": 17,
   "metadata": {
    "_uuid": "437bf9ec0774ae22e6169c3a33beb5379fbd3cb6",
    "id": "cMBg8tmnV3aP"
   },
   "outputs": [],
   "source": [
    "data.drop(labels=drop_lst, axis=1, inplace=True)"
   ]
  },
  {
   "cell_type": "code",
   "execution_count": 18,
   "metadata": {
    "_uuid": "8c6fe3497d5649ee636aa59fae01359191037081",
    "colab": {
     "base_uri": "https://localhost:8080/"
    },
    "id": "tOaGckxxV3aP",
    "outputId": "3d42e0d4-c5bd-464a-c704-a5c53f37cafc"
   },
   "outputs": [
    {
     "data": {
      "text/plain": [
       "(1345310, 93)"
      ]
     },
     "execution_count": 18,
     "metadata": {},
     "output_type": "execute_result"
    }
   ],
   "source": [
    "data.shape"
   ]
  },
  {
   "cell_type": "markdown",
   "metadata": {
    "_cell_guid": "33b90b6b-0fcd-4657-ae11-0ff2f6a95823",
    "_uuid": "4066be79385b7b0c6b7d4f96533106093304b746",
    "id": "q-Xbx5iKV3aP"
   },
   "source": [
    "## 3.2 Chỉ giữ lại các thuộc tính của khoản vay mà các nhà đầu tư tiềm năng biết đến.\n"
   ]
  },
  {
   "cell_type": "markdown",
   "metadata": {
    "_uuid": "62c3981e9d75ab810ca5f667c2c7ebc9796d9e53",
    "id": "8qQYdbYcV3aP"
   },
   "source": [
    "Xem xét trang web của LendingClub và từ điển dữ liệu để xác định những đặc điểm nào sẽ có sẵn cho các nhà đầu tư tiềm năng. Dưới đây là danh sách các đặc điểm mà hiện có, được sắp xếp theo thứ tự bảng chữ cái:"
   ]
  },
  {
   "cell_type": "code",
   "execution_count": 19,
   "metadata": {
    "_uuid": "f2d07ee979231b0ca0ebb4faffb6c3830db5002b",
    "colab": {
     "base_uri": "https://localhost:8080/"
    },
    "id": "dxNp3f8rV3aP",
    "outputId": "e1221ae2-fcba-4b30-9440-61e529417769"
   },
   "outputs": [
    {
     "name": "stdout",
     "output_type": "stream",
     "text": [
      "['acc_now_delinq', 'acc_open_past_24mths', 'addr_state', 'annual_inc', 'application_type', 'avg_cur_bal', 'bc_open_to_buy', 'bc_util', 'chargeoff_within_12_mths', 'collection_recovery_fee', 'collections_12_mths_ex_med', 'debt_settlement_flag', 'delinq_2yrs', 'delinq_amnt', 'disbursement_method', 'dti', 'earliest_cr_line', 'emp_length', 'emp_title', 'fico_range_high', 'fico_range_low', 'funded_amnt', 'funded_amnt_inv', 'grade', 'hardship_flag', 'home_ownership', 'id', 'initial_list_status', 'inq_last_6mths', 'installment', 'int_rate', 'issue_d', 'last_credit_pull_d', 'last_fico_range_high', 'last_fico_range_low', 'last_pymnt_amnt', 'last_pymnt_d', 'loan_amnt', 'loan_status', 'mo_sin_old_il_acct', 'mo_sin_old_rev_tl_op', 'mo_sin_rcnt_rev_tl_op', 'mo_sin_rcnt_tl', 'mort_acc', 'mths_since_recent_bc', 'mths_since_recent_inq', 'num_accts_ever_120_pd', 'num_actv_bc_tl', 'num_actv_rev_tl', 'num_bc_sats', 'num_bc_tl', 'num_il_tl', 'num_op_rev_tl', 'num_rev_accts', 'num_rev_tl_bal_gt_0', 'num_sats', 'num_tl_120dpd_2m', 'num_tl_30dpd', 'num_tl_90g_dpd_24m', 'num_tl_op_past_12m', 'open_acc', 'out_prncp', 'out_prncp_inv', 'pct_tl_nvr_dlq', 'percent_bc_gt_75', 'policy_code', 'pub_rec', 'pub_rec_bankruptcies', 'purpose', 'pymnt_plan', 'recoveries', 'revol_bal', 'revol_util', 'sub_grade', 'tax_liens', 'term', 'title', 'tot_coll_amt', 'tot_cur_bal', 'tot_hi_cred_lim', 'total_acc', 'total_bal_ex_mort', 'total_bc_limit', 'total_il_high_credit_limit', 'total_pymnt', 'total_pymnt_inv', 'total_rec_int', 'total_rec_late_fee', 'total_rec_prncp', 'total_rev_hi_lim', 'url', 'verification_status', 'zip_code']\n"
     ]
    }
   ],
   "source": [
    "print(sorted(data.columns))"
   ]
  },
  {
   "cell_type": "markdown",
   "metadata": {
    "_uuid": "05d0d8edcb6cbbaff458947040bce6c4d9ade780",
    "id": "PRcpTO6rV3aP"
   },
   "source": [
    "Sau khi tìm hiểu thông tin trên mạng\n",
    "1. **Thông Tin Cá Nhân và Nghề Nghiệp**: Các cột như `emp_title`, `emp_length`, `annual_inc`, và `home_ownership` cung cấp thông tin quan trọng về người vay, bao gồm tình trạng việc làm, thu nhập, và tình trạng sở hữu nhà.\n",
    "\n",
    "2. **Thông Tin Tín Dụng và Tài Chính**: Các cột như `fico_range_high`, `fico_range_low`, `dti`, `open_acc`, `total_acc`, `revol_bal`, và `revol_util` phản ánh lịch sử tín dụng và tình hình tài chính của người vay.\n",
    "\n",
    "3. **Thông Tin Khoản Vay**: `loan_amnt`, `term`, `int_rate`, `installment`, `grade`, `sub_grade`, và `loan_status` cung cấp thông tin cụ thể về khoản vay, bao gồm số tiền, điều kiện, lãi suất, và trạng thái hiện tại.\n",
    "\n",
    "4. **Thông Tin Địa Lý**: `addr_state` và `zip_code` cho phép phân tích dựa trên vị trí địa lý, có thể hữu ích trong việc xác định xu hướng vay và trả nợ theo khu vực.\n",
    "\n",
    "5. **Thông Tin Khác**: Các cột như `purpose`, `application_type`, `initial_list_status`, và `verification_status` cung cấp thông tin bổ sung có thể hữu ích trong việc hiểu rõ hơn về mục đích vay, loại hình ứng dụng, và quy trình xác minh.\n",
    "\n"
   ]
  },
  {
   "cell_type": "code",
   "execution_count": 20,
   "metadata": {
    "_uuid": "4e005f74717ed5c8321d04470b81ba875bb38a36",
    "id": "wd4Z2U19V3aQ"
   },
   "outputs": [],
   "source": [
    "keep_list = ['addr_state', 'annual_inc', 'application_type', 'dti', 'earliest_cr_line', 'emp_length', 'emp_title', 'fico_range_high', 'fico_range_low', 'grade', 'home_ownership', 'id', 'initial_list_status', 'installment', 'int_rate', 'issue_d', 'loan_amnt', 'loan_status', 'mort_acc', 'open_acc', 'pub_rec', 'pub_rec_bankruptcies', 'purpose', 'revol_bal', 'revol_util', 'sub_grade', 'term', 'title', 'total_acc', 'verification_status', 'zip_code']"
   ]
  },
  {
   "cell_type": "code",
   "execution_count": 21,
   "metadata": {
    "_uuid": "2162dd1568696c5418f9f983fefba3f5ce3dd672",
    "colab": {
     "base_uri": "https://localhost:8080/"
    },
    "id": "CtrfPIDUV3aQ",
    "outputId": "47bf713a-3147-453e-dada-3716023d6c91"
   },
   "outputs": [
    {
     "data": {
      "text/plain": [
       "31"
      ]
     },
     "execution_count": 21,
     "metadata": {},
     "output_type": "execute_result"
    }
   ],
   "source": [
    "len(keep_list)"
   ]
  },
  {
   "cell_type": "markdown",
   "metadata": {
    "_uuid": "42882834b7e0ec48b266e6b0fb3be39be1fe9f3c",
    "id": "HNVT3HxwV3aQ"
   },
   "source": [
    "Loại bỏ những cột không có trong keep_list"
   ]
  },
  {
   "cell_type": "code",
   "execution_count": 22,
   "metadata": {
    "_uuid": "5d71be62e215ee7a022ab968c78281934a70406c",
    "colab": {
     "base_uri": "https://localhost:8080/"
    },
    "id": "ydXgFsExV3aQ",
    "outputId": "c9ded827-8d08-434c-c7ce-20a61c608ec7"
   },
   "outputs": [
    {
     "name": "stdout",
     "output_type": "stream",
     "text": [
      "['funded_amnt', 'funded_amnt_inv', 'pymnt_plan', 'url', 'delinq_2yrs', 'inq_last_6mths', 'out_prncp', 'out_prncp_inv', 'total_pymnt', 'total_pymnt_inv', 'total_rec_prncp', 'total_rec_int', 'total_rec_late_fee', 'recoveries', 'collection_recovery_fee', 'last_pymnt_d', 'last_pymnt_amnt', 'last_credit_pull_d', 'last_fico_range_high', 'last_fico_range_low', 'collections_12_mths_ex_med', 'policy_code', 'acc_now_delinq', 'tot_coll_amt', 'tot_cur_bal', 'total_rev_hi_lim', 'acc_open_past_24mths', 'avg_cur_bal', 'bc_open_to_buy', 'bc_util', 'chargeoff_within_12_mths', 'delinq_amnt', 'mo_sin_old_il_acct', 'mo_sin_old_rev_tl_op', 'mo_sin_rcnt_rev_tl_op', 'mo_sin_rcnt_tl', 'mths_since_recent_bc', 'mths_since_recent_inq', 'num_accts_ever_120_pd', 'num_actv_bc_tl', 'num_actv_rev_tl', 'num_bc_sats', 'num_bc_tl', 'num_il_tl', 'num_op_rev_tl', 'num_rev_accts', 'num_rev_tl_bal_gt_0', 'num_sats', 'num_tl_120dpd_2m', 'num_tl_30dpd', 'num_tl_90g_dpd_24m', 'num_tl_op_past_12m', 'pct_tl_nvr_dlq', 'percent_bc_gt_75', 'tax_liens', 'tot_hi_cred_lim', 'total_bal_ex_mort', 'total_bc_limit', 'total_il_high_credit_limit', 'hardship_flag', 'disbursement_method', 'debt_settlement_flag']\n"
     ]
    }
   ],
   "source": [
    "drop_list = [col for col in data.columns if col not in keep_list]\n",
    "print(drop_list)"
   ]
  },
  {
   "cell_type": "code",
   "execution_count": 23,
   "metadata": {
    "_uuid": "de22419a196017f4d614fe6b54d9a89b06239aa4",
    "colab": {
     "base_uri": "https://localhost:8080/"
    },
    "id": "PomDnoaJV3aQ",
    "outputId": "8157a347-53a2-4b50-a5fa-cfaa0820ba71"
   },
   "outputs": [
    {
     "data": {
      "text/plain": [
       "62"
      ]
     },
     "execution_count": 23,
     "metadata": {},
     "output_type": "execute_result"
    }
   ],
   "source": [
    "len(drop_list)"
   ]
  },
  {
   "cell_type": "code",
   "execution_count": 24,
   "metadata": {
    "_uuid": "670a69650037e0f702d29a6295635c1cbaa77a60",
    "id": "cbsheyAlV3aQ"
   },
   "outputs": [],
   "source": [
    "data.drop(labels=drop_list, axis=1, inplace=True)"
   ]
  },
  {
   "cell_type": "code",
   "execution_count": 25,
   "metadata": {
    "_uuid": "a3a0281657f9f11b90dc53eccec6510f3f58f3fb",
    "colab": {
     "base_uri": "https://localhost:8080/"
    },
    "id": "8VK5a8DUV3aQ",
    "outputId": "2247452a-7c52-4eb6-84f1-484d76fd9fce"
   },
   "outputs": [
    {
     "data": {
      "text/plain": [
       "(1345310, 31)"
      ]
     },
     "execution_count": 25,
     "metadata": {},
     "output_type": "execute_result"
    }
   ],
   "source": [
    "data.shape"
   ]
  },
  {
   "cell_type": "markdown",
   "metadata": {
    "_uuid": "124e5fa8a0587f1369cb06df468d8bfdcafd3981",
    "id": "6I92mOULV3aR"
   },
   "source": [
    "# 4. Chuẩn bị và phân tích dữ liệu"
   ]
  },
  {
   "cell_type": "markdown",
   "metadata": {
    "_uuid": "1d3a3953b9b9549852306a078a88527abb62b572",
    "id": "YH_tg2J9V3aR"
   },
   "source": [
    "Kiểm tra từng thuộc tính một cách riêng lẻ và thực hiện các bước sau:\n",
    "\n",
    "- Loại bỏ đặc trưng nếu nó không hữu ích cho việc dự đoán tình trạng của khoản vay.\n",
    "- Xem xét thống kê tổng quát và trực quan hóa dữ liệu, vẽ biểu đồ so sánh với tình trạng khoản vay.\n",
    "- Chỉnh sửa đặc trưng để làm cho nó hữu ích hơn cho việc mô hình hóa, nếu cần thiết."
   ]
  },
  {
   "cell_type": "code",
   "execution_count": 26,
   "metadata": {
    "_uuid": "5f56a250db044d8308e38e02e0dc831aa5ffdc5e",
    "id": "OEjF07caV3aR"
   },
   "outputs": [],
   "source": [
    "def plot_variable(col_name, full_name, continuous):\n",
    "\n",
    "    f, (ax1, ax2) = plt.subplots(nrows=1, ncols=2, figsize=(12,3), dpi=90)\n",
    "\n",
    "    # Plot without loan status\n",
    "    if continuous:\n",
    "        sns.distplot(data.loc[data[col_name].notnull(), col_name], kde=False, ax=ax1)\n",
    "    else:\n",
    "        sns.countplot(x=col_name, data=data, order=sorted(data[col_name].dropna().unique()), color='#5975A4', saturation=1, ax=ax1)\n",
    "    ax1.set_xlabel(full_name)\n",
    "    ax1.set_ylabel('Count')\n",
    "    ax1.set_title(full_name)\n",
    "\n",
    "    # Plot with loan status\n",
    "    if continuous:\n",
    "        sns.boxplot(x=col_name, y='loan_status', data=data, ax=ax2)\n",
    "        ax2.set_ylabel('')\n",
    "        ax2.set_title(full_name + ' by Loan Status')\n",
    "    else:\n",
    "        charge_off_rates = data.groupby(col_name)['loan_status'].value_counts(normalize=True).loc[:,'Charged Off']\n",
    "        sns.barplot(x=charge_off_rates.index, y=charge_off_rates.values, color='#5975A4', saturation=1, ax=ax2)\n",
    "        ax2.set_ylabel('Fraction of Loans Charged-off')\n",
    "        ax2.set_title('Charge-off Rate by ' + full_name)\n",
    "    ax2.set_xlabel(full_name)\n",
    "\n",
    "    plt.tight_layout()\n"
   ]
  },
  {
   "cell_type": "markdown",
   "metadata": {
    "_uuid": "5f823799e6d4f7a48d7d5ff97ad563bd60a90ffe",
    "id": "W9Y7DuwlV3aR"
   },
   "source": [
    "## 4.1 ID"
   ]
  },
  {
   "cell_type": "code",
   "execution_count": 27,
   "metadata": {
    "_uuid": "b4c7be9c673679b9594444be67ce1a51eb9d74fd",
    "colab": {
     "base_uri": "https://localhost:8080/"
    },
    "id": "ZShGJEOOV3aS",
    "outputId": "6180652e-4511-4aba-a8c8-97aafa89a064"
   },
   "outputs": [
    {
     "data": {
      "text/plain": [
       "210198      55492833\n",
       "29266       66402569\n",
       "86855       63406463\n",
       "208430      55161435\n",
       "173298      58140443\n",
       "115933      60719378\n",
       "112092      61464245\n",
       "2030798     84545485\n",
       "631803     113178784\n",
       "326101      44926202\n",
       "Name: id, dtype: object"
      ]
     },
     "execution_count": 27,
     "metadata": {},
     "output_type": "execute_result"
    }
   ],
   "source": [
    "data['id'].sample(10)"
   ]
  },
  {
   "cell_type": "markdown",
   "metadata": {
    "_uuid": "209fa6596872c5b10c6a370b884b24210c7d49c4",
    "id": "8amanxxoV3aS"
   },
   "source": [
    "Kiểm tra ID có bị trùng hay không"
   ]
  },
  {
   "cell_type": "code",
   "execution_count": 28,
   "metadata": {
    "_uuid": "2d702b86a18b4f524855b757b59ce90550d26872",
    "colab": {
     "base_uri": "https://localhost:8080/"
    },
    "id": "2jdXiIMtV3aS",
    "outputId": "515aeaaf-928a-4a29-9802-d2b6cba03239"
   },
   "outputs": [
    {
     "data": {
      "text/plain": [
       "count      1345310\n",
       "unique     1345310\n",
       "top       68407277\n",
       "freq             1\n",
       "Name: id, dtype: object"
      ]
     },
     "execution_count": 28,
     "metadata": {},
     "output_type": "execute_result"
    }
   ],
   "source": [
    "data['id'].describe()"
   ]
  },
  {
   "cell_type": "code",
   "execution_count": 29,
   "metadata": {
    "_uuid": "b913d12b8430a05770d4463232ff1ddf731147e6",
    "id": "V5loILisV3aS"
   },
   "outputs": [],
   "source": [
    "data.drop('id', axis=1, inplace=True)"
   ]
  },
  {
   "cell_type": "markdown",
   "metadata": {
    "_uuid": "95acb5d6bac7b9749570bc02ee9caba023c165e7",
    "id": "6v9MzuYDV3aS"
   },
   "source": [
    "## 4.2 loan_amnt"
   ]
  },
  {
   "cell_type": "code",
   "execution_count": 30,
   "metadata": {
    "_uuid": "ad27f5835e0938372708f93148096694f0ffc496",
    "colab": {
     "base_uri": "https://localhost:8080/"
    },
    "id": "oj_YtOM4V3aT",
    "outputId": "3bc072f3-9825-4754-d7c1-dd9c4d14d2ec"
   },
   "outputs": [
    {
     "data": {
      "text/plain": [
       "count    1.345310e+06\n",
       "mean     1.441997e+04\n",
       "std      8.717051e+03\n",
       "min      5.000000e+02\n",
       "25%      8.000000e+03\n",
       "50%      1.200000e+04\n",
       "75%      2.000000e+04\n",
       "max      4.000000e+04\n",
       "Name: loan_amnt, dtype: float64"
      ]
     },
     "execution_count": 30,
     "metadata": {},
     "output_type": "execute_result"
    }
   ],
   "source": [
    "data['loan_amnt'].describe()"
   ]
  },
  {
   "cell_type": "code",
   "execution_count": 31,
   "metadata": {},
   "outputs": [
    {
     "data": {
      "text/html": [
       "<div>\n",
       "<style scoped>\n",
       "    .dataframe tbody tr th:only-of-type {\n",
       "        vertical-align: middle;\n",
       "    }\n",
       "\n",
       "    .dataframe tbody tr th {\n",
       "        vertical-align: top;\n",
       "    }\n",
       "\n",
       "    .dataframe thead th {\n",
       "        text-align: right;\n",
       "    }\n",
       "</style>\n",
       "<table border=\"1\" class=\"dataframe\">\n",
       "  <thead>\n",
       "    <tr style=\"text-align: right;\">\n",
       "      <th></th>\n",
       "      <th>count</th>\n",
       "      <th>mean</th>\n",
       "      <th>std</th>\n",
       "      <th>min</th>\n",
       "      <th>25%</th>\n",
       "      <th>50%</th>\n",
       "      <th>75%</th>\n",
       "      <th>max</th>\n",
       "    </tr>\n",
       "    <tr>\n",
       "      <th>loan_status</th>\n",
       "      <th></th>\n",
       "      <th></th>\n",
       "      <th></th>\n",
       "      <th></th>\n",
       "      <th></th>\n",
       "      <th></th>\n",
       "      <th></th>\n",
       "      <th></th>\n",
       "    </tr>\n",
       "  </thead>\n",
       "  <tbody>\n",
       "    <tr>\n",
       "      <th>Charged Off</th>\n",
       "      <td>268559.0</td>\n",
       "      <td>15565.055444</td>\n",
       "      <td>8814.560077</td>\n",
       "      <td>900.0</td>\n",
       "      <td>9000.0</td>\n",
       "      <td>14350.0</td>\n",
       "      <td>20400.0</td>\n",
       "      <td>40000.0</td>\n",
       "    </tr>\n",
       "    <tr>\n",
       "      <th>Fully Paid</th>\n",
       "      <td>1076751.0</td>\n",
       "      <td>14134.369808</td>\n",
       "      <td>8669.028973</td>\n",
       "      <td>500.0</td>\n",
       "      <td>7500.0</td>\n",
       "      <td>12000.0</td>\n",
       "      <td>20000.0</td>\n",
       "      <td>40000.0</td>\n",
       "    </tr>\n",
       "  </tbody>\n",
       "</table>\n",
       "</div>"
      ],
      "text/plain": [
       "                 count          mean          std    min     25%      50%  \\\n",
       "loan_status                                                                 \n",
       "Charged Off   268559.0  15565.055444  8814.560077  900.0  9000.0  14350.0   \n",
       "Fully Paid   1076751.0  14134.369808  8669.028973  500.0  7500.0  12000.0   \n",
       "\n",
       "                 75%      max  \n",
       "loan_status                    \n",
       "Charged Off  20400.0  40000.0  \n",
       "Fully Paid   20000.0  40000.0  "
      ]
     },
     "execution_count": 31,
     "metadata": {},
     "output_type": "execute_result"
    }
   ],
   "source": [
    "data.groupby('loan_status')['loan_amnt'].describe()"
   ]
  },
  {
   "cell_type": "markdown",
   "metadata": {
    "_uuid": "73d40938f1a11cba241726ac471f7f02dfd99cb6",
    "id": "oemCTN1FV3aT"
   },
   "source": [
    "Số tiền vay dao động từ 500 đô la đến 40.000 đô la, với số tiền trung bình là 12.000 đô"
   ]
  },
  {
   "cell_type": "code",
   "execution_count": 32,
   "metadata": {
    "_uuid": "b0777d32ba3de4a30bff818b7c71d3f7986599e5",
    "colab": {
     "base_uri": "https://localhost:8080/",
     "height": 384
    },
    "id": "Z4E1d8vPV3aT",
    "outputId": "5136dc1d-fc71-4b34-c6f1-1a1505c1f35c"
   },
   "outputs": [
    {
     "name": "stderr",
     "output_type": "stream",
     "text": [
      "C:\\Users\\hoang\\AppData\\Local\\Temp\\ipykernel_22372\\4280792411.py:7: UserWarning: \n",
      "\n",
      "`distplot` is a deprecated function and will be removed in seaborn v0.14.0.\n",
      "\n",
      "Please adapt your code to use either `displot` (a figure-level function with\n",
      "similar flexibility) or `histplot` (an axes-level function for histograms).\n",
      "\n",
      "For a guide to updating your code to use the new functions, please see\n",
      "https://gist.github.com/mwaskom/de44147ed2974457ad6372750bbe5751\n",
      "\n",
      "  sns.distplot(data.loc[data[col_name].notnull(), col_name], kde=False, ax=ax1)\n"
     ]
    },
    {
     "data": {
      "image/png": "[encoded data removed]",
      "text/plain": [
       "<Figure size 1080x270 with 2 Axes>"
      ]
     },
     "metadata": {},
     "output_type": "display_data"
    }
   ],
   "source": [
    "plot_variable('loan_amnt', 'Loan Amount',True)"
   ]
  },
  {
   "cell_type": "markdown",
   "metadata": {
    "_uuid": "55b12b9e2bc64f1df777732279d914c6895a0db8",
    "id": "_AQwGH3GV3aT"
   },
   "source": [
    "Các khoản vay bị xác định là không thu hồi lại được thường có số tiền vay cao hơn. So sánh các thống kê tổng hợp theo tình trạng khoản vay:\n",
    "\n",
    "\n"
   ]
  },
  {
   "cell_type": "code",
   "execution_count": 33,
   "metadata": {
    "_uuid": "e02a9883f576e8f44099f52b689398faac9a5402",
    "colab": {
     "base_uri": "https://localhost:8080/",
     "height": 163
    },
    "id": "HiSMeMf3V3aT",
    "outputId": "801a5832-b0ea-44b5-abb2-2b92b18453ad"
   },
   "outputs": [
    {
     "data": {
      "text/html": [
       "<div>\n",
       "<style scoped>\n",
       "    .dataframe tbody tr th:only-of-type {\n",
       "        vertical-align: middle;\n",
       "    }\n",
       "\n",
       "    .dataframe tbody tr th {\n",
       "        vertical-align: top;\n",
       "    }\n",
       "\n",
       "    .dataframe thead th {\n",
       "        text-align: right;\n",
       "    }\n",
       "</style>\n",
       "<table border=\"1\" class=\"dataframe\">\n",
       "  <thead>\n",
       "    <tr style=\"text-align: right;\">\n",
       "      <th></th>\n",
       "      <th>count</th>\n",
       "      <th>mean</th>\n",
       "      <th>std</th>\n",
       "      <th>min</th>\n",
       "      <th>25%</th>\n",
       "      <th>50%</th>\n",
       "      <th>75%</th>\n",
       "      <th>max</th>\n",
       "    </tr>\n",
       "    <tr>\n",
       "      <th>loan_status</th>\n",
       "      <th></th>\n",
       "      <th></th>\n",
       "      <th></th>\n",
       "      <th></th>\n",
       "      <th></th>\n",
       "      <th></th>\n",
       "      <th></th>\n",
       "      <th></th>\n",
       "    </tr>\n",
       "  </thead>\n",
       "  <tbody>\n",
       "    <tr>\n",
       "      <th>Charged Off</th>\n",
       "      <td>268559.0</td>\n",
       "      <td>15565.055444</td>\n",
       "      <td>8814.560077</td>\n",
       "      <td>900.0</td>\n",
       "      <td>9000.0</td>\n",
       "      <td>14350.0</td>\n",
       "      <td>20400.0</td>\n",
       "      <td>40000.0</td>\n",
       "    </tr>\n",
       "    <tr>\n",
       "      <th>Fully Paid</th>\n",
       "      <td>1076751.0</td>\n",
       "      <td>14134.369808</td>\n",
       "      <td>8669.028973</td>\n",
       "      <td>500.0</td>\n",
       "      <td>7500.0</td>\n",
       "      <td>12000.0</td>\n",
       "      <td>20000.0</td>\n",
       "      <td>40000.0</td>\n",
       "    </tr>\n",
       "  </tbody>\n",
       "</table>\n",
       "</div>"
      ],
      "text/plain": [
       "                 count          mean          std    min     25%      50%  \\\n",
       "loan_status                                                                 \n",
       "Charged Off   268559.0  15565.055444  8814.560077  900.0  9000.0  14350.0   \n",
       "Fully Paid   1076751.0  14134.369808  8669.028973  500.0  7500.0  12000.0   \n",
       "\n",
       "                 75%      max  \n",
       "loan_status                    \n",
       "Charged Off  20400.0  40000.0  \n",
       "Fully Paid   20000.0  40000.0  "
      ]
     },
     "execution_count": 33,
     "metadata": {},
     "output_type": "execute_result"
    }
   ],
   "source": [
    "data.groupby('loan_status')['loan_amnt'].describe()"
   ]
  },
  {
   "cell_type": "markdown",
   "metadata": {
    "_cell_guid": "8e98e8d9-9c8f-49b4-a123-4a11534454e3",
    "_uuid": "77ae6e4830589e4ee9dd0c815043300017c7fd75",
    "id": "o5tSgX-VV3aT"
   },
   "source": [
    "## 4.3 term"
   ]
  },
  {
   "cell_type": "code",
   "execution_count": 34,
   "metadata": {
    "_cell_guid": "e3559ee4-0c7c-4e29-9952-ef06f302937a",
    "_uuid": "b8fa81ef40fc0928639d94608d126039f73e3f3d",
    "colab": {
     "base_uri": "https://localhost:8080/"
    },
    "id": "RtF2ie25V3aT",
    "outputId": "80a04e00-22e7-4e76-ad9b-28bc655c46d6"
   },
   "outputs": [
    {
     "data": {
      "text/plain": [
       "term\n",
       " 36 months    1020743\n",
       " 60 months     324567\n",
       "Name: count, dtype: int64"
      ]
     },
     "execution_count": 34,
     "metadata": {},
     "output_type": "execute_result"
    }
   ],
   "source": [
    "data['term'].value_counts(dropna=False)"
   ]
  },
  {
   "cell_type": "markdown",
   "metadata": {
    "_cell_guid": "a0a18d84-ed5f-4d4f-a377-c877a6d1be54",
    "_uuid": "7abe9deb95eb215cc2c8fa6425cc4d81bbf79bef",
    "id": "T6ngNWnjV3aU"
   },
   "source": [
    "Chuyển `term` sang int."
   ]
  },
  {
   "cell_type": "code",
   "execution_count": 35,
   "metadata": {
    "_cell_guid": "dd9462d5-673b-4dce-ae3b-61f427b1abcb",
    "_uuid": "09eed29a2d6f5e30beec07ae5d29088234c99b1c",
    "id": "vbQz7SDaV3aU"
   },
   "outputs": [],
   "source": [
    "data['term'] = data['term'].apply(lambda x: np.int8(x.split()[0]) if isinstance(x, str) else x)"
   ]
  },
  {
   "cell_type": "code",
   "execution_count": 36,
   "metadata": {
    "_cell_guid": "dd9462d5-673b-4dce-ae3b-61f427b1abcb",
    "_uuid": "09eed29a2d6f5e30beec07ae5d29088234c99b1c",
    "colab": {
     "base_uri": "https://localhost:8080/"
    },
    "id": "vqNy7V8_V3aU",
    "outputId": "869ce19c-2306-4ecb-aa31-4523b09186bd"
   },
   "outputs": [
    {
     "data": {
      "text/plain": [
       "term\n",
       "36    0.758742\n",
       "60    0.241258\n",
       "Name: proportion, dtype: float64"
      ]
     },
     "execution_count": 36,
     "metadata": {},
     "output_type": "execute_result"
    }
   ],
   "source": [
    "data['term'].value_counts(normalize=True)"
   ]
  },
  {
   "cell_type": "markdown",
   "metadata": {
    "_uuid": "38b3f2e509a44b641c95c5bc3853fcb345c15697",
    "id": "2KhQ2ma8V3aU"
   },
   "source": [
    "So sánh tỷ lệ khoản vay không thu hồi theo kỳ hạn vay:\n",
    "\n",
    "\n"
   ]
  },
  {
   "cell_type": "code",
   "execution_count": 37,
   "metadata": {
    "_uuid": "ab9282a1342f830c7676b123093b58e524b51fba",
    "colab": {
     "base_uri": "https://localhost:8080/"
    },
    "id": "Cei7HZ9VV3aU",
    "outputId": "b64086c7-aff5-4983-ee6b-3c5a88d188d8"
   },
   "outputs": [
    {
     "data": {
      "text/plain": [
       "term\n",
       "36    0.159934\n",
       "60    0.324454\n",
       "Name: proportion, dtype: float64"
      ]
     },
     "execution_count": 37,
     "metadata": {},
     "output_type": "execute_result"
    }
   ],
   "source": [
    "\n",
    "data.groupby('term')['loan_status'].value_counts(normalize=True).loc[:,'Charged Off']"
   ]
  },
  {
   "cell_type": "markdown",
   "metadata": {
    "_uuid": "ff84064c77c403999e45c1ecbfb6ced2ed8c4f9b",
    "id": "e9zbyGPcV3aU"
   },
   "source": [
    "Khoảng 76% các khoản vay đã hoàn thành có kỳ hạn ba năm, và phần còn lại có kỳ hạn năm năm. Các khoản vay có kỳ hạn năm năm có khả năng không thu hồi cao hơn hơn hai lần so với các khoản vay có kỳ hạn ba năm."
   ]
  },
  {
   "cell_type": "markdown",
   "metadata": {
    "_uuid": "7c02fe150b628a0131c81494d1e7d55d9116b015",
    "id": "i_Vqz6mWV3aU"
   },
   "source": [
    "## 4.4 int_rate"
   ]
  },
  {
   "cell_type": "code",
   "execution_count": 38,
   "metadata": {
    "_uuid": "2a28a3f5b36127d615812fd74e427ab64909ad78",
    "colab": {
     "base_uri": "https://localhost:8080/"
    },
    "id": "xmfhkVeYV3aU",
    "outputId": "ff12e4bb-a515-471b-d521-fe958e581bcb"
   },
   "outputs": [
    {
     "data": {
      "text/plain": [
       "count    1.345310e+06\n",
       "mean     1.323962e+01\n",
       "std      4.768716e+00\n",
       "min      5.310000e+00\n",
       "25%      9.750000e+00\n",
       "50%      1.274000e+01\n",
       "75%      1.599000e+01\n",
       "max      3.099000e+01\n",
       "Name: int_rate, dtype: float64"
      ]
     },
     "execution_count": 38,
     "metadata": {},
     "output_type": "execute_result"
    }
   ],
   "source": [
    "data['int_rate'].describe()"
   ]
  },
  {
   "cell_type": "markdown",
   "metadata": {
    "_uuid": "d8afea343bab6f8fef2ed3b04d8dcf32a8b1b002",
    "id": "f4T7iKicV3aV"
   },
   "source": [
    "Lãi suất dao động từ 5,31% đến 3,09% (!) với mức trung bình là 1.27%."
   ]
  },
  {
   "cell_type": "code",
   "execution_count": 39,
   "metadata": {
    "_uuid": "68a3574dadbbce75c73a47f7cf9db584ce4bc937",
    "colab": {
     "base_uri": "https://localhost:8080/",
     "height": 384
    },
    "id": "qeo6ycF3V3aV",
    "outputId": "246635a8-f60b-4983-a22e-a3fc5d850e38"
   },
   "outputs": [
    {
     "name": "stderr",
     "output_type": "stream",
     "text": [
      "C:\\Users\\hoang\\AppData\\Local\\Temp\\ipykernel_22372\\4280792411.py:7: UserWarning: \n",
      "\n",
      "`distplot` is a deprecated function and will be removed in seaborn v0.14.0.\n",
      "\n",
      "Please adapt your code to use either `displot` (a figure-level function with\n",
      "similar flexibility) or `histplot` (an axes-level function for histograms).\n",
      "\n",
      "For a guide to updating your code to use the new functions, please see\n",
      "https://gist.github.com/mwaskom/de44147ed2974457ad6372750bbe5751\n",
      "\n",
      "  sns.distplot(data.loc[data[col_name].notnull(), col_name], kde=False, ax=ax1)\n"
     ]
    },
    {
     "data": {
      "image/png": "[encoded data removed]",
      "text/plain": [
       "<Figure size 1080x270 with 2 Axes>"
      ]
     },
     "metadata": {},
     "output_type": "display_data"
    }
   ],
   "source": [
    "plot_variable('int_rate', 'Interest Rate',True)"
   ]
  },
  {
   "cell_type": "markdown",
   "metadata": {
    "_cell_guid": "1fd2a00f-0f95-481c-b9ff-d26526eb5f04",
    "_uuid": "321c4fb18ebd1bcf6689d7a5d3f23f80752bcfb3",
    "id": "fZ2efc4YV3aV"
   },
   "source": [
    "Những khoản vay xấu thường có lãi suất cao hơn đáng kể.\n",
    "\n",
    "So sánh các thống kê tóm tắt theo tình trạng khoản vay."
   ]
  },
  {
   "cell_type": "code",
   "execution_count": 40,
   "metadata": {
    "_uuid": "80b55c5e802619bc4355d97829a361b1cce8d6fb",
    "colab": {
     "base_uri": "https://localhost:8080/",
     "height": 143
    },
    "id": "iTtmL9hSV3aV",
    "outputId": "72f34f2c-4859-480c-d3d7-06517549b8af"
   },
   "outputs": [
    {
     "data": {
      "text/html": [
       "<div>\n",
       "<style scoped>\n",
       "    .dataframe tbody tr th:only-of-type {\n",
       "        vertical-align: middle;\n",
       "    }\n",
       "\n",
       "    .dataframe tbody tr th {\n",
       "        vertical-align: top;\n",
       "    }\n",
       "\n",
       "    .dataframe thead th {\n",
       "        text-align: right;\n",
       "    }\n",
       "</style>\n",
       "<table border=\"1\" class=\"dataframe\">\n",
       "  <thead>\n",
       "    <tr style=\"text-align: right;\">\n",
       "      <th></th>\n",
       "      <th>count</th>\n",
       "      <th>mean</th>\n",
       "      <th>std</th>\n",
       "      <th>min</th>\n",
       "      <th>25%</th>\n",
       "      <th>50%</th>\n",
       "      <th>75%</th>\n",
       "      <th>max</th>\n",
       "    </tr>\n",
       "    <tr>\n",
       "      <th>loan_status</th>\n",
       "      <th></th>\n",
       "      <th></th>\n",
       "      <th></th>\n",
       "      <th></th>\n",
       "      <th></th>\n",
       "      <th></th>\n",
       "      <th></th>\n",
       "      <th></th>\n",
       "    </tr>\n",
       "  </thead>\n",
       "  <tbody>\n",
       "    <tr>\n",
       "      <th>Charged Off</th>\n",
       "      <td>268559.0</td>\n",
       "      <td>15.710714</td>\n",
       "      <td>4.910387</td>\n",
       "      <td>5.31</td>\n",
       "      <td>12.29</td>\n",
       "      <td>15.05</td>\n",
       "      <td>18.55</td>\n",
       "      <td>30.99</td>\n",
       "    </tr>\n",
       "    <tr>\n",
       "      <th>Fully Paid</th>\n",
       "      <td>1076751.0</td>\n",
       "      <td>12.623288</td>\n",
       "      <td>4.527227</td>\n",
       "      <td>5.31</td>\n",
       "      <td>9.17</td>\n",
       "      <td>12.23</td>\n",
       "      <td>15.31</td>\n",
       "      <td>30.99</td>\n",
       "    </tr>\n",
       "  </tbody>\n",
       "</table>\n",
       "</div>"
      ],
      "text/plain": [
       "                 count       mean       std   min    25%    50%    75%    max\n",
       "loan_status                                                                  \n",
       "Charged Off   268559.0  15.710714  4.910387  5.31  12.29  15.05  18.55  30.99\n",
       "Fully Paid   1076751.0  12.623288  4.527227  5.31   9.17  12.23  15.31  30.99"
      ]
     },
     "execution_count": 40,
     "metadata": {},
     "output_type": "execute_result"
    }
   ],
   "source": [
    "data.groupby('loan_status')['int_rate'].describe()"
   ]
  },
  {
   "cell_type": "markdown",
   "metadata": {
    "_uuid": "69010cf27e356e99f2458cc7998a081305a27699",
    "id": "NjZKUDqfV3aV"
   },
   "source": [
    "## 4.5 installment"
   ]
  },
  {
   "cell_type": "code",
   "execution_count": 41,
   "metadata": {
    "_uuid": "da0806285ffdb08c656b7e2df85f92896543edbc",
    "colab": {
     "base_uri": "https://localhost:8080/"
    },
    "id": "NVmkfPd9V3aV",
    "outputId": "ced36b29-449e-4b5d-b24a-35c17142bcac"
   },
   "outputs": [
    {
     "data": {
      "text/plain": [
       "count    1.345310e+06\n",
       "mean     4.380755e+02\n",
       "std      2.615126e+02\n",
       "min      4.930000e+00\n",
       "25%      2.484800e+02\n",
       "50%      3.754300e+02\n",
       "75%      5.807300e+02\n",
       "max      1.719830e+03\n",
       "Name: installment, dtype: float64"
      ]
     },
     "execution_count": 41,
     "metadata": {},
     "output_type": "execute_result"
    }
   ],
   "source": [
    "data['installment'].describe()"
   ]
  },
  {
   "cell_type": "code",
   "execution_count": 42,
   "metadata": {
    "_uuid": "ac3d18cd16e8e4bbb560cba3903e44cdbf5e901f",
    "colab": {
     "base_uri": "https://localhost:8080/",
     "height": 384
    },
    "id": "zQ0WikUkV3aV",
    "outputId": "c04b165b-c2da-4f79-9dcb-8c0a8d4be317"
   },
   "outputs": [
    {
     "name": "stderr",
     "output_type": "stream",
     "text": [
      "C:\\Users\\hoang\\AppData\\Local\\Temp\\ipykernel_22372\\4280792411.py:7: UserWarning: \n",
      "\n",
      "`distplot` is a deprecated function and will be removed in seaborn v0.14.0.\n",
      "\n",
      "Please adapt your code to use either `displot` (a figure-level function with\n",
      "similar flexibility) or `histplot` (an axes-level function for histograms).\n",
      "\n",
      "For a guide to updating your code to use the new functions, please see\n",
      "https://gist.github.com/mwaskom/de44147ed2974457ad6372750bbe5751\n",
      "\n",
      "  sns.distplot(data.loc[data[col_name].notnull(), col_name], kde=False, ax=ax1)\n"
     ]
    },
    {
     "data": {
      "image/png": "[encoded data removed]",
      "text/plain": [
       "<Figure size 1080x270 with 2 Axes>"
      ]
     },
     "metadata": {},
     "output_type": "display_data"
    }
   ],
   "source": [
    "plot_variable('installment', 'Installment', True)"
   ]
  },
  {
   "cell_type": "markdown",
   "metadata": {
    "_cell_guid": "1fd2a00f-0f95-481c-b9ff-d26526eb5f04",
    "_uuid": "321c4fb18ebd1bcf6689d7a5d3f23f80752bcfb3",
    "id": "ESXpzkaTV3aV"
   },
   "source": [
    "Các khoản vay được tính phí có xu hướng trả góp cao hơn. So sánh số liệu thống kê tóm tắt theo tình trạng khoản vay:"
   ]
  },
  {
   "cell_type": "code",
   "execution_count": 43,
   "metadata": {
    "_uuid": "4049b2bf62e31bf9f62e7aeed599ff1af2af6759",
    "colab": {
     "base_uri": "https://localhost:8080/",
     "height": 163
    },
    "id": "qp4P5S-PV3aV",
    "outputId": "43297e0e-a632-4098-9447-27af0d12ba1f"
   },
   "outputs": [
    {
     "data": {
      "text/html": [
       "<div>\n",
       "<style scoped>\n",
       "    .dataframe tbody tr th:only-of-type {\n",
       "        vertical-align: middle;\n",
       "    }\n",
       "\n",
       "    .dataframe tbody tr th {\n",
       "        vertical-align: top;\n",
       "    }\n",
       "\n",
       "    .dataframe thead th {\n",
       "        text-align: right;\n",
       "    }\n",
       "</style>\n",
       "<table border=\"1\" class=\"dataframe\">\n",
       "  <thead>\n",
       "    <tr style=\"text-align: right;\">\n",
       "      <th></th>\n",
       "      <th>count</th>\n",
       "      <th>mean</th>\n",
       "      <th>std</th>\n",
       "      <th>min</th>\n",
       "      <th>25%</th>\n",
       "      <th>50%</th>\n",
       "      <th>75%</th>\n",
       "      <th>max</th>\n",
       "    </tr>\n",
       "    <tr>\n",
       "      <th>loan_status</th>\n",
       "      <th></th>\n",
       "      <th></th>\n",
       "      <th></th>\n",
       "      <th></th>\n",
       "      <th></th>\n",
       "      <th></th>\n",
       "      <th></th>\n",
       "      <th></th>\n",
       "    </tr>\n",
       "  </thead>\n",
       "  <tbody>\n",
       "    <tr>\n",
       "      <th>Charged Off</th>\n",
       "      <td>268559.0</td>\n",
       "      <td>465.147994</td>\n",
       "      <td>262.774106</td>\n",
       "      <td>21.62</td>\n",
       "      <td>275.29</td>\n",
       "      <td>402.83</td>\n",
       "      <td>605.31</td>\n",
       "      <td>1717.63</td>\n",
       "    </tr>\n",
       "    <tr>\n",
       "      <th>Fully Paid</th>\n",
       "      <td>1076751.0</td>\n",
       "      <td>431.323226</td>\n",
       "      <td>260.759563</td>\n",
       "      <td>4.93</td>\n",
       "      <td>240.92</td>\n",
       "      <td>368.26</td>\n",
       "      <td>573.06</td>\n",
       "      <td>1719.83</td>\n",
       "    </tr>\n",
       "  </tbody>\n",
       "</table>\n",
       "</div>"
      ],
      "text/plain": [
       "                 count        mean         std    min     25%     50%     75%  \\\n",
       "loan_status                                                                     \n",
       "Charged Off   268559.0  465.147994  262.774106  21.62  275.29  402.83  605.31   \n",
       "Fully Paid   1076751.0  431.323226  260.759563   4.93  240.92  368.26  573.06   \n",
       "\n",
       "                 max  \n",
       "loan_status           \n",
       "Charged Off  1717.63  \n",
       "Fully Paid   1719.83  "
      ]
     },
     "execution_count": 43,
     "metadata": {},
     "output_type": "execute_result"
    }
   ],
   "source": [
    "data.groupby('loan_status')['installment'].describe()"
   ]
  },
  {
   "cell_type": "markdown",
   "metadata": {
    "_cell_guid": "1b745ce5-987f-45b9-8e3f-6d5f760e3a7c",
    "_uuid": "687c301f0bd5f40efdeca5307e9d0cb6a1fb6161",
    "id": "6O5VjS_SV3aW"
   },
   "source": [
    "## 4.6 grade, sub_grade"
   ]
  },
  {
   "cell_type": "markdown",
   "metadata": {
    "_uuid": "9eb0727bb28ab80ba2c3b1300a079256da360537",
    "id": "8iG3Fe6ZV3aW"
   },
   "source": [
    "Định nghĩa cho grade: \"LendingClub chỉ định cấp độ cho vay.\"\n",
    "\n",
    "Định nghĩa cho sub_grade: \"LendingClub chỉ định cấp độ cho vay dưới cấp grade.\"\n",
    "\n",
    "Các giá trị có thể có của grade và sub_grade là gì?"
   ]
  },
  {
   "cell_type": "code",
   "execution_count": 44,
   "metadata": {
    "_uuid": "6403890cc7037a7c67c7b7aa9d48250647b4d0a2",
    "colab": {
     "base_uri": "https://localhost:8080/"
    },
    "id": "a8ajNcA_V3aW",
    "outputId": "e7fa6140-bb23-4ac3-ddff-5ce02cb34e93"
   },
   "outputs": [
    {
     "name": "stdout",
     "output_type": "stream",
     "text": [
      "['A', 'B', 'C', 'D', 'E', 'F', 'G']\n"
     ]
    }
   ],
   "source": [
    "print(sorted(data['grade'].unique()))"
   ]
  },
  {
   "cell_type": "code",
   "execution_count": 45,
   "metadata": {
    "_uuid": "94b94f61439057a90672001d9aa02422b6457ad7",
    "colab": {
     "base_uri": "https://localhost:8080/"
    },
    "id": "elylyAlVV3aW",
    "outputId": "63fb8381-db96-4d38-826b-7c56bd8c6ba3",
    "scrolled": true
   },
   "outputs": [
    {
     "name": "stdout",
     "output_type": "stream",
     "text": [
      "['A1', 'A2', 'A3', 'A4', 'A5', 'B1', 'B2', 'B3', 'B4', 'B5', 'C1', 'C2', 'C3', 'C4', 'C5', 'D1', 'D2', 'D3', 'D4', 'D5', 'E1', 'E2', 'E3', 'E4', 'E5', 'F1', 'F2', 'F3', 'F4', 'F5', 'G1', 'G2', 'G3', 'G4', 'G5']\n"
     ]
    }
   ],
   "source": [
    "print(sorted(data['sub_grade'].unique()))"
   ]
  },
  {
   "cell_type": "markdown",
   "metadata": {
    "_cell_guid": "b1d34f86-4ffb-4024-ad0f-714bd5cb3f21",
    "_uuid": "efb24fbebc6a4b092a37b79e7fb6f29133d3315a",
    "id": "FeSt2iXmV3aW"
   },
   "source": [
    "Cột grade có thể được suy ra từ cột subgrade, vì vậy bỏ đi cột grade."
   ]
  },
  {
   "cell_type": "code",
   "execution_count": 46,
   "metadata": {
    "_cell_guid": "9c00600b-0a58-4648-9448-4e960b705eb6",
    "_uuid": "a46021ef96a484732a847ed2f3cece9d423f73ec",
    "id": "_tkD5yh1V3aW"
   },
   "outputs": [],
   "source": [
    "data.drop('grade', axis=1, inplace=True)"
   ]
  },
  {
   "cell_type": "code",
   "execution_count": 47,
   "metadata": {
    "colab": {
     "base_uri": "https://localhost:8080/"
    },
    "id": "VRArt94F1qer",
    "outputId": "f694694a-5d10-4e0d-abf0-2ed80c355fec"
   },
   "outputs": [
    {
     "data": {
      "text/plain": [
       "Index(['loan_amnt', 'term', 'int_rate', 'installment', 'sub_grade',\n",
       "       'emp_title', 'emp_length', 'home_ownership', 'annual_inc',\n",
       "       'verification_status', 'issue_d', 'loan_status', 'purpose', 'title',\n",
       "       'zip_code', 'addr_state', 'dti', 'earliest_cr_line', 'fico_range_low',\n",
       "       'fico_range_high', 'open_acc', 'pub_rec', 'revol_bal', 'revol_util',\n",
       "       'total_acc', 'initial_list_status', 'application_type', 'mort_acc',\n",
       "       'pub_rec_bankruptcies'],\n",
       "      dtype='object')"
      ]
     },
     "execution_count": 47,
     "metadata": {},
     "output_type": "execute_result"
    }
   ],
   "source": [
    "data.columns"
   ]
  },
  {
   "cell_type": "code",
   "execution_count": 48,
   "metadata": {
    "_uuid": "68a3be24bccbfbef0c941d0b72f660fa79cb2c49",
    "colab": {
     "base_uri": "https://localhost:8080/",
     "height": 168
    },
    "id": "76-d2LOCV3aW",
    "outputId": "ceb4dbbd-d2c5-4233-cc45-5beab026d0e4"
   },
   "outputs": [
    {
     "data": {
      "image/png": "[encoded data removed]",
      "text/plain": [
       "<Figure size 1080x270 with 2 Axes>"
      ]
     },
     "metadata": {},
     "output_type": "display_data"
    }
   ],
   "source": [
    "plot_variable('sub_grade', 'Subgrade', False)"
   ]
  },
  {
   "cell_type": "markdown",
   "metadata": {
    "_cell_guid": "e53dbddd-aff4-4d44-bc8e-a7637e953ab0",
    "_uuid": "cf7685607c32b9857f4fc0cce38c6feea215e2fe",
    "id": "MxtoFNpLV3aW"
   },
   "source": [
    "Ta thấy rõ ràng xu hướng về khả năng bị thu phí cao hơn khi nền đường xuống cấp."
   ]
  },
  {
   "cell_type": "markdown",
   "metadata": {
    "_uuid": "176d209faeba93fcda6dc874e0ea8873d93ddf36",
    "id": "tg69yKa0V3aX"
   },
   "source": [
    "## 4.7 emp_title"
   ]
  },
  {
   "cell_type": "markdown",
   "metadata": {
    "_uuid": "09bbce0a755b580414baa471edbdad512f1a7c8c",
    "id": "s8mm7oxYV3aX"
   },
   "source": [
    "Định nghĩa: \" Chức danh công việc do bên vay cung cấp khi đăng ký vay.\""
   ]
  },
  {
   "cell_type": "code",
   "execution_count": 49,
   "metadata": {
    "_uuid": "0f596ada42ac82c1db638803a0428a8aa3e5e4f0",
    "colab": {
     "base_uri": "https://localhost:8080/"
    },
    "id": "cjhE9AhgV3aX",
    "outputId": "b52a2dc2-f994-4889-e97e-1f00d1f11792"
   },
   "outputs": [
    {
     "data": {
      "text/plain": [
       "count     1259525\n",
       "unique     378353\n",
       "top       Teacher\n",
       "freq        21268\n",
       "Name: emp_title, dtype: object"
      ]
     },
     "execution_count": 49,
     "metadata": {},
     "output_type": "execute_result"
    }
   ],
   "source": [
    "data['emp_title'].describe()"
   ]
  },
  {
   "cell_type": "markdown",
   "metadata": {
    "_uuid": "b2a9b7fcde5483287263d897cb8e537efbbfdf79",
    "id": "ClvEmFZFV3aX"
   },
   "source": [
    "Có quá nhiều chức danh công việc khác nhau, không cần thiết nên bỏ nó đi."
   ]
  },
  {
   "cell_type": "code",
   "execution_count": 50,
   "metadata": {
    "_uuid": "019bb5ce0654b539155a5a92a53a961cd3cb6f0a",
    "id": "WYqJ2jRkV3aX"
   },
   "outputs": [],
   "source": [
    "data.drop(labels='emp_title', axis=1, inplace=True)"
   ]
  },
  {
   "cell_type": "markdown",
   "metadata": {
    "_cell_guid": "98efbb15-f5d7-42ef-992a-92bb0860a803",
    "_uuid": "e84911043e002622f7c181e2be71d09ac277dbc8",
    "id": "96ioC5LjV3aX"
   },
   "source": [
    "## 4.8 emp_length"
   ]
  },
  {
   "cell_type": "markdown",
   "metadata": {
    "_uuid": "de9e35fb71df64e54381182fb7b94e0ebaa6a326",
    "id": "tDXxI-HjV3aX"
   },
   "source": [
    "Định nghĩa : \"Thời gian làm việc tính bằng năm. Các giá trị có thể nằm trong khoảng từ 0 đến 10 trong đó 0 có nghĩa là dưới một năm và 10 có nghĩa là mười năm trở lên.\" Dữ liệu thực tế không khớp với mô tả này:"
   ]
  },
  {
   "cell_type": "code",
   "execution_count": 51,
   "metadata": {
    "_cell_guid": "a60d507b-dc0d-4e44-912e-0d214b1b85a9",
    "_uuid": "372fd175e1e4458f8a9bc860fd91798d696892be",
    "colab": {
     "base_uri": "https://localhost:8080/"
    },
    "id": "lquP5CxBV3aX",
    "outputId": "4f9be0bb-88da-42bc-97d5-a33b61f0c6c9"
   },
   "outputs": [
    {
     "data": {
      "text/plain": [
       "emp_length\n",
       "1 year        88494\n",
       "10+ years    442199\n",
       "2 years      121743\n",
       "3 years      107597\n",
       "4 years       80556\n",
       "5 years       84154\n",
       "6 years       62733\n",
       "7 years       59624\n",
       "8 years       60701\n",
       "9 years       50937\n",
       "< 1 year     108061\n",
       "NaN           78511\n",
       "Name: count, dtype: int64"
      ]
     },
     "execution_count": 51,
     "metadata": {},
     "output_type": "execute_result"
    }
   ],
   "source": [
    "data['emp_length'].value_counts(dropna=False).sort_index()"
   ]
  },
  {
   "cell_type": "markdown",
   "metadata": {
    "_uuid": "6d2cb6f524058af4c44e7a8a23f655aa5b031f53",
    "id": "DcND0ebtV3aX"
   },
   "source": [
    "Lưu ý có 78511 khoản vay không có dữ liệu về thời gian làm việc.\n",
    "\n",
    "Chuyển kiểu `emp_length` thành số nguyên:"
   ]
  },
  {
   "cell_type": "code",
   "execution_count": 52,
   "metadata": {
    "_uuid": "d0391a976bbf82fcb83a3d6f63f9ca6bf3266972",
    "id": "dmXgWq3BV3aX"
   },
   "outputs": [],
   "source": [
    "data['emp_length'].replace(to_replace='10+ years', value='10 years', inplace=True)"
   ]
  },
  {
   "cell_type": "code",
   "execution_count": 53,
   "metadata": {
    "_uuid": "58d4ab69614601a658ac288c1878a2b9295cf10f",
    "id": "BSqeq4VzV3aY"
   },
   "outputs": [],
   "source": [
    "data['emp_length'].replace('< 1 year', '0 years', inplace=True)"
   ]
  },
  {
   "cell_type": "code",
   "execution_count": 54,
   "metadata": {
    "_cell_guid": "f5ce8306-8ca3-4a78-8332-7a12fd233f98",
    "_uuid": "fc61f2f288d38767f5fa1e3f7df5b58c7bc52a35",
    "id": "9EXBNakrV3aY"
   },
   "outputs": [],
   "source": [
    "def emp_length_to_int(s):\n",
    "    if pd.isnull(s):\n",
    "        return s\n",
    "    else:\n",
    "        return np.int8(s.split()[0])"
   ]
  },
  {
   "cell_type": "code",
   "execution_count": 55,
   "metadata": {
    "_cell_guid": "f5ce8306-8ca3-4a78-8332-7a12fd233f98",
    "_uuid": "fc61f2f288d38767f5fa1e3f7df5b58c7bc52a35",
    "id": "GO9ePWGeV3aY"
   },
   "outputs": [],
   "source": [
    "data['emp_length'] = data['emp_length'].apply(emp_length_to_int)"
   ]
  },
  {
   "cell_type": "code",
   "execution_count": 56,
   "metadata": {
    "_cell_guid": "f5ce8306-8ca3-4a78-8332-7a12fd233f98",
    "_uuid": "fc61f2f288d38767f5fa1e3f7df5b58c7bc52a35",
    "colab": {
     "base_uri": "https://localhost:8080/"
    },
    "id": "470Wg0JzV3aY",
    "outputId": "3a3642b9-1bcc-4114-c1bd-9af4976336ce"
   },
   "outputs": [
    {
     "data": {
      "text/plain": [
       "emp_length\n",
       "0.0     108061\n",
       "1.0      88494\n",
       "2.0     121743\n",
       "3.0     107597\n",
       "4.0      80556\n",
       "5.0      84154\n",
       "6.0      62733\n",
       "7.0      59624\n",
       "8.0      60701\n",
       "9.0      50937\n",
       "10.0    442199\n",
       "NaN      78511\n",
       "Name: count, dtype: int64"
      ]
     },
     "execution_count": 56,
     "metadata": {},
     "output_type": "execute_result"
    }
   ],
   "source": [
    "data['emp_length'].value_counts(dropna=False).sort_index()"
   ]
  },
  {
   "cell_type": "code",
   "execution_count": 57,
   "metadata": {
    "_uuid": "ed062f960c9fb30cb1d5dbd4892a319b12814d8b",
    "colab": {
     "base_uri": "https://localhost:8080/",
     "height": 167
    },
    "id": "yRzsHa9JV3aY",
    "outputId": "5f30d52a-0e68-4995-99f2-a5b404c328dd"
   },
   "outputs": [
    {
     "data": {
      "image/png": "[encoded data removed]",
      "text/plain": [
       "<Figure size 1080x270 with 2 Axes>"
      ]
     },
     "metadata": {},
     "output_type": "display_data"
    }
   ],
   "source": [
    "plot_variable('emp_length', 'Employment Length', False)"
   ]
  },
  {
   "cell_type": "markdown",
   "metadata": {
    "_uuid": "1301a21538be386af061a7eaf967ed3714d924b6",
    "id": "z4mJrwawV3aY"
   },
   "source": [
    "Tình trạng khoản vay dường như không thay đổi nhiều theo thời gian làm việc trung bình, ngoại trừ một khoản giảm nhẹ đối với những người đi vay có trên 10 năm làm việc."
   ]
  },
  {
   "cell_type": "markdown",
   "metadata": {
    "_cell_guid": "e994c5db-880e-4ec0-8cbd-4aacad373993",
    "_uuid": "332158cff90d2e051f5a80bee5983019ada32a30",
    "id": "gOzan8t8V3aY"
   },
   "source": [
    "## 4.9 home_ownership"
   ]
  },
  {
   "cell_type": "markdown",
   "metadata": {
    "_uuid": "267058a2938fbadf9cc48efe9fe6474aa65ab95b",
    "id": "jofDbmYFV3aY"
   },
   "source": [
    "Định nghĩa: \"Tình trạng sở hữu nhà do người vay cung cấp trong quá trình đăng ký hoặc lấy được từ báo cáo tín dụng. Các giá trị của chúng tôi là: THUÊ, SỞ HỮU, THẾ CHẤP, KHÁC (RENT, OWN, MORTGAGE, OTHER).\""
   ]
  },
  {
   "cell_type": "code",
   "execution_count": 58,
   "metadata": {
    "_cell_guid": "d574efb7-1a6b-4ec2-a446-827d75d0d9cf",
    "_uuid": "017c6be384f35a700cebfa761dbaee4ec6b73256",
    "colab": {
     "base_uri": "https://localhost:8080/"
    },
    "id": "-2YgjLpVV3aY",
    "outputId": "10aa7e04-8848-4926-d82c-b32d6e64df9c"
   },
   "outputs": [
    {
     "data": {
      "text/plain": [
       "home_ownership\n",
       "MORTGAGE    665579\n",
       "RENT        534421\n",
       "OWN         144832\n",
       "ANY            286\n",
       "OTHER          144\n",
       "NONE            48\n",
       "Name: count, dtype: int64"
      ]
     },
     "execution_count": 58,
     "metadata": {},
     "output_type": "execute_result"
    }
   ],
   "source": [
    "data['home_ownership'].value_counts(dropna=False)"
   ]
  },
  {
   "cell_type": "markdown",
   "metadata": {
    "_uuid": "026cafca68a89a5e27e0de6dbe0416540e1ebfb5",
    "id": "eNEj0JehV3aZ"
   },
   "source": [
    "Thay thế các giá trị BẤT KỲ và NONE bằng OTHER:"
   ]
  },
  {
   "cell_type": "code",
   "execution_count": 59,
   "metadata": {
    "_uuid": "98e072c98be007e9ad879bd642a3f28d17cf0ef5",
    "id": "bRBr8P-SV3aZ"
   },
   "outputs": [],
   "source": [
    "data['home_ownership'].replace(['NONE', 'ANY'], 'OTHER', inplace=True)"
   ]
  },
  {
   "cell_type": "code",
   "execution_count": 60,
   "metadata": {
    "_uuid": "5311d93a7dbdf5fd53fa3e0dbaf1619e292755b9",
    "colab": {
     "base_uri": "https://localhost:8080/"
    },
    "id": "67EDXH76V3aZ",
    "outputId": "027bfdd0-5518-439b-afbc-17d0f257a27e"
   },
   "outputs": [
    {
     "data": {
      "text/plain": [
       "home_ownership\n",
       "MORTGAGE    665579\n",
       "RENT        534421\n",
       "OWN         144832\n",
       "OTHER          478\n",
       "Name: count, dtype: int64"
      ]
     },
     "execution_count": 60,
     "metadata": {},
     "output_type": "execute_result"
    }
   ],
   "source": [
    "data['home_ownership'].value_counts(dropna=False)"
   ]
  },
  {
   "cell_type": "code",
   "execution_count": 61,
   "metadata": {
    "_uuid": "fecf1daf53d2fbbfd7626b1dfeda7c8c4d68ce70",
    "colab": {
     "base_uri": "https://localhost:8080/",
     "height": 167
    },
    "id": "PSrtK5AdV3aZ",
    "outputId": "b3983324-86e3-4c23-efb6-3a1b404773f0"
   },
   "outputs": [
    {
     "data": {
      "image/png": "[encoded data removed]",
      "text/plain": [
       "<Figure size 1080x270 with 2 Axes>"
      ]
     },
     "metadata": {},
     "output_type": "display_data"
    }
   ],
   "source": [
    "plot_variable('home_ownership', 'Home Ownership', False)"
   ]
  },
  {
   "cell_type": "markdown",
   "metadata": {
    "_uuid": "b840f99998fc7cbfd7e395f7b06b7b2da46231f5",
    "id": "xsu8g3kXV3aZ"
   },
   "source": [
    "Dường như có sự khác biệt lớn về tỷ lệ tính phí theo tình trạng sở hữu nhà. Người thuê nhà và chủ sở hữu nhà có khả năng bị tính phí cao hơn.\n",
    "\n",
    "So sánh tỷ lệ tính phí:"
   ]
  },
  {
   "cell_type": "code",
   "execution_count": 62,
   "metadata": {
    "_uuid": "76bc94460d1679808d930020cd3d8c912853ab02",
    "colab": {
     "base_uri": "https://localhost:8080/"
    },
    "id": "QTSNWrJ5V3aZ",
    "outputId": "4f087921-3fdb-4806-fb38-2952c73374a8"
   },
   "outputs": [
    {
     "data": {
      "text/plain": [
       "home_ownership\n",
       "MORTGAGE    0.172077\n",
       "OTHER       0.188285\n",
       "OWN         0.206198\n",
       "RENT        0.232165\n",
       "Name: proportion, dtype: float64"
      ]
     },
     "execution_count": 62,
     "metadata": {},
     "output_type": "execute_result"
    }
   ],
   "source": [
    "data.groupby('home_ownership')['loan_status'].value_counts(normalize=True).loc[:,'Charged Off']"
   ]
  },
  {
   "cell_type": "markdown",
   "metadata": {
    "_uuid": "65606df932385c3701a621e1b28675e327cb4694",
    "id": "-6S7kIN3V3aZ"
   },
   "source": [
    "## 4.10 annual_inc"
   ]
  },
  {
   "cell_type": "markdown",
   "metadata": {
    "_uuid": "65b83b1fcba64ad4b9ee8fddfdcced4eb6f23c4d",
    "id": "DsALDHM6V3aa"
   },
   "source": [
    "Định nghĩa: \"Thu nhập hàng năm tự báo cáo do người vay cung cấp trong quá trình đăng ký.\""
   ]
  },
  {
   "cell_type": "code",
   "execution_count": 63,
   "metadata": {
    "_uuid": "7fa40eca6b607ce35b5f34d1d02ddc963fdf0074",
    "colab": {
     "base_uri": "https://localhost:8080/"
    },
    "id": "vTvD3kxYV3aa",
    "outputId": "5bdaf539-1ead-4395-b8fa-14397f8eb838"
   },
   "outputs": [
    {
     "data": {
      "text/plain": [
       "count    1.345310e+06\n",
       "mean     7.624764e+04\n",
       "std      6.992510e+04\n",
       "min      0.000000e+00\n",
       "25%      4.578000e+04\n",
       "50%      6.500000e+04\n",
       "75%      9.000000e+04\n",
       "max      1.099920e+07\n",
       "Name: annual_inc, dtype: float64"
      ]
     },
     "execution_count": 63,
     "metadata": {},
     "output_type": "execute_result"
    }
   ],
   "source": [
    "data['annual_inc'].describe()"
   ]
  },
  {
   "cell_type": "markdown",
   "metadata": {
    "_uuid": "8528a8d00474e62dcc0aa9f4aa5eec2e4b232451",
    "id": "xRzQ8sEQV3aa"
   },
   "source": [
    "    Thu nhập hàng năm dao động từ $0 đến $10,990,000, với mức trung bình là $65,000. Do có nhiều mức thu nhập khác nhau nên chúng ta nên lấy phép biến đổi logarit của biến thu nhập hàng năm."
   ]
  },
  {
   "cell_type": "code",
   "execution_count": 64,
   "metadata": {
    "_uuid": "629e0a263df7c3f174251bceb46a0f7b56763af5",
    "id": "8p_HmE4YV3aa"
   },
   "outputs": [],
   "source": [
    "data['log_annual_inc'] = data['annual_inc'].apply(lambda x: np.log10(x+1))"
   ]
  },
  {
   "cell_type": "code",
   "execution_count": 65,
   "metadata": {
    "_uuid": "f5da594512f3e0bda4dbcff7f14d4960d117a090",
    "id": "6uyDamBOV3aa"
   },
   "outputs": [],
   "source": [
    "data.drop('annual_inc', axis=1, inplace=True)"
   ]
  },
  {
   "cell_type": "code",
   "execution_count": 66,
   "metadata": {
    "_uuid": "26692c73baef3581133ce39ad3589e8f95a06a09",
    "colab": {
     "base_uri": "https://localhost:8080/"
    },
    "id": "-YXwDUulV3aa",
    "outputId": "4e887dcf-d9ab-4969-f178-7866f06219c1"
   },
   "outputs": [
    {
     "data": {
      "text/plain": [
       "count    1.345310e+06\n",
       "mean     4.812814e+00\n",
       "std      2.477200e-01\n",
       "min      0.000000e+00\n",
       "25%      4.660685e+00\n",
       "50%      4.812920e+00\n",
       "75%      4.954247e+00\n",
       "max      7.041361e+00\n",
       "Name: log_annual_inc, dtype: float64"
      ]
     },
     "execution_count": 66,
     "metadata": {},
     "output_type": "execute_result"
    }
   ],
   "source": [
    "data['log_annual_inc'].describe()"
   ]
  },
  {
   "cell_type": "code",
   "execution_count": 67,
   "metadata": {
    "_uuid": "f46d1c2e9acf9abe31d10da67e0983fe5ac97465",
    "colab": {
     "base_uri": "https://localhost:8080/",
     "height": 384
    },
    "id": "nQZoDt2dV3aa",
    "outputId": "1adf9e0b-7c40-4fbf-96ac-81c81e2048ab"
   },
   "outputs": [
    {
     "name": "stderr",
     "output_type": "stream",
     "text": [
      "C:\\Users\\hoang\\AppData\\Local\\Temp\\ipykernel_22372\\4280792411.py:7: UserWarning: \n",
      "\n",
      "`distplot` is a deprecated function and will be removed in seaborn v0.14.0.\n",
      "\n",
      "Please adapt your code to use either `displot` (a figure-level function with\n",
      "similar flexibility) or `histplot` (an axes-level function for histograms).\n",
      "\n",
      "For a guide to updating your code to use the new functions, please see\n",
      "https://gist.github.com/mwaskom/de44147ed2974457ad6372750bbe5751\n",
      "\n",
      "  sns.distplot(data.loc[data[col_name].notnull(), col_name], kde=False, ax=ax1)\n"
     ]
    },
    {
     "data": {
      "image/png": "[encoded data removed]",
      "text/plain": [
       "<Figure size 1080x270 with 2 Axes>"
      ]
     },
     "metadata": {},
     "output_type": "display_data"
    }
   ],
   "source": [
    "plot_variable('log_annual_inc', 'Log Annual Income', True)"
   ]
  },
  {
   "cell_type": "markdown",
   "metadata": {
    "_uuid": "f940872d6034e5fdeb1b4561a926fb2e3ce3b0d2",
    "id": "jIDPDFUxV3aa"
   },
   "source": [
    "Có vẻ như những cá nhân có thu nhập cao hơn có nhiều khả năng trả hết các khoản vay của họ hơn.\n",
    "\n",
    "So sánh số liệu thống kê tóm tắt theo tình trạng khoản vay:"
   ]
  },
  {
   "cell_type": "code",
   "execution_count": 68,
   "metadata": {
    "_uuid": "3db85420d3a989d7a4890854e14c9122ce83142a",
    "colab": {
     "base_uri": "https://localhost:8080/",
     "height": 163
    },
    "id": "je3Uc2G4V3aa",
    "outputId": "9221a8ee-5eca-4c68-a017-a60268aa4f60"
   },
   "outputs": [
    {
     "data": {
      "text/html": [
       "<div>\n",
       "<style scoped>\n",
       "    .dataframe tbody tr th:only-of-type {\n",
       "        vertical-align: middle;\n",
       "    }\n",
       "\n",
       "    .dataframe tbody tr th {\n",
       "        vertical-align: top;\n",
       "    }\n",
       "\n",
       "    .dataframe thead th {\n",
       "        text-align: right;\n",
       "    }\n",
       "</style>\n",
       "<table border=\"1\" class=\"dataframe\">\n",
       "  <thead>\n",
       "    <tr style=\"text-align: right;\">\n",
       "      <th></th>\n",
       "      <th>count</th>\n",
       "      <th>mean</th>\n",
       "      <th>std</th>\n",
       "      <th>min</th>\n",
       "      <th>25%</th>\n",
       "      <th>50%</th>\n",
       "      <th>75%</th>\n",
       "      <th>max</th>\n",
       "    </tr>\n",
       "    <tr>\n",
       "      <th>loan_status</th>\n",
       "      <th></th>\n",
       "      <th></th>\n",
       "      <th></th>\n",
       "      <th></th>\n",
       "      <th></th>\n",
       "      <th></th>\n",
       "      <th></th>\n",
       "      <th></th>\n",
       "    </tr>\n",
       "  </thead>\n",
       "  <tbody>\n",
       "    <tr>\n",
       "      <th>Charged Off</th>\n",
       "      <td>268559.0</td>\n",
       "      <td>4.781756</td>\n",
       "      <td>0.241984</td>\n",
       "      <td>0.0</td>\n",
       "      <td>4.633479</td>\n",
       "      <td>4.778158</td>\n",
       "      <td>4.929424</td>\n",
       "      <td>6.977724</td>\n",
       "    </tr>\n",
       "    <tr>\n",
       "      <th>Fully Paid</th>\n",
       "      <td>1076751.0</td>\n",
       "      <td>4.820560</td>\n",
       "      <td>0.248526</td>\n",
       "      <td>0.0</td>\n",
       "      <td>4.672107</td>\n",
       "      <td>4.812920</td>\n",
       "      <td>4.968488</td>\n",
       "      <td>7.041361</td>\n",
       "    </tr>\n",
       "  </tbody>\n",
       "</table>\n",
       "</div>"
      ],
      "text/plain": [
       "                 count      mean       std  min       25%       50%       75%  \\\n",
       "loan_status                                                                     \n",
       "Charged Off   268559.0  4.781756  0.241984  0.0  4.633479  4.778158  4.929424   \n",
       "Fully Paid   1076751.0  4.820560  0.248526  0.0  4.672107  4.812920  4.968488   \n",
       "\n",
       "                  max  \n",
       "loan_status            \n",
       "Charged Off  6.977724  \n",
       "Fully Paid   7.041361  "
      ]
     },
     "execution_count": 68,
     "metadata": {},
     "output_type": "execute_result"
    }
   ],
   "source": [
    "data.groupby('loan_status')['log_annual_inc'].describe()"
   ]
  },
  {
   "cell_type": "markdown",
   "metadata": {
    "_cell_guid": "119da036-552d-4a95-a61f-7fdd464bcf5b",
    "_uuid": "840799ab7f984830bf29f0b677f4f14b672d4253",
    "id": "UETF66AQV3aa"
   },
   "source": [
    "## 4.11 verification_status"
   ]
  },
  {
   "cell_type": "markdown",
   "metadata": {
    "_uuid": "bdd838e4d41f6d75d04d870b8df168a7ba7583ab",
    "id": "I6Cp5CISV3ab"
   },
   "source": [
    "Định nghĩa: \"Cho biết liệu thu nhập đã được [Lending Club] xác minh chưa, chưa được xác minh hoặc nguồn thu nhập đã được xác minh hay chưa.\""
   ]
  },
  {
   "cell_type": "code",
   "execution_count": 69,
   "metadata": {
    "_uuid": "7943b3cb9228cf5a4b85acbdbae34bf45320a32f",
    "colab": {
     "base_uri": "https://localhost:8080/",
     "height": 167
    },
    "id": "NCy98csHV3ab",
    "outputId": "7220d6df-45b7-4a5b-bd8a-73d0ce7aaf5e"
   },
   "outputs": [
    {
     "data": {
      "image/png": "[encoded data removed]",
      "text/plain": [
       "<Figure size 1080x270 with 2 Axes>"
      ]
     },
     "metadata": {},
     "output_type": "display_data"
    }
   ],
   "source": [
    "plot_variable('verification_status', 'Verification Status', False)"
   ]
  },
  {
   "cell_type": "markdown",
   "metadata": {
    "_uuid": "b800dc7016a63c31420307ca966e6ea8f746d90b",
    "id": "L4a79RnMV3ab"
   },
   "source": [
    "## 4.12 issue_d"
   ]
  },
  {
   "cell_type": "markdown",
   "metadata": {
    "_uuid": "db9d278aafb51cbe458d569a21e248e4caece73c",
    "id": "ebzmpGZbV3ab"
   },
   "source": [
    "Định nghĩa : Từ điển dữ liệu: “Tháng mà khoản vay được tài trợ.”\n",
    "\n",
    "Bởi vì chúng tôi chỉ sử dụng các biến có sẵn cho các nhà đầu tư trước khi khoản vay được tài trợ nên issue_d sẽ không được đưa vào mô hình cuối cùng. Hiện tại, chúng tôi đang giữ nó chỉ để thực hiện việc phân chia đào tạo/kiểm tra sau, sau đó sẽ bỏ nó."
   ]
  },
  {
   "cell_type": "markdown",
   "metadata": {
    "_cell_guid": "3a91aec4-9bc4-42d6-8c62-e3892a9a2754",
    "_uuid": "87124cd85754a1e6ef201217421ff2f50108cb2a",
    "id": "CajC5V5LV3ab"
   },
   "source": [
    "## 4.13 purpose"
   ]
  },
  {
   "cell_type": "markdown",
   "metadata": {
    "_uuid": "ee566a2316c9c7221e99520e5c4d65acbfaa2c85",
    "id": "1XxUT9CDV3ab"
   },
   "source": [
    "Định nghĩa: \"Một danh mục được cung cấp bởi người vay cho yêu cầu vay vốn.\""
   ]
  },
  {
   "cell_type": "code",
   "execution_count": 70,
   "metadata": {
    "_cell_guid": "9de7d1b4-212b-4478-88a2-a3176a03e982",
    "_uuid": "5d4c3c93e59ee2cde87f4fc5487b43c555c33faf",
    "colab": {
     "base_uri": "https://localhost:8080/"
    },
    "id": "ULw4c-3PV3ab",
    "outputId": "ff1642e0-8dbe-4c87-8d7a-50cff5373f70"
   },
   "outputs": [
    {
     "data": {
      "text/plain": [
       "purpose\n",
       "debt_consolidation    780321\n",
       "credit_card           295279\n",
       "home_improvement       87504\n",
       "other                  77875\n",
       "major_purchase         29425\n",
       "medical                15554\n",
       "small_business         15416\n",
       "car                    14585\n",
       "moving                  9480\n",
       "vacation                9065\n",
       "house                   7253\n",
       "wedding                 2294\n",
       "renewable_energy         933\n",
       "educational              326\n",
       "Name: count, dtype: int64"
      ]
     },
     "execution_count": 70,
     "metadata": {},
     "output_type": "execute_result"
    }
   ],
   "source": [
    "data['purpose'].value_counts()"
   ]
  },
  {
   "cell_type": "markdown",
   "metadata": {
    "_uuid": "e936d0cb2436cf6420470e108813579756305493",
    "id": "xrPRINfnV3ab"
   },
   "source": [
    "Tính tỷ lệ thu phí theo mục đích:"
   ]
  },
  {
   "cell_type": "code",
   "execution_count": 71,
   "metadata": {
    "_uuid": "2d994abd68d7c93661ba101c8931137172d8b279",
    "colab": {
     "base_uri": "https://localhost:8080/"
    },
    "id": "QpRkP0RIV3ac",
    "outputId": "9f7fd2b0-8b24-4764-c7e4-e7b9118fa2fb"
   },
   "outputs": [
    {
     "data": {
      "text/plain": [
       "purpose\n",
       "wedding               0.121622\n",
       "car                   0.146795\n",
       "credit_card           0.169270\n",
       "educational           0.171779\n",
       "home_improvement      0.177158\n",
       "major_purchase        0.185998\n",
       "vacation              0.191726\n",
       "other                 0.210401\n",
       "debt_consolidation    0.211469\n",
       "medical               0.217757\n",
       "house                 0.218806\n",
       "moving                0.233544\n",
       "renewable_energy      0.236870\n",
       "small_business        0.297094\n",
       "Name: proportion, dtype: float64"
      ]
     },
     "execution_count": 71,
     "metadata": {},
     "output_type": "execute_result"
    }
   ],
   "source": [
    "data.groupby('purpose')['loan_status'].value_counts(normalize=True).loc[:,'Charged Off'].sort_values()"
   ]
  },
  {
   "cell_type": "markdown",
   "metadata": {
    "_cell_guid": "240c20e9-6336-47c6-9d92-69cc73433966",
    "_uuid": "fab8e8d284e011c9da9fedfa1a586a409f77ea0b",
    "id": "1eRF4_pyV3ac"
   },
   "source": [
    "Lưu ý rằng chỉ 16% các khoản vay cải thiện nhà, thẻ tín dụng đã hoàn tất đã được hoàn trả, nhưng 29% các khoản vay dành cho doanh nghiệp nhỏ đã hoàn tất đã được hoàn trả."
   ]
  },
  {
   "cell_type": "markdown",
   "metadata": {
    "_uuid": "2581b89fca27f1d69122731d5703444e061138c5",
    "id": "2xl1xectV3ac"
   },
   "source": [
    "## 4.14 title"
   ]
  },
  {
   "cell_type": "markdown",
   "metadata": {
    "_uuid": "8380f6c31fcbe300435354840a97292d0a04fb9a",
    "id": "T3qBomwQV3ac"
   },
   "source": [
    "Định nghĩa:  “Tên khoản vay do người đi vay cung cấp.”"
   ]
  },
  {
   "cell_type": "code",
   "execution_count": 72,
   "metadata": {
    "_uuid": "cdda39635718a035e89dc3d7fe90d5cd9b1e79cf",
    "colab": {
     "base_uri": "https://localhost:8080/"
    },
    "id": "cGmtnElfV3ac",
    "outputId": "28c511e1-4534-4c40-9419-160933088074"
   },
   "outputs": [
    {
     "data": {
      "text/plain": [
       "count                1328650\n",
       "unique                 61681\n",
       "top       Debt consolidation\n",
       "freq                  660960\n",
       "Name: title, dtype: object"
      ]
     },
     "execution_count": 72,
     "metadata": {},
     "output_type": "execute_result"
    }
   ],
   "source": [
    "data['title'].describe()"
   ]
  },
  {
   "cell_type": "markdown",
   "metadata": {
    "_uuid": "af49ee25241e78487df5840fee478258bb5028e7",
    "id": "d12hrTLNV3ac"
   },
   "source": [
    "Xem 10 khoản vay hàng đầu và tần suất của chúng:"
   ]
  },
  {
   "cell_type": "code",
   "execution_count": 73,
   "metadata": {
    "_uuid": "dfc34183c9b46b21f253e45f1f4416b1b9b3067b",
    "colab": {
     "base_uri": "https://localhost:8080/"
    },
    "id": "HfcfcwlRV3ac",
    "outputId": "b603a580-cdf4-4d4c-9606-ed0534b8da7f"
   },
   "outputs": [
    {
     "data": {
      "text/plain": [
       "title\n",
       "Debt consolidation         660960\n",
       "Credit card refinancing    249910\n",
       "Home improvement            75073\n",
       "Other                       66778\n",
       "Major purchase              24045\n",
       "Debt Consolidation          15695\n",
       "Medical expenses            13576\n",
       "Business                    11750\n",
       "Car financing               11220\n",
       "Vacation                     8046\n",
       "Name: count, dtype: int64"
      ]
     },
     "execution_count": 73,
     "metadata": {},
     "output_type": "execute_result"
    }
   ],
   "source": [
    "data['title'].value_counts().head(10)"
   ]
  },
  {
   "cell_type": "markdown",
   "metadata": {
    "_uuid": "8f5af45b8e3673d6d7e65ed8907228474a689ea3",
    "id": "utCaD7iCV3ac"
   },
   "source": [
    "Có 12 tên khoản vay khác nhau trong tập dữ liệu, cột mục đích - purpose dường như đã chứa thông tin này. Vì cột này không cần thiết nữa nên ta có thể bỏ nó"
   ]
  },
  {
   "cell_type": "code",
   "execution_count": 74,
   "metadata": {
    "_uuid": "5dbf1388adbb7e82d03453800dd4f07539548d2d",
    "id": "GuNhTpnQV3ac"
   },
   "outputs": [],
   "source": [
    "data.drop('title', axis=1, inplace=True)"
   ]
  },
  {
   "cell_type": "markdown",
   "metadata": {
    "_cell_guid": "b6908ad9-66be-4a38-8e45-bacde206e987",
    "_uuid": "f68d4795cca9861dd340a2c155c0b956ae9f53fa",
    "id": "dxEOu8aUV3ac"
   },
   "source": [
    "## 4.15 zip_code, addr_state"
   ]
  },
  {
   "cell_type": "markdown",
   "metadata": {
    "_uuid": "8aae00d3fdc7c6024867aa13898bbb9f497ec41c",
    "id": "btD71OUkV3ad"
   },
   "source": [
    "Định nghĩa cho zip_code: \"3 số đầu tiên của mã zip được người vay cung cấp trong đơn xin vay.\"\n",
    "\n",
    "Định nghĩa cho addr_state: \"Trạng thái được cung cấp bởi người đi vay trong đơn xin vay.\""
   ]
  },
  {
   "cell_type": "code",
   "execution_count": 75,
   "metadata": {
    "_uuid": "229f0e1973578d67d9eba581c4752381b7791b0f",
    "colab": {
     "base_uri": "https://localhost:8080/"
    },
    "id": "FB-ihLMpV3ad",
    "outputId": "d710d84c-b2dc-48aa-affd-e9bbeebf849d"
   },
   "outputs": [
    {
     "data": {
      "text/plain": [
       "420063     959xx\n",
       "1160799    703xx\n",
       "139746     334xx\n",
       "1285120    076xx\n",
       "1333675    998xx\n",
       "26886      305xx\n",
       "1815996    800xx\n",
       "2102732    291xx\n",
       "1309484    371xx\n",
       "278867     623xx\n",
       "244640     770xx\n",
       "247344     917xx\n",
       "90877      350xx\n",
       "581129     747xx\n",
       "363610     473xx\n",
       "Name: zip_code, dtype: object"
      ]
     },
     "execution_count": 75,
     "metadata": {},
     "output_type": "execute_result"
    }
   ],
   "source": [
    "data['zip_code'].sample(15)"
   ]
  },
  {
   "cell_type": "code",
   "execution_count": 76,
   "metadata": {
    "_uuid": "5479d6d3285a343e1c3b9c12388ba8368ff7edcb",
    "colab": {
     "base_uri": "https://localhost:8080/"
    },
    "id": "jf2n59n_V3ad",
    "outputId": "67b8a8a7-58e7-4d8b-e4ad-b9eec9840a62"
   },
   "outputs": [
    {
     "data": {
      "text/plain": [
       "943"
      ]
     },
     "execution_count": 76,
     "metadata": {},
     "output_type": "execute_result"
    }
   ],
   "source": [
    "data['zip_code'].nunique()"
   ]
  },
  {
   "cell_type": "code",
   "execution_count": 77,
   "metadata": {
    "_uuid": "934ad57bec83db1ad928e9fb6a9b2454e0048268",
    "colab": {
     "base_uri": "https://localhost:8080/"
    },
    "id": "SwjR7I9iV3ad",
    "outputId": "19836903-752b-4f33-d070-142bfc759907"
   },
   "outputs": [
    {
     "data": {
      "text/plain": [
       "938360     MD\n",
       "1997864    MD\n",
       "2040960    CA\n",
       "2160713    OR\n",
       "1872801    AZ\n",
       "Name: addr_state, dtype: object"
      ]
     },
     "execution_count": 77,
     "metadata": {},
     "output_type": "execute_result"
    }
   ],
   "source": [
    "data['addr_state'].sample(5)"
   ]
  },
  {
   "cell_type": "code",
   "execution_count": 78,
   "metadata": {
    "_uuid": "84d6f45f96adc6293858f311993cef781614ef6d",
    "colab": {
     "base_uri": "https://localhost:8080/"
    },
    "id": "-OclPUB8V3ad",
    "outputId": "249755bc-f409-4b68-cbec-5f48c8fa726f"
   },
   "outputs": [
    {
     "data": {
      "text/plain": [
       "51"
      ]
     },
     "execution_count": 78,
     "metadata": {},
     "output_type": "execute_result"
    }
   ],
   "source": [
    "data['addr_state'].nunique()"
   ]
  },
  {
   "cell_type": "markdown",
   "metadata": {
    "_cell_guid": "a2485d09-8385-427d-9bcb-7c47b8034e53",
    "_uuid": "69aa28976c0826de8e461d39c5e3b5bfdf49e61c",
    "id": "DfL-nc2FV3ad"
   },
   "source": [
    "Có rất nhiều mã zip khác nhau nên chúng ta chỉ giữ lại cột trạng thái - state."
   ]
  },
  {
   "cell_type": "code",
   "execution_count": 79,
   "metadata": {
    "_cell_guid": "aef7a94f-613c-4137-86f2-d0591ea3a4bc",
    "_uuid": "d6d4c635eb86b895acda91d0cc1fa38327a96e7d",
    "id": "LhH4FjIrV3ad"
   },
   "outputs": [],
   "source": [
    "data.drop(labels='zip_code', axis=1, inplace=True)"
   ]
  },
  {
   "cell_type": "markdown",
   "metadata": {
    "_uuid": "607b05af73b4c7982d976a36eb19991f0b167abb",
    "id": "95RaKIgyV3ae"
   },
   "source": [
    "Tính tỷ lệ tính phí theo trạng thái địa chỉ:"
   ]
  },
  {
   "cell_type": "code",
   "execution_count": 80,
   "metadata": {
    "_uuid": "48f9b89b369bf944b74f96a92aa36dbe53b89f2c",
    "colab": {
     "base_uri": "https://localhost:8080/"
    },
    "id": "COkQVfVaV3ae",
    "outputId": "c8f6df9c-516e-4efc-eab5-f06108dd0617",
    "scrolled": true
   },
   "outputs": [
    {
     "data": {
      "text/plain": [
       "addr_state\n",
       "DC    0.132086\n",
       "ME    0.138424\n",
       "VT    0.139517\n",
       "IA    0.142857\n",
       "OR    0.143850\n",
       "NH    0.145759\n",
       "WV    0.155187\n",
       "CO    0.155269\n",
       "WA    0.157565\n",
       "SC    0.162769\n",
       "KS    0.167438\n",
       "WY    0.167693\n",
       "MT    0.168716\n",
       "UT    0.170586\n",
       "CT    0.173763\n",
       "RI    0.178675\n",
       "IL    0.180974\n",
       "WI    0.183510\n",
       "GA    0.183927\n",
       "ID    0.188277\n",
       "MA    0.190528\n",
       "CA    0.196104\n",
       "AZ    0.196299\n",
       "AK    0.196552\n",
       "MN    0.197430\n",
       "DE    0.197462\n",
       "TX    0.198223\n",
       "VA    0.199422\n",
       "HI    0.202013\n",
       "MI    0.202957\n",
       "ND    0.204744\n",
       "OH    0.205283\n",
       "NC    0.207839\n",
       "PA    0.207921\n",
       "KY    0.209829\n",
       "NJ    0.211212\n",
       "MO    0.212935\n",
       "MD    0.213085\n",
       "SD    0.213227\n",
       "NM    0.213665\n",
       "TN    0.214079\n",
       "IN    0.214082\n",
       "FL    0.214746\n",
       "NV    0.219223\n",
       "NY    0.220435\n",
       "LA    0.231821\n",
       "OK    0.234753\n",
       "AL    0.236321\n",
       "AR    0.240868\n",
       "NE    0.251813\n",
       "MS    0.260777\n",
       "Name: proportion, dtype: float64"
      ]
     },
     "execution_count": 80,
     "metadata": {},
     "output_type": "execute_result"
    }
   ],
   "source": [
    "data.groupby('addr_state')['loan_status'].value_counts(normalize=True).loc[:,'Charged Off'].sort_values()"
   ]
  },
  {
   "cell_type": "markdown",
   "metadata": {
    "_uuid": "4c5831c94055345d34fb6adfe177057026dd3f11",
    "id": "B4NPH9wzV3ae"
   },
   "source": [
    "Tỷ lệ tính phí dao động từ 15,0% ở DC, Washington đến 26,07% ở Mississippi."
   ]
  },
  {
   "cell_type": "markdown",
   "metadata": {
    "_uuid": "f033b39352baf72562bcbd95dc79542e7d41a9b5",
    "id": "l7l6ns5GV3ae"
   },
   "source": [
    "## 4.16 dti"
   ]
  },
  {
   "cell_type": "markdown",
   "metadata": {
    "_uuid": "2b3358f8a0a91ec648c4ce00c40408450a22d07f",
    "id": "juouJUQJV3af"
   },
   "source": [
    "Định nghĩa: \"Tỷ lệ được tính bằng cách sử dụng tổng số tiền thanh toán nợ hàng tháng của người đi vay trên tổng nghĩa vụ nợ, không bao gồm khoản thế chấp và khoản vay LC được yêu cầu, chia cho thu nhập hàng tháng do người đi vay tự báo cáo.\""
   ]
  },
  {
   "cell_type": "code",
   "execution_count": 81,
   "metadata": {
    "_uuid": "e15c355e0907a6356f3bdedc662df9ce797e58ec",
    "colab": {
     "base_uri": "https://localhost:8080/"
    },
    "id": "TJlouMSTV3ag",
    "outputId": "90c52fc2-2ac3-4bac-e323-9fc46f95942b"
   },
   "outputs": [
    {
     "data": {
      "text/plain": [
       "count    1.344936e+06\n",
       "mean     1.828267e+01\n",
       "std      1.116045e+01\n",
       "min     -1.000000e+00\n",
       "25%      1.179000e+01\n",
       "50%      1.761000e+01\n",
       "75%      2.406000e+01\n",
       "max      9.990000e+02\n",
       "Name: dti, dtype: float64"
      ]
     },
     "execution_count": 81,
     "metadata": {},
     "output_type": "execute_result"
    }
   ],
   "source": [
    "data['dti'].describe()"
   ]
  },
  {
   "cell_type": "markdown",
   "metadata": {
    "_uuid": "98847fa16dfede71424c267b7b0446f37c3bf2a2",
    "id": "6ZOf6vIvV3ah"
   },
   "source": [
    "Lưu ý giá trị -1 và 999 có hợp lý hay không...\n",
    "\n",
    "Có thể tồn tại một số ngoại lệ làm sai lệch dữ liệu của chúng ta.\n",
    "Vẽ biểu đồ cho dti nhỏ hơn 60"
   ]
  },
  {
   "cell_type": "code",
   "execution_count": 82,
   "metadata": {
    "_uuid": "824839d9abcbdcc4cd7c5f181747c159576b5314",
    "colab": {
     "base_uri": "https://localhost:8080/",
     "height": 536
    },
    "id": "h2mYTILLV3ah",
    "outputId": "d567b232-4027-41cc-f33f-4e55bad1ccb9"
   },
   "outputs": [
    {
     "name": "stderr",
     "output_type": "stream",
     "text": [
      "C:\\Users\\hoang\\AppData\\Local\\Temp\\ipykernel_22372\\104706828.py:2: UserWarning: \n",
      "\n",
      "`distplot` is a deprecated function and will be removed in seaborn v0.14.0.\n",
      "\n",
      "Please adapt your code to use either `displot` (a figure-level function with\n",
      "similar flexibility) or `histplot` (an axes-level function for histograms).\n",
      "\n",
      "For a guide to updating your code to use the new functions, please see\n",
      "https://gist.github.com/mwaskom/de44147ed2974457ad6372750bbe5751\n",
      "\n",
      "  sns.distplot(data.loc[data['dti'].notnull() & (data['dti']<60), 'dti'], kde=False)\n"
     ]
    },
    {
     "data": {
      "text/plain": [
       "Text(0.5, 1.0, 'Debt-to-income Ratio')"
      ]
     },
     "execution_count": 82,
     "metadata": {},
     "output_type": "execute_result"
    },
    {
     "data": {
      "image/png": "[encoded data removed]",
      "text/plain": [
       "<Figure size 720x270 with 1 Axes>"
      ]
     },
     "metadata": {},
     "output_type": "display_data"
    }
   ],
   "source": [
    "plt.figure(figsize=(8,3), dpi=90)\n",
    "sns.distplot(data.loc[data['dti'].notnull() & (data['dti']<60), 'dti'], kde=False)\n",
    "plt.xlabel('Debt-to-income Ratio')\n",
    "plt.ylabel('Count')\n",
    "plt.title('Debt-to-income Ratio')"
   ]
  },
  {
   "cell_type": "markdown",
   "metadata": {
    "_uuid": "3a999762ead384f20a0faa97b1929d95142e88b1",
    "id": "FlvgcyTHV3ai"
   },
   "source": [
    "Có bao nhiêu giá trị dti là \"ngoại lệ\" (trên 60)?"
   ]
  },
  {
   "cell_type": "code",
   "execution_count": 83,
   "metadata": {
    "_uuid": "6baebe7830c1476f21897a7e860ee073671212c2",
    "colab": {
     "base_uri": "https://localhost:8080/"
    },
    "id": "5zINjAgJV3ai",
    "outputId": "49211e34-6d10-4a1b-a2b6-acd46b39d4d0"
   },
   "outputs": [
    {
     "data": {
      "text/plain": [
       "1715"
      ]
     },
     "execution_count": 83,
     "metadata": {},
     "output_type": "execute_result"
    }
   ],
   "source": [
    "(data['dti']>=60).sum()"
   ]
  },
  {
   "cell_type": "markdown",
   "metadata": {
    "_uuid": "7ed039841170d89aa188ab0a36834abb4dd83560",
    "id": "ZpIDtohgV3ai"
   },
   "source": [
    "Có bao nhiêu giá trị dti là \"ngoại lệ\" (trên 60)?"
   ]
  },
  {
   "cell_type": "code",
   "execution_count": 84,
   "metadata": {
    "_uuid": "34f2731e79ebc05a2ccf97cab162ba1cc45fd0f0",
    "colab": {
     "base_uri": "https://localhost:8080/",
     "height": 143
    },
    "id": "hurRFHlAV3ai",
    "outputId": "3e406c80-de3e-4a64-c572-5aa8f2fbcee8"
   },
   "outputs": [
    {
     "data": {
      "text/html": [
       "<div>\n",
       "<style scoped>\n",
       "    .dataframe tbody tr th:only-of-type {\n",
       "        vertical-align: middle;\n",
       "    }\n",
       "\n",
       "    .dataframe tbody tr th {\n",
       "        vertical-align: top;\n",
       "    }\n",
       "\n",
       "    .dataframe thead th {\n",
       "        text-align: right;\n",
       "    }\n",
       "</style>\n",
       "<table border=\"1\" class=\"dataframe\">\n",
       "  <thead>\n",
       "    <tr style=\"text-align: right;\">\n",
       "      <th></th>\n",
       "      <th>count</th>\n",
       "      <th>mean</th>\n",
       "      <th>std</th>\n",
       "      <th>min</th>\n",
       "      <th>25%</th>\n",
       "      <th>50%</th>\n",
       "      <th>75%</th>\n",
       "      <th>max</th>\n",
       "    </tr>\n",
       "    <tr>\n",
       "      <th>loan_status</th>\n",
       "      <th></th>\n",
       "      <th></th>\n",
       "      <th></th>\n",
       "      <th></th>\n",
       "      <th></th>\n",
       "      <th></th>\n",
       "      <th></th>\n",
       "      <th></th>\n",
       "    </tr>\n",
       "  </thead>\n",
       "  <tbody>\n",
       "    <tr>\n",
       "      <th>Charged Off</th>\n",
       "      <td>268488.0</td>\n",
       "      <td>20.171196</td>\n",
       "      <td>11.831747</td>\n",
       "      <td>0.0</td>\n",
       "      <td>13.55</td>\n",
       "      <td>19.76</td>\n",
       "      <td>26.31</td>\n",
       "      <td>999.0</td>\n",
       "    </tr>\n",
       "    <tr>\n",
       "      <th>Fully Paid</th>\n",
       "      <td>1076448.0</td>\n",
       "      <td>17.811629</td>\n",
       "      <td>10.935927</td>\n",
       "      <td>-1.0</td>\n",
       "      <td>11.43</td>\n",
       "      <td>17.11</td>\n",
       "      <td>23.44</td>\n",
       "      <td>999.0</td>\n",
       "    </tr>\n",
       "  </tbody>\n",
       "</table>\n",
       "</div>"
      ],
      "text/plain": [
       "                 count       mean        std  min    25%    50%    75%    max\n",
       "loan_status                                                                  \n",
       "Charged Off   268488.0  20.171196  11.831747  0.0  13.55  19.76  26.31  999.0\n",
       "Fully Paid   1076448.0  17.811629  10.935927 -1.0  11.43  17.11  23.44  999.0"
      ]
     },
     "execution_count": 84,
     "metadata": {},
     "output_type": "execute_result"
    }
   ],
   "source": [
    "data.groupby('loan_status')['dti'].describe()"
   ]
  },
  {
   "cell_type": "markdown",
   "metadata": {
    "_uuid": "7a36bd72aa5b6df18557a5a1fced2933c5f96940",
    "id": "-hpocOHpV3ai"
   },
   "source": [
    "Các khoản vay đã hoàn thành được tính phí có xu hướng có tỷ lệ nợ trên thu nhập cao hơn."
   ]
  },
  {
   "cell_type": "markdown",
   "metadata": {
    "_uuid": "5a18058b0fe6c56755cd139b4addb773a858d63f",
    "id": "3Jq7e1SmV3ai"
   },
   "source": [
    "## 4.17 earliest_cr_line"
   ]
  },
  {
   "cell_type": "markdown",
   "metadata": {
    "_uuid": "cf0c55c690b586c368e834d990cbdef4c088752d",
    "id": "wuKE63BsV3ai"
   },
   "source": [
    "Định nghĩa: \"Tháng mở hạn mức tín dụng được báo cáo sớm nhất của người đi vay..\""
   ]
  },
  {
   "cell_type": "code",
   "execution_count": 85,
   "metadata": {
    "_uuid": "f9451992dc43c401459fc5333bdd7d3e337e389a",
    "colab": {
     "base_uri": "https://localhost:8080/"
    },
    "id": "1ugE0CR9V3ai",
    "outputId": "182ae5b0-24bd-4994-94a9-ef28e5edb764"
   },
   "outputs": [
    {
     "data": {
      "text/plain": [
       "1137791    Jul-2010\n",
       "1747362    Jan-1989\n",
       "1831747    Sep-1983\n",
       "1189043    Oct-1999\n",
       "267557     Nov-2002\n",
       "Name: earliest_cr_line, dtype: object"
      ]
     },
     "execution_count": 85,
     "metadata": {},
     "output_type": "execute_result"
    }
   ],
   "source": [
    "data['earliest_cr_line'].sample(5)"
   ]
  },
  {
   "cell_type": "code",
   "execution_count": 86,
   "metadata": {
    "_uuid": "b368d43942f4a41d0ff62f9c72cb2a27a0ed6564",
    "colab": {
     "base_uri": "https://localhost:8080/"
    },
    "id": "vPybYwLGV3ai",
    "outputId": "f940f9bf-1c29-4407-d473-64ba6926f29e"
   },
   "outputs": [
    {
     "data": {
      "text/plain": [
       "False"
      ]
     },
     "execution_count": 86,
     "metadata": {},
     "output_type": "execute_result"
    }
   ],
   "source": [
    "data['earliest_cr_line'].isnull().any()"
   ]
  },
  {
   "cell_type": "markdown",
   "metadata": {
    "_uuid": "a65093e2c849dfbcb3942dcf1538511ae762c43b",
    "id": "VolpKXxFV3aj"
   },
   "source": [
    "Giữ lại năm để đơn giản cho việc phân tích:"
   ]
  },
  {
   "cell_type": "code",
   "execution_count": 87,
   "metadata": {
    "_uuid": "f7d4f74c691db1539f7aa2cc092bdec390b9f932",
    "id": "U4JRRo96V3aj"
   },
   "outputs": [],
   "source": [
    "data['earliest_cr_line'] = data['earliest_cr_line'].apply(lambda s: int(s[-4:]))"
   ]
  },
  {
   "cell_type": "code",
   "execution_count": 88,
   "metadata": {
    "_uuid": "b9bcb63c0a4d56a32cca56ad70087621b4fff30a",
    "colab": {
     "base_uri": "https://localhost:8080/"
    },
    "id": "zoZIzHMtV3aj",
    "outputId": "772fffe4-7133-48f9-adac-a98e3396ea6e"
   },
   "outputs": [
    {
     "data": {
      "text/plain": [
       "count    1.345310e+06\n",
       "mean     1.998693e+03\n",
       "std      7.608258e+00\n",
       "min      1.934000e+03\n",
       "25%      1.995000e+03\n",
       "50%      2.000000e+03\n",
       "75%      2.004000e+03\n",
       "max      2.015000e+03\n",
       "Name: earliest_cr_line, dtype: float64"
      ]
     },
     "execution_count": 88,
     "metadata": {},
     "output_type": "execute_result"
    }
   ],
   "source": [
    "data['earliest_cr_line'].describe()"
   ]
  },
  {
   "cell_type": "code",
   "execution_count": 89,
   "metadata": {
    "_uuid": "66d577854e7297a51ba2af177c34cb6dec848d01",
    "colab": {
     "base_uri": "https://localhost:8080/",
     "height": 384
    },
    "id": "q7980oR-V3aj",
    "outputId": "b90081c4-c25d-47df-9b0c-061aa08aa4b1"
   },
   "outputs": [
    {
     "name": "stderr",
     "output_type": "stream",
     "text": [
      "C:\\Users\\hoang\\AppData\\Local\\Temp\\ipykernel_22372\\4280792411.py:7: UserWarning: \n",
      "\n",
      "`distplot` is a deprecated function and will be removed in seaborn v0.14.0.\n",
      "\n",
      "Please adapt your code to use either `displot` (a figure-level function with\n",
      "similar flexibility) or `histplot` (an axes-level function for histograms).\n",
      "\n",
      "For a guide to updating your code to use the new functions, please see\n",
      "https://gist.github.com/mwaskom/de44147ed2974457ad6372750bbe5751\n",
      "\n",
      "  sns.distplot(data.loc[data[col_name].notnull(), col_name], kde=False, ax=ax1)\n"
     ]
    },
    {
     "data": {
      "image/png": "[encoded data removed]",
      "text/plain": [
       "<Figure size 1080x270 with 2 Axes>"
      ]
     },
     "metadata": {},
     "output_type": "display_data"
    }
   ],
   "source": [
    "plot_variable('earliest_cr_line', 'Year of Earliest Credit Line', True)"
   ]
  },
  {
   "cell_type": "markdown",
   "metadata": {
    "_uuid": "73b64c59588aaa73dc3c9fefb228db448d96d066",
    "id": "Q4T8oeilV3aj"
   },
   "source": [
    "Những người đi vay bị tính phí có xu hướng có hạn mức tín dụng ngắn hơn"
   ]
  },
  {
   "cell_type": "markdown",
   "metadata": {
    "_uuid": "59b22cdd55c8c1033cacdf50467b87cc29a19ee8",
    "id": "SDXkLeOGV3aj"
   },
   "source": [
    "## 4.18 fico_range_low, fico_range_high"
   ]
  },
  {
   "cell_type": "markdown",
   "metadata": {
    "_uuid": "c8a60604c3106fa9e45e4f62c9b9f8b842a9dd25",
    "id": "fzNYru1uV3aj"
   },
   "source": [
    "Định nghĩa cho fico_range_low: \"Phạm vi ranh giới dưới mà FICO của người vay khi bắt đầu khoản vay thuộc về.\"\n",
    "\n",
    "Định nghĩa cho fico_range_high: \"Phạm vi ranh giới trên mà FICO của người vay khi bắt đầu khoản vay thuộc về.\""
   ]
  },
  {
   "cell_type": "code",
   "execution_count": 90,
   "metadata": {
    "_uuid": "74036440410daa88235fb15f02ea106fb10734d2",
    "colab": {
     "base_uri": "https://localhost:8080/",
     "height": 300
    },
    "id": "egHuujuPV3aj",
    "outputId": "10093670-fa68-4614-d562-e70b0afc4904"
   },
   "outputs": [
    {
     "data": {
      "text/html": [
       "<div>\n",
       "<style scoped>\n",
       "    .dataframe tbody tr th:only-of-type {\n",
       "        vertical-align: middle;\n",
       "    }\n",
       "\n",
       "    .dataframe tbody tr th {\n",
       "        vertical-align: top;\n",
       "    }\n",
       "\n",
       "    .dataframe thead th {\n",
       "        text-align: right;\n",
       "    }\n",
       "</style>\n",
       "<table border=\"1\" class=\"dataframe\">\n",
       "  <thead>\n",
       "    <tr style=\"text-align: right;\">\n",
       "      <th></th>\n",
       "      <th>fico_range_low</th>\n",
       "      <th>fico_range_high</th>\n",
       "    </tr>\n",
       "  </thead>\n",
       "  <tbody>\n",
       "    <tr>\n",
       "      <th>count</th>\n",
       "      <td>1.345310e+06</td>\n",
       "      <td>1.345310e+06</td>\n",
       "    </tr>\n",
       "    <tr>\n",
       "      <th>mean</th>\n",
       "      <td>6.961850e+02</td>\n",
       "      <td>7.001852e+02</td>\n",
       "    </tr>\n",
       "    <tr>\n",
       "      <th>std</th>\n",
       "      <td>3.185251e+01</td>\n",
       "      <td>3.185316e+01</td>\n",
       "    </tr>\n",
       "    <tr>\n",
       "      <th>min</th>\n",
       "      <td>6.250000e+02</td>\n",
       "      <td>6.290000e+02</td>\n",
       "    </tr>\n",
       "    <tr>\n",
       "      <th>25%</th>\n",
       "      <td>6.700000e+02</td>\n",
       "      <td>6.740000e+02</td>\n",
       "    </tr>\n",
       "    <tr>\n",
       "      <th>50%</th>\n",
       "      <td>6.900000e+02</td>\n",
       "      <td>6.940000e+02</td>\n",
       "    </tr>\n",
       "    <tr>\n",
       "      <th>75%</th>\n",
       "      <td>7.100000e+02</td>\n",
       "      <td>7.140000e+02</td>\n",
       "    </tr>\n",
       "    <tr>\n",
       "      <th>max</th>\n",
       "      <td>8.450000e+02</td>\n",
       "      <td>8.500000e+02</td>\n",
       "    </tr>\n",
       "  </tbody>\n",
       "</table>\n",
       "</div>"
      ],
      "text/plain": [
       "       fico_range_low  fico_range_high\n",
       "count    1.345310e+06     1.345310e+06\n",
       "mean     6.961850e+02     7.001852e+02\n",
       "std      3.185251e+01     3.185316e+01\n",
       "min      6.250000e+02     6.290000e+02\n",
       "25%      6.700000e+02     6.740000e+02\n",
       "50%      6.900000e+02     6.940000e+02\n",
       "75%      7.100000e+02     7.140000e+02\n",
       "max      8.450000e+02     8.500000e+02"
      ]
     },
     "execution_count": 90,
     "metadata": {},
     "output_type": "execute_result"
    }
   ],
   "source": [
    "data[['fico_range_low', 'fico_range_high']].describe()"
   ]
  },
  {
   "cell_type": "markdown",
   "metadata": {
    "_uuid": "81cee266ca70b9cac8ea1a9fd1d44a9a4de3488f",
    "id": "00jgK0G0V3aj"
   },
   "source": [
    "Kiểm tra mối tương quan giữa Pearson với các giá trị này:"
   ]
  },
  {
   "cell_type": "code",
   "execution_count": 91,
   "metadata": {
    "_uuid": "55e633246efe6a4c48059c58b1a8e60acc6ef6a4",
    "colab": {
     "base_uri": "https://localhost:8080/",
     "height": 112
    },
    "id": "EEY1cXb-V3aj",
    "outputId": "b779eeb4-b003-4351-d7b5-336f94da9412"
   },
   "outputs": [
    {
     "data": {
      "text/html": [
       "<div>\n",
       "<style scoped>\n",
       "    .dataframe tbody tr th:only-of-type {\n",
       "        vertical-align: middle;\n",
       "    }\n",
       "\n",
       "    .dataframe tbody tr th {\n",
       "        vertical-align: top;\n",
       "    }\n",
       "\n",
       "    .dataframe thead th {\n",
       "        text-align: right;\n",
       "    }\n",
       "</style>\n",
       "<table border=\"1\" class=\"dataframe\">\n",
       "  <thead>\n",
       "    <tr style=\"text-align: right;\">\n",
       "      <th></th>\n",
       "      <th>fico_range_low</th>\n",
       "      <th>fico_range_high</th>\n",
       "    </tr>\n",
       "  </thead>\n",
       "  <tbody>\n",
       "    <tr>\n",
       "      <th>fico_range_low</th>\n",
       "      <td>1.0</td>\n",
       "      <td>1.0</td>\n",
       "    </tr>\n",
       "    <tr>\n",
       "      <th>fico_range_high</th>\n",
       "      <td>1.0</td>\n",
       "      <td>1.0</td>\n",
       "    </tr>\n",
       "  </tbody>\n",
       "</table>\n",
       "</div>"
      ],
      "text/plain": [
       "                 fico_range_low  fico_range_high\n",
       "fico_range_low              1.0              1.0\n",
       "fico_range_high             1.0              1.0"
      ]
     },
     "execution_count": 91,
     "metadata": {},
     "output_type": "execute_result"
    }
   ],
   "source": [
    "data[['fico_range_low','fico_range_high']].corr()"
   ]
  },
  {
   "cell_type": "markdown",
   "metadata": {
    "_uuid": "fb77477acd26e22232c3ddd544b681600b4519c6",
    "id": "3rJpMW8eV3ak"
   },
   "source": [
    "Chúng ta chỉ cần giữ một trong các điểm FICO. Chúng ta sẽ lấy giá trị trung bình của cả hai và gọi nó là fico_score:"
   ]
  },
  {
   "cell_type": "code",
   "execution_count": 92,
   "metadata": {
    "_uuid": "64ec73aa4353d3da3248938ac39207b08e8f7d99",
    "id": "ep2duRNKV3ak"
   },
   "outputs": [],
   "source": [
    "data['fico_score'] = 0.5*data['fico_range_low'] + 0.5*data['fico_range_high']"
   ]
  },
  {
   "cell_type": "code",
   "execution_count": 93,
   "metadata": {
    "_uuid": "9daa47292046914f4ebfb665c094aa559d814127",
    "id": "EfZ_g93RV3ak"
   },
   "outputs": [],
   "source": [
    "data.drop(['fico_range_high', 'fico_range_low'], axis=1, inplace=True)"
   ]
  },
  {
   "cell_type": "code",
   "execution_count": 94,
   "metadata": {
    "_uuid": "eaee8c63add495c56290f00825ff3a0555f80b2e",
    "colab": {
     "base_uri": "https://localhost:8080/",
     "height": 384
    },
    "id": "njaRwePFV3ak",
    "outputId": "d6eecab5-e7af-4d21-d3d7-893f1430fc1d"
   },
   "outputs": [
    {
     "name": "stderr",
     "output_type": "stream",
     "text": [
      "C:\\Users\\hoang\\AppData\\Local\\Temp\\ipykernel_22372\\4280792411.py:7: UserWarning: \n",
      "\n",
      "`distplot` is a deprecated function and will be removed in seaborn v0.14.0.\n",
      "\n",
      "Please adapt your code to use either `displot` (a figure-level function with\n",
      "similar flexibility) or `histplot` (an axes-level function for histograms).\n",
      "\n",
      "For a guide to updating your code to use the new functions, please see\n",
      "https://gist.github.com/mwaskom/de44147ed2974457ad6372750bbe5751\n",
      "\n",
      "  sns.distplot(data.loc[data[col_name].notnull(), col_name], kde=False, ax=ax1)\n"
     ]
    },
    {
     "data": {
      "image/png": "[encoded data removed]",
      "text/plain": [
       "<Figure size 1080x270 with 2 Axes>"
      ]
     },
     "metadata": {},
     "output_type": "display_data"
    }
   ],
   "source": [
    "plot_variable('fico_score', 'FICO Score', True)"
   ]
  },
  {
   "cell_type": "markdown",
   "metadata": {
    "_uuid": "0b0558e604751c8f4d56a12f49b91b60dfdcade5",
    "id": "JumMWL0EV3ak"
   },
   "source": [
    "Có sự khác biệt đáng chú ý về điểm FICO giữa các khoản vay được thanh toán đầy đủ và các khoản vay được tính phí.\n",
    "\n",
    "So sánh số liệu thống kê tóm tắt"
   ]
  },
  {
   "cell_type": "code",
   "execution_count": 95,
   "metadata": {
    "_uuid": "03f04196cdf3607455cfb9c1d936cc9185ee89e9",
    "colab": {
     "base_uri": "https://localhost:8080/",
     "height": 143
    },
    "id": "tLZ0pOoEV3al",
    "outputId": "27e4b5a3-7009-42cc-f209-3334f9d9aa93"
   },
   "outputs": [
    {
     "data": {
      "text/html": [
       "<div>\n",
       "<style scoped>\n",
       "    .dataframe tbody tr th:only-of-type {\n",
       "        vertical-align: middle;\n",
       "    }\n",
       "\n",
       "    .dataframe tbody tr th {\n",
       "        vertical-align: top;\n",
       "    }\n",
       "\n",
       "    .dataframe thead th {\n",
       "        text-align: right;\n",
       "    }\n",
       "</style>\n",
       "<table border=\"1\" class=\"dataframe\">\n",
       "  <thead>\n",
       "    <tr style=\"text-align: right;\">\n",
       "      <th></th>\n",
       "      <th>count</th>\n",
       "      <th>mean</th>\n",
       "      <th>std</th>\n",
       "      <th>min</th>\n",
       "      <th>25%</th>\n",
       "      <th>50%</th>\n",
       "      <th>75%</th>\n",
       "      <th>max</th>\n",
       "    </tr>\n",
       "    <tr>\n",
       "      <th>loan_status</th>\n",
       "      <th></th>\n",
       "      <th></th>\n",
       "      <th></th>\n",
       "      <th></th>\n",
       "      <th></th>\n",
       "      <th></th>\n",
       "      <th></th>\n",
       "      <th></th>\n",
       "    </tr>\n",
       "  </thead>\n",
       "  <tbody>\n",
       "    <tr>\n",
       "      <th>Charged Off</th>\n",
       "      <td>268559.0</td>\n",
       "      <td>689.850145</td>\n",
       "      <td>25.948737</td>\n",
       "      <td>662.0</td>\n",
       "      <td>672.0</td>\n",
       "      <td>682.0</td>\n",
       "      <td>702.0</td>\n",
       "      <td>847.5</td>\n",
       "    </tr>\n",
       "    <tr>\n",
       "      <th>Fully Paid</th>\n",
       "      <td>1076751.0</td>\n",
       "      <td>700.263982</td>\n",
       "      <td>32.834008</td>\n",
       "      <td>627.0</td>\n",
       "      <td>677.0</td>\n",
       "      <td>692.0</td>\n",
       "      <td>717.0</td>\n",
       "      <td>847.5</td>\n",
       "    </tr>\n",
       "  </tbody>\n",
       "</table>\n",
       "</div>"
      ],
      "text/plain": [
       "                 count        mean        std    min    25%    50%    75%  \\\n",
       "loan_status                                                                 \n",
       "Charged Off   268559.0  689.850145  25.948737  662.0  672.0  682.0  702.0   \n",
       "Fully Paid   1076751.0  700.263982  32.834008  627.0  677.0  692.0  717.0   \n",
       "\n",
       "               max  \n",
       "loan_status         \n",
       "Charged Off  847.5  \n",
       "Fully Paid   847.5  "
      ]
     },
     "execution_count": 95,
     "metadata": {},
     "output_type": "execute_result"
    }
   ],
   "source": [
    "data.groupby('loan_status')['fico_score'].describe()"
   ]
  },
  {
   "cell_type": "markdown",
   "metadata": {
    "_uuid": "f109939068ad7a2503992b507f086e2e08fd33c3",
    "id": "jIar8jzUV3al"
   },
   "source": [
    "Các khoản vay được tính phí có điểm FICO trung bình thấp hơn 10 điểm."
   ]
  },
  {
   "cell_type": "markdown",
   "metadata": {
    "_uuid": "9834eea5d0705d23012b9b48adfcc5e78e12f12e",
    "id": "yyPlfs2qV3al"
   },
   "source": [
    "## 4.19 open_acc"
   ]
  },
  {
   "cell_type": "markdown",
   "metadata": {
    "_uuid": "bc134a0fd6e4104163a39d545393ccaae30b8225",
    "id": "q2kZ01JTV3al"
   },
   "source": [
    "Định nghĩa: \"Số lượng hạn mức tín dụng mở trong hồ sơ tín dụng của người đi vay.\""
   ]
  },
  {
   "cell_type": "code",
   "execution_count": 96,
   "metadata": {
    "_uuid": "438b09f99afac6eabb6548c5cf99f818a25db3a4",
    "colab": {
     "base_uri": "https://localhost:8080/",
     "height": 266
    },
    "id": "4Lm7qoa3V3al",
    "outputId": "0bbee2c1-0b62-4024-d868-e045360003cb"
   },
   "outputs": [
    {
     "data": {
      "text/plain": [
       "Text(0.5, 1.0, 'Number of Open Credit Lines')"
      ]
     },
     "execution_count": 96,
     "metadata": {},
     "output_type": "execute_result"
    },
    {
     "data": {
      "image/png": "[encoded data removed]",
      "text/plain": [
       "<Figure size 900x270 with 1 Axes>"
      ]
     },
     "metadata": {},
     "output_type": "display_data"
    }
   ],
   "source": [
    "plt.figure(figsize=(10,3), dpi=90)\n",
    "\n",
    "sns.countplot(x=data['open_acc'], data=data, order=sorted(data['open_acc'].dropna().unique()), color='#5975A4', saturation=1)\n",
    "_, _ = plt.xticks(np.arange(0, 90, 5), np.arange(0, 90, 5))\n",
    "plt.title('Number of Open Credit Lines')"
   ]
  },
  {
   "cell_type": "markdown",
   "metadata": {
    "_uuid": "f80b2f0a75554bd3a025cb6a58da77121a9279ee",
    "id": "S5R0QK0gV3al"
   },
   "source": [
    "Có sự khác biệt về số lượng hạn mức tín dụng giữa các khoản vay được thanh toán đầy đủ và các khoản vay được tính phí không?"
   ]
  },
  {
   "cell_type": "code",
   "execution_count": 97,
   "metadata": {
    "_uuid": "a5f2f2f167bd0b736c8b62cd468dcd6e3d4c55f1",
    "colab": {
     "base_uri": "https://localhost:8080/",
     "height": 143
    },
    "id": "SHjunTWHV3al",
    "outputId": "3ddffc12-b3c8-4621-903a-e2a458b743dd"
   },
   "outputs": [
    {
     "data": {
      "text/html": [
       "<div>\n",
       "<style scoped>\n",
       "    .dataframe tbody tr th:only-of-type {\n",
       "        vertical-align: middle;\n",
       "    }\n",
       "\n",
       "    .dataframe tbody tr th {\n",
       "        vertical-align: top;\n",
       "    }\n",
       "\n",
       "    .dataframe thead th {\n",
       "        text-align: right;\n",
       "    }\n",
       "</style>\n",
       "<table border=\"1\" class=\"dataframe\">\n",
       "  <thead>\n",
       "    <tr style=\"text-align: right;\">\n",
       "      <th></th>\n",
       "      <th>count</th>\n",
       "      <th>mean</th>\n",
       "      <th>std</th>\n",
       "      <th>min</th>\n",
       "      <th>25%</th>\n",
       "      <th>50%</th>\n",
       "      <th>75%</th>\n",
       "      <th>max</th>\n",
       "    </tr>\n",
       "    <tr>\n",
       "      <th>loan_status</th>\n",
       "      <th></th>\n",
       "      <th></th>\n",
       "      <th></th>\n",
       "      <th></th>\n",
       "      <th></th>\n",
       "      <th></th>\n",
       "      <th></th>\n",
       "      <th></th>\n",
       "    </tr>\n",
       "  </thead>\n",
       "  <tbody>\n",
       "    <tr>\n",
       "      <th>Charged Off</th>\n",
       "      <td>268559.0</td>\n",
       "      <td>11.901269</td>\n",
       "      <td>5.637964</td>\n",
       "      <td>0.0</td>\n",
       "      <td>8.0</td>\n",
       "      <td>11.0</td>\n",
       "      <td>15.0</td>\n",
       "      <td>76.0</td>\n",
       "    </tr>\n",
       "    <tr>\n",
       "      <th>Fully Paid</th>\n",
       "      <td>1076751.0</td>\n",
       "      <td>11.516763</td>\n",
       "      <td>5.429354</td>\n",
       "      <td>0.0</td>\n",
       "      <td>8.0</td>\n",
       "      <td>11.0</td>\n",
       "      <td>14.0</td>\n",
       "      <td>90.0</td>\n",
       "    </tr>\n",
       "  </tbody>\n",
       "</table>\n",
       "</div>"
      ],
      "text/plain": [
       "                 count       mean       std  min  25%   50%   75%   max\n",
       "loan_status                                                            \n",
       "Charged Off   268559.0  11.901269  5.637964  0.0  8.0  11.0  15.0  76.0\n",
       "Fully Paid   1076751.0  11.516763  5.429354  0.0  8.0  11.0  14.0  90.0"
      ]
     },
     "execution_count": 97,
     "metadata": {},
     "output_type": "execute_result"
    }
   ],
   "source": [
    "data.groupby('loan_status')['open_acc'].describe()"
   ]
  },
  {
   "cell_type": "markdown",
   "metadata": {
    "_uuid": "c9bf815957b7e3304d4919a0f6b16fa7111eb41a",
    "id": "JtRiD8FoV3am"
   },
   "source": [
    "## 4.20 pub_rec"
   ]
  },
  {
   "cell_type": "markdown",
   "metadata": {
    "_uuid": "43da4907b41831d1ddb9bdca1dd26f6c2c4eb816",
    "id": "95NdyRZ0V3am"
   },
   "source": [
    "Định nghĩa: \"Số hồ sơ công khai xúc phạm.\""
   ]
  },
  {
   "cell_type": "code",
   "execution_count": 98,
   "metadata": {
    "_uuid": "2b029d31eae519bbd88c70ea9de49669e18e0ea4",
    "colab": {
     "base_uri": "https://localhost:8080/"
    },
    "id": "YMf7CnYpV3am",
    "outputId": "2fced4bc-d7fc-4c48-e437-bf59b4a3fee9"
   },
   "outputs": [
    {
     "data": {
      "text/plain": [
       "pub_rec\n",
       "0.0     1117425\n",
       "1.0      190789\n",
       "2.0       24435\n",
       "3.0        7399\n",
       "4.0        2630\n",
       "5.0        1266\n",
       "6.0         636\n",
       "7.0         283\n",
       "8.0         160\n",
       "9.0          83\n",
       "10.0         57\n",
       "11.0         40\n",
       "12.0         27\n",
       "13.0         18\n",
       "14.0          5\n",
       "15.0          9\n",
       "16.0          5\n",
       "17.0          3\n",
       "18.0          6\n",
       "19.0          5\n",
       "20.0          3\n",
       "21.0          6\n",
       "22.0          2\n",
       "23.0          1\n",
       "24.0          2\n",
       "25.0          1\n",
       "28.0          3\n",
       "34.0          1\n",
       "37.0          1\n",
       "40.0          1\n",
       "46.0          1\n",
       "47.0          1\n",
       "49.0          2\n",
       "54.0          1\n",
       "61.0          1\n",
       "63.0          1\n",
       "86.0          1\n",
       "Name: count, dtype: int64"
      ]
     },
     "execution_count": 98,
     "metadata": {},
     "output_type": "execute_result"
    }
   ],
   "source": [
    "data['pub_rec'].value_counts().sort_index()"
   ]
  },
  {
   "cell_type": "markdown",
   "metadata": {
    "_uuid": "d0475a68ce69b03a2c1072f50594123338888be3",
    "id": "xefPRmRBV3am"
   },
   "source": [
    "Có sự khác biệt nào trong trung bình hồ sơ công khai giữa các khoản vay được thanh toán đầy đủ và các khoản vay được tính phí không?"
   ]
  },
  {
   "cell_type": "code",
   "execution_count": 99,
   "metadata": {
    "_uuid": "f599e72bff7b6c30c1a534266a9ce19a5ad5fea3",
    "colab": {
     "base_uri": "https://localhost:8080/",
     "height": 143
    },
    "id": "OIJgypfOV3am",
    "outputId": "510c469a-6606-46b1-9791-3dda3914ffc3"
   },
   "outputs": [
    {
     "data": {
      "text/html": [
       "<div>\n",
       "<style scoped>\n",
       "    .dataframe tbody tr th:only-of-type {\n",
       "        vertical-align: middle;\n",
       "    }\n",
       "\n",
       "    .dataframe tbody tr th {\n",
       "        vertical-align: top;\n",
       "    }\n",
       "\n",
       "    .dataframe thead th {\n",
       "        text-align: right;\n",
       "    }\n",
       "</style>\n",
       "<table border=\"1\" class=\"dataframe\">\n",
       "  <thead>\n",
       "    <tr style=\"text-align: right;\">\n",
       "      <th></th>\n",
       "      <th>count</th>\n",
       "      <th>mean</th>\n",
       "      <th>std</th>\n",
       "      <th>min</th>\n",
       "      <th>25%</th>\n",
       "      <th>50%</th>\n",
       "      <th>75%</th>\n",
       "      <th>max</th>\n",
       "    </tr>\n",
       "    <tr>\n",
       "      <th>loan_status</th>\n",
       "      <th></th>\n",
       "      <th></th>\n",
       "      <th></th>\n",
       "      <th></th>\n",
       "      <th></th>\n",
       "      <th></th>\n",
       "      <th></th>\n",
       "      <th></th>\n",
       "    </tr>\n",
       "  </thead>\n",
       "  <tbody>\n",
       "    <tr>\n",
       "      <th>Charged Off</th>\n",
       "      <td>268559.0</td>\n",
       "      <td>0.246843</td>\n",
       "      <td>0.656732</td>\n",
       "      <td>0.0</td>\n",
       "      <td>0.0</td>\n",
       "      <td>0.0</td>\n",
       "      <td>0.0</td>\n",
       "      <td>86.0</td>\n",
       "    </tr>\n",
       "    <tr>\n",
       "      <th>Fully Paid</th>\n",
       "      <td>1076751.0</td>\n",
       "      <td>0.207403</td>\n",
       "      <td>0.587118</td>\n",
       "      <td>0.0</td>\n",
       "      <td>0.0</td>\n",
       "      <td>0.0</td>\n",
       "      <td>0.0</td>\n",
       "      <td>63.0</td>\n",
       "    </tr>\n",
       "  </tbody>\n",
       "</table>\n",
       "</div>"
      ],
      "text/plain": [
       "                 count      mean       std  min  25%  50%  75%   max\n",
       "loan_status                                                         \n",
       "Charged Off   268559.0  0.246843  0.656732  0.0  0.0  0.0  0.0  86.0\n",
       "Fully Paid   1076751.0  0.207403  0.587118  0.0  0.0  0.0  0.0  63.0"
      ]
     },
     "execution_count": 99,
     "metadata": {},
     "output_type": "execute_result"
    }
   ],
   "source": [
    "data.groupby('loan_status')['pub_rec'].describe()"
   ]
  },
  {
   "cell_type": "markdown",
   "metadata": {
    "_uuid": "9700f45aac9e053fc5600f3bb384a99d694d23a4",
    "id": "_7BZtXXTV3am"
   },
   "source": [
    "## 4.21 revol_bal"
   ]
  },
  {
   "cell_type": "markdown",
   "metadata": {
    "_uuid": "bc84556ef86591e0a1cdf14013962abf24a4a8e7",
    "id": "ZysCHhN6V3am"
   },
   "source": [
    "Định nghĩa: \"Tổng số dư tín dụng quay vòng.\""
   ]
  },
  {
   "cell_type": "code",
   "execution_count": 100,
   "metadata": {
    "_uuid": "a9df59d86d2a75fbf7c3da95ab9f2a51e89f8075",
    "colab": {
     "base_uri": "https://localhost:8080/"
    },
    "id": "geKARleyV3am",
    "outputId": "251310a3-4a30-4533-e980-bcf3d4c5dc42"
   },
   "outputs": [
    {
     "data": {
      "text/plain": [
       "count    1.345310e+06\n",
       "mean     1.624811e+04\n",
       "std      2.232817e+04\n",
       "min      0.000000e+00\n",
       "25%      5.943000e+03\n",
       "50%      1.113400e+04\n",
       "75%      1.975575e+04\n",
       "max      2.904836e+06\n",
       "Name: revol_bal, dtype: float64"
      ]
     },
     "execution_count": 100,
     "metadata": {},
     "output_type": "execute_result"
    }
   ],
   "source": [
    "data['revol_bal'].describe()"
   ]
  },
  {
   "cell_type": "markdown",
   "metadata": {
    "_uuid": "a28e0e941e50bc1a8516387a679705acb9e1e891",
    "id": "JrbnhTz2V3am"
   },
   "source": [
    "Thực hiện chuyển đổi log:"
   ]
  },
  {
   "cell_type": "code",
   "execution_count": 101,
   "metadata": {
    "_uuid": "f5393f6fe924e4b85e862ca72ed3bfc707f5ae75",
    "id": "vV6zfvy1V3am"
   },
   "outputs": [],
   "source": [
    "data['log_revol_bal'] = data['revol_bal'].apply(lambda x: np.log10(x+1))"
   ]
  },
  {
   "cell_type": "code",
   "execution_count": 102,
   "metadata": {
    "_uuid": "6f8271c84321617c80ec76a40cb5eb2d52e54770",
    "id": "UIJt-e15V3am"
   },
   "outputs": [],
   "source": [
    "data.drop('revol_bal', axis=1, inplace=True)"
   ]
  },
  {
   "cell_type": "code",
   "execution_count": 103,
   "metadata": {
    "_uuid": "6c6faec593b7f4c891738461d379991c2ebf8e7d",
    "colab": {
     "base_uri": "https://localhost:8080/",
     "height": 384
    },
    "id": "c49jv0LrV3an",
    "outputId": "7e058f77-d237-41a1-efc8-08fd477064e6"
   },
   "outputs": [
    {
     "name": "stderr",
     "output_type": "stream",
     "text": [
      "C:\\Users\\hoang\\AppData\\Local\\Temp\\ipykernel_22372\\4280792411.py:7: UserWarning: \n",
      "\n",
      "`distplot` is a deprecated function and will be removed in seaborn v0.14.0.\n",
      "\n",
      "Please adapt your code to use either `displot` (a figure-level function with\n",
      "similar flexibility) or `histplot` (an axes-level function for histograms).\n",
      "\n",
      "For a guide to updating your code to use the new functions, please see\n",
      "https://gist.github.com/mwaskom/de44147ed2974457ad6372750bbe5751\n",
      "\n",
      "  sns.distplot(data.loc[data[col_name].notnull(), col_name], kde=False, ax=ax1)\n"
     ]
    },
    {
     "data": {
      "image/png": "[encoded data removed]",
      "text/plain": [
       "<Figure size 1080x270 with 2 Axes>"
      ]
     },
     "metadata": {},
     "output_type": "display_data"
    }
   ],
   "source": [
    "plot_variable('log_revol_bal', 'Log Revolving Credit Balance',True)"
   ]
  },
  {
   "cell_type": "code",
   "execution_count": 104,
   "metadata": {
    "_uuid": "14c0ad7c138276198f43312d9dc32ffd3e93de5a",
    "colab": {
     "base_uri": "https://localhost:8080/",
     "height": 163
    },
    "id": "vv47J6FnV3an",
    "outputId": "4287b77a-517e-44ec-cd03-82bcd5c5d69b"
   },
   "outputs": [
    {
     "data": {
      "text/html": [
       "<div>\n",
       "<style scoped>\n",
       "    .dataframe tbody tr th:only-of-type {\n",
       "        vertical-align: middle;\n",
       "    }\n",
       "\n",
       "    .dataframe tbody tr th {\n",
       "        vertical-align: top;\n",
       "    }\n",
       "\n",
       "    .dataframe thead th {\n",
       "        text-align: right;\n",
       "    }\n",
       "</style>\n",
       "<table border=\"1\" class=\"dataframe\">\n",
       "  <thead>\n",
       "    <tr style=\"text-align: right;\">\n",
       "      <th></th>\n",
       "      <th>count</th>\n",
       "      <th>mean</th>\n",
       "      <th>std</th>\n",
       "      <th>min</th>\n",
       "      <th>25%</th>\n",
       "      <th>50%</th>\n",
       "      <th>75%</th>\n",
       "      <th>max</th>\n",
       "    </tr>\n",
       "    <tr>\n",
       "      <th>loan_status</th>\n",
       "      <th></th>\n",
       "      <th></th>\n",
       "      <th></th>\n",
       "      <th></th>\n",
       "      <th></th>\n",
       "      <th></th>\n",
       "      <th></th>\n",
       "      <th></th>\n",
       "    </tr>\n",
       "  </thead>\n",
       "  <tbody>\n",
       "    <tr>\n",
       "      <th>Charged Off</th>\n",
       "      <td>268559.0</td>\n",
       "      <td>3.985882</td>\n",
       "      <td>0.515100</td>\n",
       "      <td>0.0</td>\n",
       "      <td>3.777499</td>\n",
       "      <td>4.044265</td>\n",
       "      <td>4.281079</td>\n",
       "      <td>6.242223</td>\n",
       "    </tr>\n",
       "    <tr>\n",
       "      <th>Fully Paid</th>\n",
       "      <td>1076751.0</td>\n",
       "      <td>3.993775</td>\n",
       "      <td>0.536333</td>\n",
       "      <td>0.0</td>\n",
       "      <td>3.773201</td>\n",
       "      <td>4.047314</td>\n",
       "      <td>4.299420</td>\n",
       "      <td>6.463122</td>\n",
       "    </tr>\n",
       "  </tbody>\n",
       "</table>\n",
       "</div>"
      ],
      "text/plain": [
       "                 count      mean       std  min       25%       50%       75%  \\\n",
       "loan_status                                                                     \n",
       "Charged Off   268559.0  3.985882  0.515100  0.0  3.777499  4.044265  4.281079   \n",
       "Fully Paid   1076751.0  3.993775  0.536333  0.0  3.773201  4.047314  4.299420   \n",
       "\n",
       "                  max  \n",
       "loan_status            \n",
       "Charged Off  6.242223  \n",
       "Fully Paid   6.463122  "
      ]
     },
     "execution_count": 104,
     "metadata": {},
     "output_type": "execute_result"
    }
   ],
   "source": [
    "data.groupby('loan_status')['log_revol_bal'].describe()"
   ]
  },
  {
   "cell_type": "markdown",
   "metadata": {
    "_uuid": "777861b73161a134ea46fd518adcf090af59891c",
    "id": "4saVom_-V3an"
   },
   "source": [
    "Không có sự khác biệt đáng kể."
   ]
  },
  {
   "cell_type": "markdown",
   "metadata": {
    "_uuid": "274ad58c32460e96c0cda63756245feb5a3c5636",
    "id": "jJdJTvuTV3an"
   },
   "source": [
    "## 4.22 revol_util"
   ]
  },
  {
   "cell_type": "markdown",
   "metadata": {
    "_uuid": "06b12ab73f8a7ef9e6855f7580d990126f2e77d7",
    "id": "Ey7HBqQfV3an"
   },
   "source": [
    "Định nghĩa: \"Tỷ lệ sử dụng dòng quay vòng hoặc số tiền tín dụng mà người đi vay đang sử dụng so với tất cả tín dụng quay vòng có sẵn.\""
   ]
  },
  {
   "cell_type": "code",
   "execution_count": 105,
   "metadata": {
    "_uuid": "82b93a10a26ac401f29d8a0c26360f19270513e0",
    "colab": {
     "base_uri": "https://localhost:8080/"
    },
    "id": "JOv3xEK_V3an",
    "outputId": "9a997613-0e45-4da0-9c7c-fd0ac86d0890"
   },
   "outputs": [
    {
     "data": {
      "text/plain": [
       "count    1.344453e+06\n",
       "mean     5.181002e+01\n",
       "std      2.452107e+01\n",
       "min      0.000000e+00\n",
       "25%      3.340000e+01\n",
       "50%      5.220000e+01\n",
       "75%      7.070000e+01\n",
       "max      8.923000e+02\n",
       "Name: revol_util, dtype: float64"
      ]
     },
     "execution_count": 105,
     "metadata": {},
     "output_type": "execute_result"
    }
   ],
   "source": [
    "data['revol_util'].describe()"
   ]
  },
  {
   "cell_type": "code",
   "execution_count": 106,
   "metadata": {
    "_uuid": "930efc10b857a727a814ea87288ce1c83a6ca87c",
    "colab": {
     "base_uri": "https://localhost:8080/",
     "height": 384
    },
    "id": "v811ZhYXV3an",
    "outputId": "b98589cd-5645-42dc-8d18-3fb626a2ad55"
   },
   "outputs": [
    {
     "name": "stderr",
     "output_type": "stream",
     "text": [
      "C:\\Users\\hoang\\AppData\\Local\\Temp\\ipykernel_22372\\4280792411.py:7: UserWarning: \n",
      "\n",
      "`distplot` is a deprecated function and will be removed in seaborn v0.14.0.\n",
      "\n",
      "Please adapt your code to use either `displot` (a figure-level function with\n",
      "similar flexibility) or `histplot` (an axes-level function for histograms).\n",
      "\n",
      "For a guide to updating your code to use the new functions, please see\n",
      "https://gist.github.com/mwaskom/de44147ed2974457ad6372750bbe5751\n",
      "\n",
      "  sns.distplot(data.loc[data[col_name].notnull(), col_name], kde=False, ax=ax1)\n"
     ]
    },
    {
     "data": {
      "image/png": "[encoded data removed]",
      "text/plain": [
       "<Figure size 1080x270 with 2 Axes>"
      ]
     },
     "metadata": {},
     "output_type": "display_data"
    }
   ],
   "source": [
    "plot_variable('revol_util', 'Revolving Line Utilization', True)"
   ]
  },
  {
   "cell_type": "code",
   "execution_count": 107,
   "metadata": {
    "_uuid": "e4654724c59ce71ca5ec446808316fed38290e29",
    "colab": {
     "base_uri": "https://localhost:8080/",
     "height": 143
    },
    "id": "x4xtKOA3V3an",
    "outputId": "d1e58209-007e-488c-ee84-3891dee6eace"
   },
   "outputs": [
    {
     "data": {
      "text/html": [
       "<div>\n",
       "<style scoped>\n",
       "    .dataframe tbody tr th:only-of-type {\n",
       "        vertical-align: middle;\n",
       "    }\n",
       "\n",
       "    .dataframe tbody tr th {\n",
       "        vertical-align: top;\n",
       "    }\n",
       "\n",
       "    .dataframe thead th {\n",
       "        text-align: right;\n",
       "    }\n",
       "</style>\n",
       "<table border=\"1\" class=\"dataframe\">\n",
       "  <thead>\n",
       "    <tr style=\"text-align: right;\">\n",
       "      <th></th>\n",
       "      <th>count</th>\n",
       "      <th>mean</th>\n",
       "      <th>std</th>\n",
       "      <th>min</th>\n",
       "      <th>25%</th>\n",
       "      <th>50%</th>\n",
       "      <th>75%</th>\n",
       "      <th>max</th>\n",
       "    </tr>\n",
       "    <tr>\n",
       "      <th>loan_status</th>\n",
       "      <th></th>\n",
       "      <th></th>\n",
       "      <th></th>\n",
       "      <th></th>\n",
       "      <th></th>\n",
       "      <th></th>\n",
       "      <th></th>\n",
       "      <th></th>\n",
       "    </tr>\n",
       "  </thead>\n",
       "  <tbody>\n",
       "    <tr>\n",
       "      <th>Charged Off</th>\n",
       "      <td>268379.0</td>\n",
       "      <td>54.758433</td>\n",
       "      <td>23.865982</td>\n",
       "      <td>0.0</td>\n",
       "      <td>37.4</td>\n",
       "      <td>55.5</td>\n",
       "      <td>73.1</td>\n",
       "      <td>366.6</td>\n",
       "    </tr>\n",
       "    <tr>\n",
       "      <th>Fully Paid</th>\n",
       "      <td>1076074.0</td>\n",
       "      <td>51.074671</td>\n",
       "      <td>24.626821</td>\n",
       "      <td>0.0</td>\n",
       "      <td>32.5</td>\n",
       "      <td>51.3</td>\n",
       "      <td>70.1</td>\n",
       "      <td>892.3</td>\n",
       "    </tr>\n",
       "  </tbody>\n",
       "</table>\n",
       "</div>"
      ],
      "text/plain": [
       "                 count       mean        std  min   25%   50%   75%    max\n",
       "loan_status                                                               \n",
       "Charged Off   268379.0  54.758433  23.865982  0.0  37.4  55.5  73.1  366.6\n",
       "Fully Paid   1076074.0  51.074671  24.626821  0.0  32.5  51.3  70.1  892.3"
      ]
     },
     "execution_count": 107,
     "metadata": {},
     "output_type": "execute_result"
    }
   ],
   "source": [
    "data.groupby('loan_status')['revol_util'].describe()"
   ]
  },
  {
   "cell_type": "markdown",
   "metadata": {
    "_uuid": "599986b31222b7e3a70ce696ef97fa594b58b791",
    "id": "fDyTxwnlV3an"
   },
   "source": [
    "## 4.23 total_acc"
   ]
  },
  {
   "cell_type": "markdown",
   "metadata": {
    "_uuid": "78693b367060c9cbc60843086b92b9b259f75637",
    "id": "TZExPe2GV3an"
   },
   "source": [
    "Định nghĩa: \"Tổng số hạn mức tín dụng hiện có trong hồ sơ tín dụng của người đi vay.\""
   ]
  },
  {
   "cell_type": "code",
   "execution_count": 108,
   "metadata": {
    "_uuid": "ba530c2e2f0c0b16189414805e9f4faf6425b322",
    "colab": {
     "base_uri": "https://localhost:8080/",
     "height": 231
    },
    "id": "LJU1o8ThV3an",
    "outputId": "1c12d2cc-71ec-41c0-cd10-5e089050b9de"
   },
   "outputs": [
    {
     "data": {
      "text/plain": [
       "Text(0.5, 1.0, 'Total Number of Credit Lines')"
      ]
     },
     "execution_count": 108,
     "metadata": {},
     "output_type": "execute_result"
    },
    {
     "data": {
      "image/png": "[encoded data removed]",
      "text/plain": [
       "<Figure size 1080x270 with 1 Axes>"
      ]
     },
     "metadata": {},
     "output_type": "display_data"
    }
   ],
   "source": [
    "plt.figure(figsize=(12,3), dpi=90)\n",
    "sns.countplot(x=data['total_acc'],data=data, order=sorted(data['total_acc'].dropna().unique()), color='#5975A4', saturation=1)\n",
    "\n",
    "_, _ = plt.xticks(np.arange(0, 176, 10), np.arange(0, 176, 10))\n",
    "plt.title('Total Number of Credit Lines')"
   ]
  },
  {
   "cell_type": "code",
   "execution_count": 109,
   "metadata": {
    "_uuid": "1ffdc791ddadb0bde1b7dced82d4b9c3d1bef74c",
    "colab": {
     "base_uri": "https://localhost:8080/",
     "height": 143
    },
    "id": "SSje-tbMV3ao",
    "outputId": "3b8fa638-3580-45bc-c38f-fef148fb9e4f"
   },
   "outputs": [
    {
     "data": {
      "text/html": [
       "<div>\n",
       "<style scoped>\n",
       "    .dataframe tbody tr th:only-of-type {\n",
       "        vertical-align: middle;\n",
       "    }\n",
       "\n",
       "    .dataframe tbody tr th {\n",
       "        vertical-align: top;\n",
       "    }\n",
       "\n",
       "    .dataframe thead th {\n",
       "        text-align: right;\n",
       "    }\n",
       "</style>\n",
       "<table border=\"1\" class=\"dataframe\">\n",
       "  <thead>\n",
       "    <tr style=\"text-align: right;\">\n",
       "      <th></th>\n",
       "      <th>count</th>\n",
       "      <th>mean</th>\n",
       "      <th>std</th>\n",
       "      <th>min</th>\n",
       "      <th>25%</th>\n",
       "      <th>50%</th>\n",
       "      <th>75%</th>\n",
       "      <th>max</th>\n",
       "    </tr>\n",
       "    <tr>\n",
       "      <th>loan_status</th>\n",
       "      <th></th>\n",
       "      <th></th>\n",
       "      <th></th>\n",
       "      <th></th>\n",
       "      <th></th>\n",
       "      <th></th>\n",
       "      <th></th>\n",
       "      <th></th>\n",
       "    </tr>\n",
       "  </thead>\n",
       "  <tbody>\n",
       "    <tr>\n",
       "      <th>Charged Off</th>\n",
       "      <td>268559.0</td>\n",
       "      <td>24.709356</td>\n",
       "      <td>12.117364</td>\n",
       "      <td>2.0</td>\n",
       "      <td>16.0</td>\n",
       "      <td>23.0</td>\n",
       "      <td>31.0</td>\n",
       "      <td>176.0</td>\n",
       "    </tr>\n",
       "    <tr>\n",
       "      <th>Fully Paid</th>\n",
       "      <td>1076751.0</td>\n",
       "      <td>25.048551</td>\n",
       "      <td>11.967683</td>\n",
       "      <td>2.0</td>\n",
       "      <td>16.0</td>\n",
       "      <td>23.0</td>\n",
       "      <td>32.0</td>\n",
       "      <td>162.0</td>\n",
       "    </tr>\n",
       "  </tbody>\n",
       "</table>\n",
       "</div>"
      ],
      "text/plain": [
       "                 count       mean        std  min   25%   50%   75%    max\n",
       "loan_status                                                               \n",
       "Charged Off   268559.0  24.709356  12.117364  2.0  16.0  23.0  31.0  176.0\n",
       "Fully Paid   1076751.0  25.048551  11.967683  2.0  16.0  23.0  32.0  162.0"
      ]
     },
     "execution_count": 109,
     "metadata": {},
     "output_type": "execute_result"
    }
   ],
   "source": [
    "data.groupby('loan_status')['total_acc'].describe()"
   ]
  },
  {
   "cell_type": "markdown",
   "metadata": {
    "_uuid": "a55ac61ba08221393359b2204e5786d1078eb113",
    "id": "8l7kcP79V3ao"
   },
   "source": [
    "Không có sự khác biệt lớn ở đây."
   ]
  },
  {
   "cell_type": "markdown",
   "metadata": {
    "_cell_guid": "57408b52-70fd-4a45-b5bb-12f0c2612190",
    "_uuid": "2a671f42515e7c4727430a48e6163c6f77801275",
    "id": "JUaQtJhfV3ao"
   },
   "source": [
    "## 4.24 initial_list_status"
   ]
  },
  {
   "cell_type": "markdown",
   "metadata": {
    "_uuid": "b570aeb10d835dbf719bc47ffc02db4cd8ac720f",
    "id": "fRzxtB9hV3ao"
   },
   "source": [
    "Định nghĩa: \"Trạng thái niêm yết ban đầu của khoản vay. Các giá trị có thể là – W, ​​F.\"\n",
    "\n",
    "Tôi không chắc điều này có nghĩa là gì"
   ]
  },
  {
   "cell_type": "code",
   "execution_count": 110,
   "metadata": {
    "_uuid": "0b3696c284b62470ecabcec5b5d4013d525caf9f",
    "colab": {
     "base_uri": "https://localhost:8080/",
     "height": 167
    },
    "id": "TY51Hr3BV3ao",
    "outputId": "160ac5d1-f8a8-488a-8f08-d3782248e902"
   },
   "outputs": [
    {
     "data": {
      "image/png": "[encoded data removed]",
      "text/plain": [
       "<Figure size 1080x270 with 2 Axes>"
      ]
     },
     "metadata": {},
     "output_type": "display_data"
    }
   ],
   "source": [
    "plot_variable('initial_list_status', 'Initial List Status', False)"
   ]
  },
  {
   "cell_type": "markdown",
   "metadata": {
    "_cell_guid": "b34ab6cc-0a3f-4780-a234-743b9d406dca",
    "_uuid": "77b5eba4a13bd157c68f522ab8002094bb8b456d",
    "id": "vf3ReAVVV3ao"
   },
   "source": [
    "## 4.25 application_type"
   ]
  },
  {
   "cell_type": "markdown",
   "metadata": {
    "_uuid": "bff95bd7fbb026125207073d8a637e01db86b510",
    "id": "D5Jft635V3ao"
   },
   "source": [
    "Định nghĩa: \"Cho biết khoản vay là đơn đăng ký riêng lẻ hay đơn đăng ký chung với hai người đồng vay.\""
   ]
  },
  {
   "cell_type": "code",
   "execution_count": 111,
   "metadata": {
    "_cell_guid": "0fc4f079-695a-49e9-abac-05bf841bd9e5",
    "_uuid": "afc3918d6aa0db8f5ddeab49d17359155db1376d",
    "colab": {
     "base_uri": "https://localhost:8080/"
    },
    "id": "yC8NMKPyV3ao",
    "outputId": "058cdbe0-3793-49f0-84ff-d830a39abd42"
   },
   "outputs": [
    {
     "data": {
      "text/plain": [
       "application_type\n",
       "Individual    1319510\n",
       "Joint App       25800\n",
       "Name: count, dtype: int64"
      ]
     },
     "execution_count": 111,
     "metadata": {},
     "output_type": "execute_result"
    }
   ],
   "source": [
    "data['application_type'].value_counts()"
   ]
  },
  {
   "cell_type": "markdown",
   "metadata": {
    "_uuid": "726d40ca553d1b83fa358fc2b622285af6672aa2",
    "id": "GQWK8hj0V3ao"
   },
   "source": [
    "Chúng ta hãy so sánh tỷ lệ charge-off theo loại đơn đăng kí:"
   ]
  },
  {
   "cell_type": "code",
   "execution_count": 112,
   "metadata": {
    "_uuid": "a7f9652dc12bbd0c83c0e549e869adf992a79fbd",
    "colab": {
     "base_uri": "https://localhost:8080/"
    },
    "id": "TMhetGsXV3ao",
    "outputId": "c3087f3d-d164-44ae-f20f-6dbd8cecc53a"
   },
   "outputs": [
    {
     "data": {
      "text/plain": [
       "application_type\n",
       "Individual    0.198721\n",
       "Joint App     0.245891\n",
       "Name: proportion, dtype: float64"
      ]
     },
     "execution_count": 112,
     "metadata": {},
     "output_type": "execute_result"
    }
   ],
   "source": [
    "data.groupby('application_type')['loan_status'].value_counts(normalize=True).loc[:,'Charged Off']"
   ]
  },
  {
   "cell_type": "markdown",
   "metadata": {
    "_uuid": "31551940d109ad9c98080bffa261b50ae75472da",
    "id": "0zz-38eAV3ap"
   },
   "source": [
    "Các khoản vay chung ít có khả năng bị charge-off hơn."
   ]
  },
  {
   "cell_type": "markdown",
   "metadata": {
    "_uuid": "36d0be89d6a28c1a2b9c2ab2d107a6a753813399",
    "id": "cYEOrW_iV3ap"
   },
   "source": [
    "## 4.26 mort_acc"
   ]
  },
  {
   "cell_type": "markdown",
   "metadata": {
    "_uuid": "c59b7d73342ddfc3f69ec292101ef17dc0571c1b",
    "id": "Xg93ID3zV3ap"
   },
   "source": [
    "Định nghĩa: \"Số lượng tài khoản thế chấp.\""
   ]
  },
  {
   "cell_type": "code",
   "execution_count": 113,
   "metadata": {
    "_uuid": "d57da17ada8a190fdba31674991dc0330e8c7afc",
    "colab": {
     "base_uri": "https://localhost:8080/"
    },
    "id": "0GwLzPWlV3ap",
    "outputId": "f02aa612-b397-4ddf-9efb-54dbfc17a4dc"
   },
   "outputs": [
    {
     "data": {
      "text/plain": [
       "count    1.298029e+06\n",
       "mean     1.670783e+00\n",
       "std      2.000444e+00\n",
       "min      0.000000e+00\n",
       "25%      0.000000e+00\n",
       "50%      1.000000e+00\n",
       "75%      3.000000e+00\n",
       "max      5.100000e+01\n",
       "Name: mort_acc, dtype: float64"
      ]
     },
     "execution_count": 113,
     "metadata": {},
     "output_type": "execute_result"
    }
   ],
   "source": [
    "data['mort_acc'].describe()"
   ]
  },
  {
   "cell_type": "markdown",
   "metadata": {
    "_uuid": "6a68f75f3813a814aabca8bf4816042e0f90315b",
    "id": "w4pd-2fsV3ap"
   },
   "source": [
    "Không chắc làm thế nào một người nào đó có thể có 51 tài khoản thế chấp...nhưng rõ ràng là có xuất hiện. Kiểm tra 10 giá trị đầu:"
   ]
  },
  {
   "cell_type": "code",
   "execution_count": 114,
   "metadata": {
    "_uuid": "230c26b2c068f72bfac412378fd4fc61302e5a81",
    "colab": {
     "base_uri": "https://localhost:8080/"
    },
    "id": "3hFkvHW5V3ap",
    "outputId": "d6f913c0-08a3-45aa-e309-93c66dae19dc"
   },
   "outputs": [
    {
     "data": {
      "text/plain": [
       "mort_acc\n",
       "0.0    523837\n",
       "1.0    226135\n",
       "2.0    188941\n",
       "3.0    139381\n",
       "4.0     94920\n",
       "5.0     57632\n",
       "6.0     32539\n",
       "7.0     16850\n",
       "8.0      8378\n",
       "9.0      4285\n",
       "Name: count, dtype: int64"
      ]
     },
     "execution_count": 114,
     "metadata": {},
     "output_type": "execute_result"
    }
   ],
   "source": [
    "data['mort_acc'].value_counts().head(10)"
   ]
  },
  {
   "cell_type": "markdown",
   "metadata": {
    "_uuid": "e3c50701da3ef25a6995ac5ae9d5852d6fcf5e42",
    "id": "bgIEh1raV3ap"
   },
   "source": [
    "So sánh số liệu thống kê tóm tắt theo tình trạng khoản vay:"
   ]
  },
  {
   "cell_type": "code",
   "execution_count": 115,
   "metadata": {
    "_uuid": "ca421be234db5b0a65e91607958241e389c1c5a2",
    "colab": {
     "base_uri": "https://localhost:8080/",
     "height": 143
    },
    "id": "F5o2LiqtV3ap",
    "outputId": "cf35b24a-5f8e-47b8-a498-0a820b4dde8d"
   },
   "outputs": [
    {
     "data": {
      "text/html": [
       "<div>\n",
       "<style scoped>\n",
       "    .dataframe tbody tr th:only-of-type {\n",
       "        vertical-align: middle;\n",
       "    }\n",
       "\n",
       "    .dataframe tbody tr th {\n",
       "        vertical-align: top;\n",
       "    }\n",
       "\n",
       "    .dataframe thead th {\n",
       "        text-align: right;\n",
       "    }\n",
       "</style>\n",
       "<table border=\"1\" class=\"dataframe\">\n",
       "  <thead>\n",
       "    <tr style=\"text-align: right;\">\n",
       "      <th></th>\n",
       "      <th>count</th>\n",
       "      <th>mean</th>\n",
       "      <th>std</th>\n",
       "      <th>min</th>\n",
       "      <th>25%</th>\n",
       "      <th>50%</th>\n",
       "      <th>75%</th>\n",
       "      <th>max</th>\n",
       "    </tr>\n",
       "    <tr>\n",
       "      <th>loan_status</th>\n",
       "      <th></th>\n",
       "      <th></th>\n",
       "      <th></th>\n",
       "      <th></th>\n",
       "      <th></th>\n",
       "      <th></th>\n",
       "      <th></th>\n",
       "      <th></th>\n",
       "    </tr>\n",
       "  </thead>\n",
       "  <tbody>\n",
       "    <tr>\n",
       "      <th>Charged Off</th>\n",
       "      <td>261673.0</td>\n",
       "      <td>1.371032</td>\n",
       "      <td>1.825505</td>\n",
       "      <td>0.0</td>\n",
       "      <td>0.0</td>\n",
       "      <td>1.0</td>\n",
       "      <td>2.0</td>\n",
       "      <td>29.0</td>\n",
       "    </tr>\n",
       "    <tr>\n",
       "      <th>Fully Paid</th>\n",
       "      <td>1036356.0</td>\n",
       "      <td>1.746468</td>\n",
       "      <td>2.035279</td>\n",
       "      <td>0.0</td>\n",
       "      <td>0.0</td>\n",
       "      <td>1.0</td>\n",
       "      <td>3.0</td>\n",
       "      <td>51.0</td>\n",
       "    </tr>\n",
       "  </tbody>\n",
       "</table>\n",
       "</div>"
      ],
      "text/plain": [
       "                 count      mean       std  min  25%  50%  75%   max\n",
       "loan_status                                                         \n",
       "Charged Off   261673.0  1.371032  1.825505  0.0  0.0  1.0  2.0  29.0\n",
       "Fully Paid   1036356.0  1.746468  2.035279  0.0  0.0  1.0  3.0  51.0"
      ]
     },
     "execution_count": 115,
     "metadata": {},
     "output_type": "execute_result"
    }
   ],
   "source": [
    "data.groupby('loan_status')['mort_acc'].describe()"
   ]
  },
  {
   "cell_type": "markdown",
   "metadata": {
    "_uuid": "623e07fbc94d998879913ddea49abadb458e0f9e",
    "id": "oZWpKtTBV3ap"
   },
   "source": [
    "Những cá nhân trả hết khoản vay của họ có nhiều khả năng có nhiều tài khoản thế chấp hơn."
   ]
  },
  {
   "cell_type": "markdown",
   "metadata": {
    "_uuid": "66fbd303b48b42cfa07cf82e4eb84c8ea48c5e25",
    "id": "u7VGUzKvV3ap"
   },
   "source": [
    "## 4.27 pub_rec_bankruptcies"
   ]
  },
  {
   "cell_type": "markdown",
   "metadata": {
    "_uuid": "a358a17d05c11b6036361de7c716fc450af487d3",
    "id": "PcLE-WwtV3aq"
   },
   "source": [
    "Định nghĩa: \"Số hồ sơ công khai phá sản.\"\""
   ]
  },
  {
   "cell_type": "code",
   "execution_count": 116,
   "metadata": {
    "_uuid": "c2e3ebafc34f79fb222378381779aebee88fb594",
    "colab": {
     "base_uri": "https://localhost:8080/"
    },
    "id": "DI3wU3oDV3aq",
    "outputId": "00a4186b-730f-4b7b-990c-8472528c2d30"
   },
   "outputs": [
    {
     "data": {
      "text/plain": [
       "pub_rec_bankruptcies\n",
       "0.0     1176953\n",
       "1.0      157696\n",
       "2.0        7769\n",
       "3.0        1583\n",
       "4.0         396\n",
       "5.0         141\n",
       "6.0          46\n",
       "7.0          15\n",
       "8.0           9\n",
       "9.0           3\n",
       "11.0          1\n",
       "12.0          1\n",
       "Name: count, dtype: int64"
      ]
     },
     "execution_count": 116,
     "metadata": {},
     "output_type": "execute_result"
    }
   ],
   "source": [
    "data['pub_rec_bankruptcies'].value_counts().sort_index()"
   ]
  },
  {
   "cell_type": "code",
   "execution_count": 117,
   "metadata": {
    "_uuid": "eb7bd6823a5d5ab02a03a82d199a0afa86327742",
    "colab": {
     "base_uri": "https://localhost:8080/",
     "height": 167
    },
    "id": "C9l4XQ5-V3aq",
    "outputId": "1ebe9009-c5a3-4bc7-d8ad-50dd2babfd11"
   },
   "outputs": [
    {
     "data": {
      "image/png": "[encoded data removed]",
      "text/plain": [
       "<Figure size 1080x270 with 2 Axes>"
      ]
     },
     "metadata": {},
     "output_type": "display_data"
    }
   ],
   "source": [
    "plot_variable('pub_rec_bankruptcies', 'Public Record Bankruptcies', False)"
   ]
  },
  {
   "cell_type": "markdown",
   "metadata": {
    "_uuid": "48df80a32f50b9e4fd2fb6d17c16882bbef2a272",
    "id": "EZ84FXNbV3aq"
   },
   "source": [
    "# 5. More Pre-processing\n",
    "<a id=\"5\"></a>"
   ]
  },
  {
   "cell_type": "markdown",
   "metadata": {
    "_uuid": "5c5d46ae7fa6b3e2596d2174278a9ecb413b32f2",
    "id": "eK7orgwgV3aq"
   },
   "source": [
    "## 5.1 Chuyển đổi trạng thái khoản vay thành số (0/1)\n",
    "<a id=\"5.1\"></a>"
   ]
  },
  {
   "cell_type": "markdown",
   "metadata": {
    "_uuid": "0247c5eb2bf19c3c8b85ae2a377fddb796898832",
    "id": "7k7On1RjV3aq"
   },
   "source": [
    "Thay đổi biến phản hồi cho loan_status thành biến 0/1, trong đó 0 biểu thị Fully Paid và 1 biểu thị Charged Off."
   ]
  },
  {
   "cell_type": "code",
   "execution_count": 118,
   "metadata": {
    "_uuid": "c32e2cafd777d4b0ea59df465d63caa424c92e99",
    "id": "c2or-jr1V3aq"
   },
   "outputs": [],
   "source": [
    "data['charged_off'] = (data['loan_status'] == 'Charged Off').apply(np.uint8)\n",
    "data.drop('loan_status', axis=1, inplace=True)"
   ]
  },
  {
   "cell_type": "markdown",
   "metadata": {
    "_uuid": "e1a009f88678ed738dd4babd0739c1bbffa313ca",
    "id": "OHU4oai6V3ar"
   },
   "source": [
    "## 5.2 Create dummy variables - tạo biến thay thế (giả)\n",
    "<a id=\"652\"></a>"
   ]
  },
  {
   "cell_type": "markdown",
   "metadata": {
    "_uuid": "3fab723da1b9d7ac6ce5e47bd94106084415d26d",
    "id": "UvSALkv6V3ar"
   },
   "source": [
    "Hiện tại chúng ta có bao nhiêu biến?"
   ]
  },
  {
   "cell_type": "code",
   "execution_count": 119,
   "metadata": {
    "_uuid": "4b06bb284d909ebb9d8d1379449dcb823eb836b4",
    "colab": {
     "base_uri": "https://localhost:8080/"
    },
    "id": "F6HpBJjQV3ar",
    "outputId": "d6efe11c-a43a-4e4f-cdda-c3fc4e01d5e1"
   },
   "outputs": [
    {
     "data": {
      "text/plain": [
       "(1345310, 25)"
      ]
     },
     "execution_count": 119,
     "metadata": {},
     "output_type": "execute_result"
    }
   ],
   "source": [
    "data.shape"
   ]
  },
  {
   "cell_type": "markdown",
   "metadata": {
    "_uuid": "64ae9a25aac69e02473e8f085dd047beb49c337d",
    "id": "7txb9p-OV3as"
   },
   "source": [
    "Nếu bất kỳ biến phân loại nào bị thiếu giá trị, chúng ta sẽ cần tạo các biến giả NaN cho những biến đó. Vì vậy, trước tiên hãy kiểm tra xem biến nào bị thiếu dữ liệu:"
   ]
  },
  {
   "cell_type": "code",
   "execution_count": 120,
   "metadata": {
    "_uuid": "f8fb1d0f3c874d40c788ef4e2dae98540045c9e2",
    "id": "NUBe-GtDV3as"
   },
   "outputs": [],
   "source": [
    "missing_fractions = data.isnull().mean().sort_values(ascending=False) # Fraction of data missing for each variable"
   ]
  },
  {
   "cell_type": "code",
   "execution_count": 121,
   "metadata": {
    "_uuid": "3784fdc046846e12d9e24f35fdfa3479ef5ee031",
    "colab": {
     "base_uri": "https://localhost:8080/"
    },
    "id": "xchJPAy5V3as",
    "outputId": "36071b60-c066-4fa4-bd3e-af8a58211bac"
   },
   "outputs": [
    {
     "name": "stdout",
     "output_type": "stream",
     "text": [
      "emp_length              0.058359\n",
      "mort_acc                0.035145\n",
      "revol_util              0.000637\n",
      "pub_rec_bankruptcies    0.000518\n",
      "dti                     0.000278\n",
      "dtype: float64\n"
     ]
    }
   ],
   "source": [
    "print(missing_fractions[missing_fractions > 0]) # Print variables that are missing data"
   ]
  },
  {
   "cell_type": "markdown",
   "metadata": {
    "_uuid": "2f88ae0cbff3633cebeefc3872480653ef205001",
    "id": "eDlFa8uaV3as"
   },
   "source": [
    "Không có biến phân loại nào bị thiếu giá trị và do đó chúng tôi không cần bất kỳ biến giả NaN nào.\n",
    "\n",
    "Tạo các biến giả cho các biến phân loại:"
   ]
  },
  {
   "cell_type": "code",
   "execution_count": 122,
   "metadata": {
    "_uuid": "ae134b08939ec0e79a48fe5fb0854f1909155ae3",
    "colab": {
     "base_uri": "https://localhost:8080/"
    },
    "id": "AxtPpEq7V3as",
    "outputId": "f1acd1de-371d-4020-b785-51b372d5cc55"
   },
   "outputs": [
    {
     "name": "stdout",
     "output_type": "stream",
     "text": [
      "Index(['loan_amnt', 'term', 'int_rate', 'installment', 'sub_grade',\n",
      "       'emp_length', 'home_ownership', 'verification_status', 'issue_d',\n",
      "       'purpose', 'addr_state', 'dti', 'earliest_cr_line', 'open_acc',\n",
      "       'pub_rec', 'revol_util', 'total_acc', 'initial_list_status',\n",
      "       'application_type', 'mort_acc', 'pub_rec_bankruptcies',\n",
      "       'log_annual_inc', 'fico_score', 'log_revol_bal', 'charged_off'],\n",
      "      dtype='object')\n"
     ]
    }
   ],
   "source": [
    "print(data.columns)"
   ]
  },
  {
   "cell_type": "code",
   "execution_count": 123,
   "metadata": {
    "_uuid": "9e9bb9c2bf409ec5be518e3c3896bbb07cc4abb2",
    "id": "6PXaaodzV3as"
   },
   "outputs": [],
   "source": [
    "data = pd.get_dummies(data, columns=['sub_grade', 'home_ownership', 'verification_status', 'purpose', 'addr_state', 'initial_list_status', 'application_type'], drop_first=True)"
   ]
  },
  {
   "cell_type": "markdown",
   "metadata": {
    "_uuid": "f73371a37cb725909d17b8e9bcf3ee35bf8e65b0",
    "id": "7wSbF4kCV3as"
   },
   "source": [
    "Hiện tại chúng ta có bao nhiêu biến?"
   ]
  },
  {
   "cell_type": "code",
   "execution_count": 124,
   "metadata": {
    "_uuid": "7f7b283b25cee3c1fae860e415f09108b01990fc",
    "colab": {
     "base_uri": "https://localhost:8080/"
    },
    "id": "DH78QCB7V3as",
    "outputId": "c8ca3a44-4ad6-4416-e608-5e74c903481b"
   },
   "outputs": [
    {
     "data": {
      "text/plain": [
       "(1345310, 122)"
      ]
     },
     "execution_count": 124,
     "metadata": {},
     "output_type": "execute_result"
    }
   ],
   "source": [
    "data.shape"
   ]
  },
  {
   "cell_type": "markdown",
   "metadata": {
    "_uuid": "5aac6b7e148e1e72116ab037216b20ff886d4d20",
    "id": "uSansQmqV3at"
   },
   "source": [
    "Kiểm tra dữ liệu của chúng tôi với các biến giả mới:"
   ]
  },
  {
   "cell_type": "code",
   "execution_count": 125,
   "metadata": {
    "_uuid": "754d01e2f194c88b1c719c007e53d28d1bc85dab",
    "colab": {
     "base_uri": "https://localhost:8080/",
     "height": 330
    },
    "id": "aAvEwVdXV3at",
    "outputId": "88bc0ec9-47ac-4554-8227-8b6889027a50"
   },
   "outputs": [
    {
     "data": {
      "text/html": [
       "<div>\n",
       "<style scoped>\n",
       "    .dataframe tbody tr th:only-of-type {\n",
       "        vertical-align: middle;\n",
       "    }\n",
       "\n",
       "    .dataframe tbody tr th {\n",
       "        vertical-align: top;\n",
       "    }\n",
       "\n",
       "    .dataframe thead th {\n",
       "        text-align: right;\n",
       "    }\n",
       "</style>\n",
       "<table border=\"1\" class=\"dataframe\">\n",
       "  <thead>\n",
       "    <tr style=\"text-align: right;\">\n",
       "      <th></th>\n",
       "      <th>loan_amnt</th>\n",
       "      <th>term</th>\n",
       "      <th>int_rate</th>\n",
       "      <th>installment</th>\n",
       "      <th>emp_length</th>\n",
       "      <th>issue_d</th>\n",
       "      <th>dti</th>\n",
       "      <th>earliest_cr_line</th>\n",
       "      <th>open_acc</th>\n",
       "      <th>pub_rec</th>\n",
       "      <th>revol_util</th>\n",
       "      <th>total_acc</th>\n",
       "      <th>mort_acc</th>\n",
       "      <th>pub_rec_bankruptcies</th>\n",
       "      <th>log_annual_inc</th>\n",
       "      <th>fico_score</th>\n",
       "      <th>log_revol_bal</th>\n",
       "      <th>charged_off</th>\n",
       "      <th>sub_grade_A2</th>\n",
       "      <th>sub_grade_A3</th>\n",
       "      <th>sub_grade_A4</th>\n",
       "      <th>sub_grade_A5</th>\n",
       "      <th>sub_grade_B1</th>\n",
       "      <th>sub_grade_B2</th>\n",
       "      <th>sub_grade_B3</th>\n",
       "      <th>sub_grade_B4</th>\n",
       "      <th>sub_grade_B5</th>\n",
       "      <th>sub_grade_C1</th>\n",
       "      <th>sub_grade_C2</th>\n",
       "      <th>sub_grade_C3</th>\n",
       "      <th>sub_grade_C4</th>\n",
       "      <th>sub_grade_C5</th>\n",
       "      <th>sub_grade_D1</th>\n",
       "      <th>sub_grade_D2</th>\n",
       "      <th>sub_grade_D3</th>\n",
       "      <th>sub_grade_D4</th>\n",
       "      <th>sub_grade_D5</th>\n",
       "      <th>sub_grade_E1</th>\n",
       "      <th>sub_grade_E2</th>\n",
       "      <th>sub_grade_E3</th>\n",
       "      <th>sub_grade_E4</th>\n",
       "      <th>sub_grade_E5</th>\n",
       "      <th>sub_grade_F1</th>\n",
       "      <th>sub_grade_F2</th>\n",
       "      <th>sub_grade_F3</th>\n",
       "      <th>sub_grade_F4</th>\n",
       "      <th>sub_grade_F5</th>\n",
       "      <th>sub_grade_G1</th>\n",
       "      <th>sub_grade_G2</th>\n",
       "      <th>sub_grade_G3</th>\n",
       "      <th>sub_grade_G4</th>\n",
       "      <th>sub_grade_G5</th>\n",
       "      <th>home_ownership_OTHER</th>\n",
       "      <th>home_ownership_OWN</th>\n",
       "      <th>home_ownership_RENT</th>\n",
       "      <th>verification_status_Source Verified</th>\n",
       "      <th>verification_status_Verified</th>\n",
       "      <th>purpose_credit_card</th>\n",
       "      <th>purpose_debt_consolidation</th>\n",
       "      <th>purpose_educational</th>\n",
       "      <th>purpose_home_improvement</th>\n",
       "      <th>purpose_house</th>\n",
       "      <th>purpose_major_purchase</th>\n",
       "      <th>purpose_medical</th>\n",
       "      <th>purpose_moving</th>\n",
       "      <th>purpose_other</th>\n",
       "      <th>purpose_renewable_energy</th>\n",
       "      <th>purpose_small_business</th>\n",
       "      <th>purpose_vacation</th>\n",
       "      <th>purpose_wedding</th>\n",
       "      <th>addr_state_AL</th>\n",
       "      <th>addr_state_AR</th>\n",
       "      <th>addr_state_AZ</th>\n",
       "      <th>addr_state_CA</th>\n",
       "      <th>addr_state_CO</th>\n",
       "      <th>addr_state_CT</th>\n",
       "      <th>addr_state_DC</th>\n",
       "      <th>addr_state_DE</th>\n",
       "      <th>addr_state_FL</th>\n",
       "      <th>addr_state_GA</th>\n",
       "      <th>addr_state_HI</th>\n",
       "      <th>addr_state_IA</th>\n",
       "      <th>addr_state_ID</th>\n",
       "      <th>addr_state_IL</th>\n",
       "      <th>addr_state_IN</th>\n",
       "      <th>addr_state_KS</th>\n",
       "      <th>addr_state_KY</th>\n",
       "      <th>addr_state_LA</th>\n",
       "      <th>addr_state_MA</th>\n",
       "      <th>addr_state_MD</th>\n",
       "      <th>addr_state_ME</th>\n",
       "      <th>addr_state_MI</th>\n",
       "      <th>addr_state_MN</th>\n",
       "      <th>addr_state_MO</th>\n",
       "      <th>addr_state_MS</th>\n",
       "      <th>addr_state_MT</th>\n",
       "      <th>addr_state_NC</th>\n",
       "      <th>addr_state_ND</th>\n",
       "      <th>addr_state_NE</th>\n",
       "      <th>addr_state_NH</th>\n",
       "      <th>addr_state_NJ</th>\n",
       "      <th>addr_state_NM</th>\n",
       "      <th>addr_state_NV</th>\n",
       "      <th>addr_state_NY</th>\n",
       "      <th>addr_state_OH</th>\n",
       "      <th>addr_state_OK</th>\n",
       "      <th>addr_state_OR</th>\n",
       "      <th>addr_state_PA</th>\n",
       "      <th>addr_state_RI</th>\n",
       "      <th>addr_state_SC</th>\n",
       "      <th>addr_state_SD</th>\n",
       "      <th>addr_state_TN</th>\n",
       "      <th>addr_state_TX</th>\n",
       "      <th>addr_state_UT</th>\n",
       "      <th>addr_state_VA</th>\n",
       "      <th>addr_state_VT</th>\n",
       "      <th>addr_state_WA</th>\n",
       "      <th>addr_state_WI</th>\n",
       "      <th>addr_state_WV</th>\n",
       "      <th>addr_state_WY</th>\n",
       "      <th>initial_list_status_w</th>\n",
       "      <th>application_type_Joint App</th>\n",
       "    </tr>\n",
       "  </thead>\n",
       "  <tbody>\n",
       "    <tr>\n",
       "      <th>1085258</th>\n",
       "      <td>32050.0</td>\n",
       "      <td>36</td>\n",
       "      <td>14.85</td>\n",
       "      <td>1108.68</td>\n",
       "      <td>2.0</td>\n",
       "      <td>Feb-2016</td>\n",
       "      <td>26.28</td>\n",
       "      <td>2004</td>\n",
       "      <td>18.0</td>\n",
       "      <td>0.0</td>\n",
       "      <td>69.0</td>\n",
       "      <td>27.0</td>\n",
       "      <td>0.0</td>\n",
       "      <td>0.0</td>\n",
       "      <td>4.852632</td>\n",
       "      <td>692.0</td>\n",
       "      <td>4.406574</td>\n",
       "      <td>1</td>\n",
       "      <td>False</td>\n",
       "      <td>False</td>\n",
       "      <td>False</td>\n",
       "      <td>False</td>\n",
       "      <td>False</td>\n",
       "      <td>False</td>\n",
       "      <td>False</td>\n",
       "      <td>False</td>\n",
       "      <td>False</td>\n",
       "      <td>False</td>\n",
       "      <td>False</td>\n",
       "      <td>False</td>\n",
       "      <td>False</td>\n",
       "      <td>True</td>\n",
       "      <td>False</td>\n",
       "      <td>False</td>\n",
       "      <td>False</td>\n",
       "      <td>False</td>\n",
       "      <td>False</td>\n",
       "      <td>False</td>\n",
       "      <td>False</td>\n",
       "      <td>False</td>\n",
       "      <td>False</td>\n",
       "      <td>False</td>\n",
       "      <td>False</td>\n",
       "      <td>False</td>\n",
       "      <td>False</td>\n",
       "      <td>False</td>\n",
       "      <td>False</td>\n",
       "      <td>False</td>\n",
       "      <td>False</td>\n",
       "      <td>False</td>\n",
       "      <td>False</td>\n",
       "      <td>False</td>\n",
       "      <td>False</td>\n",
       "      <td>False</td>\n",
       "      <td>True</td>\n",
       "      <td>False</td>\n",
       "      <td>True</td>\n",
       "      <td>False</td>\n",
       "      <td>True</td>\n",
       "      <td>False</td>\n",
       "      <td>False</td>\n",
       "      <td>False</td>\n",
       "      <td>False</td>\n",
       "      <td>False</td>\n",
       "      <td>False</td>\n",
       "      <td>False</td>\n",
       "      <td>False</td>\n",
       "      <td>False</td>\n",
       "      <td>False</td>\n",
       "      <td>False</td>\n",
       "      <td>False</td>\n",
       "      <td>False</td>\n",
       "      <td>False</td>\n",
       "      <td>False</td>\n",
       "      <td>False</td>\n",
       "      <td>False</td>\n",
       "      <td>False</td>\n",
       "      <td>False</td>\n",
       "      <td>False</td>\n",
       "      <td>False</td>\n",
       "      <td>False</td>\n",
       "      <td>False</td>\n",
       "      <td>False</td>\n",
       "      <td>False</td>\n",
       "      <td>False</td>\n",
       "      <td>False</td>\n",
       "      <td>False</td>\n",
       "      <td>False</td>\n",
       "      <td>False</td>\n",
       "      <td>False</td>\n",
       "      <td>False</td>\n",
       "      <td>False</td>\n",
       "      <td>False</td>\n",
       "      <td>False</td>\n",
       "      <td>False</td>\n",
       "      <td>False</td>\n",
       "      <td>False</td>\n",
       "      <td>False</td>\n",
       "      <td>False</td>\n",
       "      <td>False</td>\n",
       "      <td>False</td>\n",
       "      <td>False</td>\n",
       "      <td>False</td>\n",
       "      <td>False</td>\n",
       "      <td>False</td>\n",
       "      <td>False</td>\n",
       "      <td>False</td>\n",
       "      <td>False</td>\n",
       "      <td>False</td>\n",
       "      <td>False</td>\n",
       "      <td>False</td>\n",
       "      <td>False</td>\n",
       "      <td>True</td>\n",
       "      <td>False</td>\n",
       "      <td>False</td>\n",
       "      <td>False</td>\n",
       "      <td>False</td>\n",
       "      <td>False</td>\n",
       "      <td>False</td>\n",
       "      <td>False</td>\n",
       "      <td>True</td>\n",
       "      <td>False</td>\n",
       "    </tr>\n",
       "    <tr>\n",
       "      <th>130228</th>\n",
       "      <td>28000.0</td>\n",
       "      <td>60</td>\n",
       "      <td>13.99</td>\n",
       "      <td>651.37</td>\n",
       "      <td>10.0</td>\n",
       "      <td>Sep-2015</td>\n",
       "      <td>16.37</td>\n",
       "      <td>1984</td>\n",
       "      <td>10.0</td>\n",
       "      <td>0.0</td>\n",
       "      <td>54.3</td>\n",
       "      <td>23.0</td>\n",
       "      <td>6.0</td>\n",
       "      <td>0.0</td>\n",
       "      <td>4.763435</td>\n",
       "      <td>677.0</td>\n",
       "      <td>4.328176</td>\n",
       "      <td>1</td>\n",
       "      <td>False</td>\n",
       "      <td>False</td>\n",
       "      <td>False</td>\n",
       "      <td>False</td>\n",
       "      <td>False</td>\n",
       "      <td>False</td>\n",
       "      <td>False</td>\n",
       "      <td>False</td>\n",
       "      <td>False</td>\n",
       "      <td>False</td>\n",
       "      <td>False</td>\n",
       "      <td>False</td>\n",
       "      <td>True</td>\n",
       "      <td>False</td>\n",
       "      <td>False</td>\n",
       "      <td>False</td>\n",
       "      <td>False</td>\n",
       "      <td>False</td>\n",
       "      <td>False</td>\n",
       "      <td>False</td>\n",
       "      <td>False</td>\n",
       "      <td>False</td>\n",
       "      <td>False</td>\n",
       "      <td>False</td>\n",
       "      <td>False</td>\n",
       "      <td>False</td>\n",
       "      <td>False</td>\n",
       "      <td>False</td>\n",
       "      <td>False</td>\n",
       "      <td>False</td>\n",
       "      <td>False</td>\n",
       "      <td>False</td>\n",
       "      <td>False</td>\n",
       "      <td>False</td>\n",
       "      <td>False</td>\n",
       "      <td>False</td>\n",
       "      <td>False</td>\n",
       "      <td>False</td>\n",
       "      <td>False</td>\n",
       "      <td>False</td>\n",
       "      <td>True</td>\n",
       "      <td>False</td>\n",
       "      <td>False</td>\n",
       "      <td>False</td>\n",
       "      <td>False</td>\n",
       "      <td>False</td>\n",
       "      <td>False</td>\n",
       "      <td>False</td>\n",
       "      <td>False</td>\n",
       "      <td>False</td>\n",
       "      <td>False</td>\n",
       "      <td>False</td>\n",
       "      <td>False</td>\n",
       "      <td>False</td>\n",
       "      <td>False</td>\n",
       "      <td>False</td>\n",
       "      <td>False</td>\n",
       "      <td>False</td>\n",
       "      <td>False</td>\n",
       "      <td>False</td>\n",
       "      <td>False</td>\n",
       "      <td>False</td>\n",
       "      <td>False</td>\n",
       "      <td>False</td>\n",
       "      <td>False</td>\n",
       "      <td>False</td>\n",
       "      <td>False</td>\n",
       "      <td>False</td>\n",
       "      <td>False</td>\n",
       "      <td>False</td>\n",
       "      <td>False</td>\n",
       "      <td>False</td>\n",
       "      <td>False</td>\n",
       "      <td>False</td>\n",
       "      <td>False</td>\n",
       "      <td>False</td>\n",
       "      <td>False</td>\n",
       "      <td>False</td>\n",
       "      <td>False</td>\n",
       "      <td>False</td>\n",
       "      <td>False</td>\n",
       "      <td>False</td>\n",
       "      <td>False</td>\n",
       "      <td>False</td>\n",
       "      <td>False</td>\n",
       "      <td>False</td>\n",
       "      <td>False</td>\n",
       "      <td>False</td>\n",
       "      <td>False</td>\n",
       "      <td>False</td>\n",
       "      <td>False</td>\n",
       "      <td>True</td>\n",
       "      <td>False</td>\n",
       "      <td>False</td>\n",
       "      <td>False</td>\n",
       "      <td>False</td>\n",
       "      <td>False</td>\n",
       "      <td>False</td>\n",
       "      <td>False</td>\n",
       "      <td>False</td>\n",
       "      <td>False</td>\n",
       "      <td>False</td>\n",
       "      <td>False</td>\n",
       "      <td>False</td>\n",
       "    </tr>\n",
       "    <tr>\n",
       "      <th>348941</th>\n",
       "      <td>20000.0</td>\n",
       "      <td>36</td>\n",
       "      <td>6.68</td>\n",
       "      <td>614.62</td>\n",
       "      <td>2.0</td>\n",
       "      <td>Mar-2015</td>\n",
       "      <td>26.66</td>\n",
       "      <td>1995</td>\n",
       "      <td>14.0</td>\n",
       "      <td>0.0</td>\n",
       "      <td>66.1</td>\n",
       "      <td>25.0</td>\n",
       "      <td>3.0</td>\n",
       "      <td>0.0</td>\n",
       "      <td>4.845104</td>\n",
       "      <td>687.0</td>\n",
       "      <td>4.588944</td>\n",
       "      <td>0</td>\n",
       "      <td>False</td>\n",
       "      <td>True</td>\n",
       "      <td>False</td>\n",
       "      <td>False</td>\n",
       "      <td>False</td>\n",
       "      <td>False</td>\n",
       "      <td>False</td>\n",
       "      <td>False</td>\n",
       "      <td>False</td>\n",
       "      <td>False</td>\n",
       "      <td>False</td>\n",
       "      <td>False</td>\n",
       "      <td>False</td>\n",
       "      <td>False</td>\n",
       "      <td>False</td>\n",
       "      <td>False</td>\n",
       "      <td>False</td>\n",
       "      <td>False</td>\n",
       "      <td>False</td>\n",
       "      <td>False</td>\n",
       "      <td>False</td>\n",
       "      <td>False</td>\n",
       "      <td>False</td>\n",
       "      <td>False</td>\n",
       "      <td>False</td>\n",
       "      <td>False</td>\n",
       "      <td>False</td>\n",
       "      <td>False</td>\n",
       "      <td>False</td>\n",
       "      <td>False</td>\n",
       "      <td>False</td>\n",
       "      <td>False</td>\n",
       "      <td>False</td>\n",
       "      <td>False</td>\n",
       "      <td>False</td>\n",
       "      <td>False</td>\n",
       "      <td>False</td>\n",
       "      <td>True</td>\n",
       "      <td>False</td>\n",
       "      <td>True</td>\n",
       "      <td>False</td>\n",
       "      <td>False</td>\n",
       "      <td>False</td>\n",
       "      <td>False</td>\n",
       "      <td>False</td>\n",
       "      <td>False</td>\n",
       "      <td>False</td>\n",
       "      <td>False</td>\n",
       "      <td>False</td>\n",
       "      <td>False</td>\n",
       "      <td>False</td>\n",
       "      <td>False</td>\n",
       "      <td>False</td>\n",
       "      <td>False</td>\n",
       "      <td>False</td>\n",
       "      <td>False</td>\n",
       "      <td>False</td>\n",
       "      <td>False</td>\n",
       "      <td>False</td>\n",
       "      <td>False</td>\n",
       "      <td>False</td>\n",
       "      <td>False</td>\n",
       "      <td>False</td>\n",
       "      <td>False</td>\n",
       "      <td>False</td>\n",
       "      <td>False</td>\n",
       "      <td>False</td>\n",
       "      <td>False</td>\n",
       "      <td>False</td>\n",
       "      <td>False</td>\n",
       "      <td>False</td>\n",
       "      <td>False</td>\n",
       "      <td>False</td>\n",
       "      <td>False</td>\n",
       "      <td>False</td>\n",
       "      <td>False</td>\n",
       "      <td>False</td>\n",
       "      <td>False</td>\n",
       "      <td>False</td>\n",
       "      <td>False</td>\n",
       "      <td>False</td>\n",
       "      <td>False</td>\n",
       "      <td>False</td>\n",
       "      <td>False</td>\n",
       "      <td>False</td>\n",
       "      <td>False</td>\n",
       "      <td>False</td>\n",
       "      <td>False</td>\n",
       "      <td>False</td>\n",
       "      <td>False</td>\n",
       "      <td>False</td>\n",
       "      <td>False</td>\n",
       "      <td>False</td>\n",
       "      <td>False</td>\n",
       "      <td>False</td>\n",
       "      <td>False</td>\n",
       "      <td>False</td>\n",
       "      <td>False</td>\n",
       "      <td>False</td>\n",
       "      <td>True</td>\n",
       "      <td>False</td>\n",
       "      <td>False</td>\n",
       "      <td>True</td>\n",
       "      <td>False</td>\n",
       "    </tr>\n",
       "    <tr>\n",
       "      <th>133395</th>\n",
       "      <td>12000.0</td>\n",
       "      <td>36</td>\n",
       "      <td>8.18</td>\n",
       "      <td>377.04</td>\n",
       "      <td>10.0</td>\n",
       "      <td>Sep-2015</td>\n",
       "      <td>19.53</td>\n",
       "      <td>2000</td>\n",
       "      <td>10.0</td>\n",
       "      <td>0.0</td>\n",
       "      <td>63.8</td>\n",
       "      <td>18.0</td>\n",
       "      <td>2.0</td>\n",
       "      <td>0.0</td>\n",
       "      <td>4.845104</td>\n",
       "      <td>717.0</td>\n",
       "      <td>4.593906</td>\n",
       "      <td>0</td>\n",
       "      <td>False</td>\n",
       "      <td>False</td>\n",
       "      <td>False</td>\n",
       "      <td>False</td>\n",
       "      <td>True</td>\n",
       "      <td>False</td>\n",
       "      <td>False</td>\n",
       "      <td>False</td>\n",
       "      <td>False</td>\n",
       "      <td>False</td>\n",
       "      <td>False</td>\n",
       "      <td>False</td>\n",
       "      <td>False</td>\n",
       "      <td>False</td>\n",
       "      <td>False</td>\n",
       "      <td>False</td>\n",
       "      <td>False</td>\n",
       "      <td>False</td>\n",
       "      <td>False</td>\n",
       "      <td>False</td>\n",
       "      <td>False</td>\n",
       "      <td>False</td>\n",
       "      <td>False</td>\n",
       "      <td>False</td>\n",
       "      <td>False</td>\n",
       "      <td>False</td>\n",
       "      <td>False</td>\n",
       "      <td>False</td>\n",
       "      <td>False</td>\n",
       "      <td>False</td>\n",
       "      <td>False</td>\n",
       "      <td>False</td>\n",
       "      <td>False</td>\n",
       "      <td>False</td>\n",
       "      <td>False</td>\n",
       "      <td>False</td>\n",
       "      <td>False</td>\n",
       "      <td>False</td>\n",
       "      <td>False</td>\n",
       "      <td>False</td>\n",
       "      <td>False</td>\n",
       "      <td>False</td>\n",
       "      <td>True</td>\n",
       "      <td>False</td>\n",
       "      <td>False</td>\n",
       "      <td>False</td>\n",
       "      <td>False</td>\n",
       "      <td>False</td>\n",
       "      <td>False</td>\n",
       "      <td>False</td>\n",
       "      <td>False</td>\n",
       "      <td>False</td>\n",
       "      <td>False</td>\n",
       "      <td>False</td>\n",
       "      <td>False</td>\n",
       "      <td>False</td>\n",
       "      <td>False</td>\n",
       "      <td>False</td>\n",
       "      <td>False</td>\n",
       "      <td>False</td>\n",
       "      <td>False</td>\n",
       "      <td>False</td>\n",
       "      <td>False</td>\n",
       "      <td>False</td>\n",
       "      <td>False</td>\n",
       "      <td>False</td>\n",
       "      <td>False</td>\n",
       "      <td>False</td>\n",
       "      <td>False</td>\n",
       "      <td>False</td>\n",
       "      <td>False</td>\n",
       "      <td>False</td>\n",
       "      <td>False</td>\n",
       "      <td>False</td>\n",
       "      <td>False</td>\n",
       "      <td>False</td>\n",
       "      <td>False</td>\n",
       "      <td>False</td>\n",
       "      <td>False</td>\n",
       "      <td>False</td>\n",
       "      <td>False</td>\n",
       "      <td>False</td>\n",
       "      <td>False</td>\n",
       "      <td>False</td>\n",
       "      <td>False</td>\n",
       "      <td>False</td>\n",
       "      <td>True</td>\n",
       "      <td>False</td>\n",
       "      <td>False</td>\n",
       "      <td>False</td>\n",
       "      <td>False</td>\n",
       "      <td>False</td>\n",
       "      <td>False</td>\n",
       "      <td>False</td>\n",
       "      <td>False</td>\n",
       "      <td>False</td>\n",
       "      <td>False</td>\n",
       "      <td>False</td>\n",
       "      <td>False</td>\n",
       "      <td>False</td>\n",
       "      <td>False</td>\n",
       "      <td>False</td>\n",
       "      <td>False</td>\n",
       "      <td>False</td>\n",
       "    </tr>\n",
       "    <tr>\n",
       "      <th>342212</th>\n",
       "      <td>32000.0</td>\n",
       "      <td>60</td>\n",
       "      <td>17.57</td>\n",
       "      <td>805.13</td>\n",
       "      <td>10.0</td>\n",
       "      <td>Mar-2015</td>\n",
       "      <td>24.11</td>\n",
       "      <td>1998</td>\n",
       "      <td>12.0</td>\n",
       "      <td>0.0</td>\n",
       "      <td>36.3</td>\n",
       "      <td>21.0</td>\n",
       "      <td>0.0</td>\n",
       "      <td>0.0</td>\n",
       "      <td>4.857339</td>\n",
       "      <td>727.0</td>\n",
       "      <td>4.179408</td>\n",
       "      <td>0</td>\n",
       "      <td>False</td>\n",
       "      <td>False</td>\n",
       "      <td>False</td>\n",
       "      <td>False</td>\n",
       "      <td>False</td>\n",
       "      <td>False</td>\n",
       "      <td>False</td>\n",
       "      <td>False</td>\n",
       "      <td>False</td>\n",
       "      <td>False</td>\n",
       "      <td>False</td>\n",
       "      <td>False</td>\n",
       "      <td>False</td>\n",
       "      <td>False</td>\n",
       "      <td>False</td>\n",
       "      <td>False</td>\n",
       "      <td>False</td>\n",
       "      <td>True</td>\n",
       "      <td>False</td>\n",
       "      <td>False</td>\n",
       "      <td>False</td>\n",
       "      <td>False</td>\n",
       "      <td>False</td>\n",
       "      <td>False</td>\n",
       "      <td>False</td>\n",
       "      <td>False</td>\n",
       "      <td>False</td>\n",
       "      <td>False</td>\n",
       "      <td>False</td>\n",
       "      <td>False</td>\n",
       "      <td>False</td>\n",
       "      <td>False</td>\n",
       "      <td>False</td>\n",
       "      <td>False</td>\n",
       "      <td>False</td>\n",
       "      <td>False</td>\n",
       "      <td>True</td>\n",
       "      <td>False</td>\n",
       "      <td>True</td>\n",
       "      <td>False</td>\n",
       "      <td>True</td>\n",
       "      <td>False</td>\n",
       "      <td>False</td>\n",
       "      <td>False</td>\n",
       "      <td>False</td>\n",
       "      <td>False</td>\n",
       "      <td>False</td>\n",
       "      <td>False</td>\n",
       "      <td>False</td>\n",
       "      <td>False</td>\n",
       "      <td>False</td>\n",
       "      <td>False</td>\n",
       "      <td>False</td>\n",
       "      <td>False</td>\n",
       "      <td>False</td>\n",
       "      <td>True</td>\n",
       "      <td>False</td>\n",
       "      <td>False</td>\n",
       "      <td>False</td>\n",
       "      <td>False</td>\n",
       "      <td>False</td>\n",
       "      <td>False</td>\n",
       "      <td>False</td>\n",
       "      <td>False</td>\n",
       "      <td>False</td>\n",
       "      <td>False</td>\n",
       "      <td>False</td>\n",
       "      <td>False</td>\n",
       "      <td>False</td>\n",
       "      <td>False</td>\n",
       "      <td>False</td>\n",
       "      <td>False</td>\n",
       "      <td>False</td>\n",
       "      <td>False</td>\n",
       "      <td>False</td>\n",
       "      <td>False</td>\n",
       "      <td>False</td>\n",
       "      <td>False</td>\n",
       "      <td>False</td>\n",
       "      <td>False</td>\n",
       "      <td>False</td>\n",
       "      <td>False</td>\n",
       "      <td>False</td>\n",
       "      <td>False</td>\n",
       "      <td>False</td>\n",
       "      <td>False</td>\n",
       "      <td>False</td>\n",
       "      <td>False</td>\n",
       "      <td>False</td>\n",
       "      <td>False</td>\n",
       "      <td>False</td>\n",
       "      <td>False</td>\n",
       "      <td>False</td>\n",
       "      <td>False</td>\n",
       "      <td>False</td>\n",
       "      <td>False</td>\n",
       "      <td>False</td>\n",
       "      <td>False</td>\n",
       "      <td>False</td>\n",
       "      <td>False</td>\n",
       "      <td>False</td>\n",
       "      <td>False</td>\n",
       "      <td>True</td>\n",
       "      <td>False</td>\n",
       "    </tr>\n",
       "  </tbody>\n",
       "</table>\n",
       "</div>"
      ],
      "text/plain": [
       "         loan_amnt  term  int_rate  installment  emp_length   issue_d    dti  \\\n",
       "1085258    32050.0    36     14.85      1108.68         2.0  Feb-2016  26.28   \n",
       "130228     28000.0    60     13.99       651.37        10.0  Sep-2015  16.37   \n",
       "348941     20000.0    36      6.68       614.62         2.0  Mar-2015  26.66   \n",
       "133395     12000.0    36      8.18       377.04        10.0  Sep-2015  19.53   \n",
       "342212     32000.0    60     17.57       805.13        10.0  Mar-2015  24.11   \n",
       "\n",
       "         earliest_cr_line  open_acc  pub_rec  revol_util  total_acc  mort_acc  \\\n",
       "1085258              2004      18.0      0.0        69.0       27.0       0.0   \n",
       "130228               1984      10.0      0.0        54.3       23.0       6.0   \n",
       "348941               1995      14.0      0.0        66.1       25.0       3.0   \n",
       "133395               2000      10.0      0.0        63.8       18.0       2.0   \n",
       "342212               1998      12.0      0.0        36.3       21.0       0.0   \n",
       "\n",
       "         pub_rec_bankruptcies  log_annual_inc  fico_score  log_revol_bal  \\\n",
       "1085258                   0.0        4.852632       692.0       4.406574   \n",
       "130228                    0.0        4.763435       677.0       4.328176   \n",
       "348941                    0.0        4.845104       687.0       4.588944   \n",
       "133395                    0.0        4.845104       717.0       4.593906   \n",
       "342212                    0.0        4.857339       727.0       4.179408   \n",
       "\n",
       "         charged_off  sub_grade_A2  sub_grade_A3  sub_grade_A4  sub_grade_A5  \\\n",
       "1085258            1         False         False         False         False   \n",
       "130228             1         False         False         False         False   \n",
       "348941             0         False          True         False         False   \n",
       "133395             0         False         False         False         False   \n",
       "342212             0         False         False         False         False   \n",
       "\n",
       "         sub_grade_B1  sub_grade_B2  sub_grade_B3  sub_grade_B4  sub_grade_B5  \\\n",
       "1085258         False         False         False         False         False   \n",
       "130228          False         False         False         False         False   \n",
       "348941          False         False         False         False         False   \n",
       "133395           True         False         False         False         False   \n",
       "342212          False         False         False         False         False   \n",
       "\n",
       "         sub_grade_C1  sub_grade_C2  sub_grade_C3  sub_grade_C4  sub_grade_C5  \\\n",
       "1085258         False         False         False         False          True   \n",
       "130228          False         False         False          True         False   \n",
       "348941          False         False         False         False         False   \n",
       "133395          False         False         False         False         False   \n",
       "342212          False         False         False         False         False   \n",
       "\n",
       "         sub_grade_D1  sub_grade_D2  sub_grade_D3  sub_grade_D4  sub_grade_D5  \\\n",
       "1085258         False         False         False         False         False   \n",
       "130228          False         False         False         False         False   \n",
       "348941          False         False         False         False         False   \n",
       "133395          False         False         False         False         False   \n",
       "342212          False         False         False          True         False   \n",
       "\n",
       "         sub_grade_E1  sub_grade_E2  sub_grade_E3  sub_grade_E4  sub_grade_E5  \\\n",
       "1085258         False         False         False         False         False   \n",
       "130228          False         False         False         False         False   \n",
       "348941          False         False         False         False         False   \n",
       "133395          False         False         False         False         False   \n",
       "342212          False         False         False         False         False   \n",
       "\n",
       "         sub_grade_F1  sub_grade_F2  sub_grade_F3  sub_grade_F4  sub_grade_F5  \\\n",
       "1085258         False         False         False         False         False   \n",
       "130228          False         False         False         False         False   \n",
       "348941          False         False         False         False         False   \n",
       "133395          False         False         False         False         False   \n",
       "342212          False         False         False         False         False   \n",
       "\n",
       "         sub_grade_G1  sub_grade_G2  sub_grade_G3  sub_grade_G4  sub_grade_G5  \\\n",
       "1085258         False         False         False         False         False   \n",
       "130228          False         False         False         False         False   \n",
       "348941          False         False         False         False         False   \n",
       "133395          False         False         False         False         False   \n",
       "342212          False         False         False         False         False   \n",
       "\n",
       "         home_ownership_OTHER  home_ownership_OWN  home_ownership_RENT  \\\n",
       "1085258                 False               False                 True   \n",
       "130228                  False               False                False   \n",
       "348941                  False               False                False   \n",
       "133395                  False               False                False   \n",
       "342212                  False               False                 True   \n",
       "\n",
       "         verification_status_Source Verified  verification_status_Verified  \\\n",
       "1085258                                False                          True   \n",
       "130228                                 False                         False   \n",
       "348941                                  True                         False   \n",
       "133395                                 False                         False   \n",
       "342212                                 False                          True   \n",
       "\n",
       "         purpose_credit_card  purpose_debt_consolidation  purpose_educational  \\\n",
       "1085258                False                        True                False   \n",
       "130228                 False                        True                False   \n",
       "348941                  True                       False                False   \n",
       "133395                 False                       False                False   \n",
       "342212                 False                        True                False   \n",
       "\n",
       "         purpose_home_improvement  purpose_house  purpose_major_purchase  \\\n",
       "1085258                     False          False                   False   \n",
       "130228                      False          False                   False   \n",
       "348941                      False          False                   False   \n",
       "133395                       True          False                   False   \n",
       "342212                      False          False                   False   \n",
       "\n",
       "         purpose_medical  purpose_moving  purpose_other  \\\n",
       "1085258            False           False          False   \n",
       "130228             False           False          False   \n",
       "348941             False           False          False   \n",
       "133395             False           False          False   \n",
       "342212             False           False          False   \n",
       "\n",
       "         purpose_renewable_energy  purpose_small_business  purpose_vacation  \\\n",
       "1085258                     False                   False             False   \n",
       "130228                      False                   False             False   \n",
       "348941                      False                   False             False   \n",
       "133395                      False                   False             False   \n",
       "342212                      False                   False             False   \n",
       "\n",
       "         purpose_wedding  addr_state_AL  addr_state_AR  addr_state_AZ  \\\n",
       "1085258            False          False          False          False   \n",
       "130228             False          False          False          False   \n",
       "348941             False          False          False          False   \n",
       "133395             False          False          False          False   \n",
       "342212             False          False          False          False   \n",
       "\n",
       "         addr_state_CA  addr_state_CO  addr_state_CT  addr_state_DC  \\\n",
       "1085258          False          False          False          False   \n",
       "130228           False          False          False          False   \n",
       "348941           False          False          False          False   \n",
       "133395           False          False          False          False   \n",
       "342212            True          False          False          False   \n",
       "\n",
       "         addr_state_DE  addr_state_FL  addr_state_GA  addr_state_HI  \\\n",
       "1085258          False          False          False          False   \n",
       "130228           False          False          False          False   \n",
       "348941           False          False          False          False   \n",
       "133395           False          False          False          False   \n",
       "342212           False          False          False          False   \n",
       "\n",
       "         addr_state_IA  addr_state_ID  addr_state_IL  addr_state_IN  \\\n",
       "1085258          False          False          False          False   \n",
       "130228           False          False          False          False   \n",
       "348941           False          False          False          False   \n",
       "133395           False          False          False          False   \n",
       "342212           False          False          False          False   \n",
       "\n",
       "         addr_state_KS  addr_state_KY  addr_state_LA  addr_state_MA  \\\n",
       "1085258          False          False          False          False   \n",
       "130228           False          False          False          False   \n",
       "348941           False          False          False          False   \n",
       "133395           False          False          False          False   \n",
       "342212           False          False          False          False   \n",
       "\n",
       "         addr_state_MD  addr_state_ME  addr_state_MI  addr_state_MN  \\\n",
       "1085258          False          False          False          False   \n",
       "130228           False          False          False          False   \n",
       "348941           False          False          False          False   \n",
       "133395           False          False          False          False   \n",
       "342212           False          False          False          False   \n",
       "\n",
       "         addr_state_MO  addr_state_MS  addr_state_MT  addr_state_NC  \\\n",
       "1085258          False          False          False          False   \n",
       "130228           False          False          False          False   \n",
       "348941           False          False          False          False   \n",
       "133395           False          False          False          False   \n",
       "342212           False          False          False          False   \n",
       "\n",
       "         addr_state_ND  addr_state_NE  addr_state_NH  addr_state_NJ  \\\n",
       "1085258          False          False          False          False   \n",
       "130228           False          False          False          False   \n",
       "348941           False          False          False          False   \n",
       "133395           False          False          False          False   \n",
       "342212           False          False          False          False   \n",
       "\n",
       "         addr_state_NM  addr_state_NV  addr_state_NY  addr_state_OH  \\\n",
       "1085258          False          False          False          False   \n",
       "130228           False          False          False          False   \n",
       "348941           False          False          False          False   \n",
       "133395           False          False          False           True   \n",
       "342212           False          False          False          False   \n",
       "\n",
       "         addr_state_OK  addr_state_OR  addr_state_PA  addr_state_RI  \\\n",
       "1085258          False          False          False          False   \n",
       "130228           False          False          False          False   \n",
       "348941           False          False          False          False   \n",
       "133395           False          False          False          False   \n",
       "342212           False          False          False          False   \n",
       "\n",
       "         addr_state_SC  addr_state_SD  addr_state_TN  addr_state_TX  \\\n",
       "1085258          False          False          False           True   \n",
       "130228            True          False          False          False   \n",
       "348941           False          False          False          False   \n",
       "133395           False          False          False          False   \n",
       "342212           False          False          False          False   \n",
       "\n",
       "         addr_state_UT  addr_state_VA  addr_state_VT  addr_state_WA  \\\n",
       "1085258          False          False          False          False   \n",
       "130228           False          False          False          False   \n",
       "348941           False          False          False          False   \n",
       "133395           False          False          False          False   \n",
       "342212           False          False          False          False   \n",
       "\n",
       "         addr_state_WI  addr_state_WV  addr_state_WY  initial_list_status_w  \\\n",
       "1085258          False          False          False                   True   \n",
       "130228           False          False          False                  False   \n",
       "348941            True          False          False                   True   \n",
       "133395           False          False          False                  False   \n",
       "342212           False          False          False                   True   \n",
       "\n",
       "         application_type_Joint App  \n",
       "1085258                       False  \n",
       "130228                        False  \n",
       "348941                        False  \n",
       "133395                        False  \n",
       "342212                        False  "
      ]
     },
     "execution_count": 125,
     "metadata": {},
     "output_type": "execute_result"
    }
   ],
   "source": [
    "data.sample(5)"
   ]
  },
  {
   "cell_type": "markdown",
   "metadata": {
    "_uuid": "a8775d773bb8dff6b281363f0b0d72bd3d1e80a3",
    "id": "8NGjMufYV3at"
   },
   "source": [
    "## 5.3 Train/test split\n",
    "<a id=\"5.3\"></a>"
   ]
  },
  {
   "cell_type": "markdown",
   "metadata": {
    "_uuid": "a670879e59b424e5084f5c8e0abf1fda43bbfee5",
    "id": "QdTOqT5vV3at"
   },
   "source": [
    "Làm cho vấn đề lập mô hình của mình trở nên thực tế hơn bằng cách thực hiện phân chia đào tạo/kiểm tra dựa trên tháng mà khoản vay được tài trợ. Nghĩa là, chúng ta sẽ sử dụng các khoản vay được tài trợ vào những ngày trước đó để dự đoán liệu các khoản vay trong tương lai có được thanh toán hay không. Biến `issue_d` bao gồm tháng và năm khoản vay được tài trợ."
   ]
  },
  {
   "cell_type": "code",
   "execution_count": 126,
   "metadata": {
    "_uuid": "e5a5a05b996d53af6a022eba3737119ae6170314",
    "colab": {
     "base_uri": "https://localhost:8080/"
    },
    "id": "gfrD-nQlV3at",
    "outputId": "b3555c3c-06df-4cb2-ce3e-414498e979be"
   },
   "outputs": [
    {
     "data": {
      "text/plain": [
       "1952048    Sep-2016\n",
       "1898515    Oct-2012\n",
       "302728     Apr-2015\n",
       "1730697    Jan-2017\n",
       "118717     Oct-2015\n",
       "Name: issue_d, dtype: object"
      ]
     },
     "execution_count": 126,
     "metadata": {},
     "output_type": "execute_result"
    }
   ],
   "source": [
    "data['issue_d'].sample(5)"
   ]
  },
  {
   "cell_type": "markdown",
   "metadata": {
    "_uuid": "fced747f294c652b0f92a41cc1f86be69a52b7c2",
    "id": "dhl-GKX_V3at"
   },
   "source": [
    "Are there any missing values?"
   ]
  },
  {
   "cell_type": "code",
   "execution_count": 127,
   "metadata": {
    "_uuid": "b8c2e35a082bcdc9953e72716ba03a83b687606e",
    "colab": {
     "base_uri": "https://localhost:8080/"
    },
    "id": "h4IQWOfOV3at",
    "outputId": "a086d118-1be6-4aed-a72d-d7b7e0196237"
   },
   "outputs": [
    {
     "data": {
      "text/plain": [
       "False"
      ]
     },
     "execution_count": 127,
     "metadata": {},
     "output_type": "execute_result"
    }
   ],
   "source": [
    "data['issue_d'].isnull().any()"
   ]
  },
  {
   "cell_type": "markdown",
   "metadata": {
    "_uuid": "6324de61a85b5548e58d6d4dc1965c697d0e5443",
    "id": "vPDdM95eV3at"
   },
   "source": [
    "Chuyển đổi ngày phát hành thành đối tượng datetime:"
   ]
  },
  {
   "cell_type": "code",
   "execution_count": 128,
   "metadata": {
    "_uuid": "d857b70462ac2c5b479036cb8ddab3355a36f42c",
    "id": "b3cAfo5gV3at"
   },
   "outputs": [
    {
     "name": "stderr",
     "output_type": "stream",
     "text": [
      "C:\\Users\\hoang\\AppData\\Local\\Temp\\ipykernel_22372\\2469893809.py:1: UserWarning: Could not infer format, so each element will be parsed individually, falling back to `dateutil`. To ensure parsing is consistent and as-expected, please specify a format.\n",
      "  data['issue_d'] = pd.to_datetime(data['issue_d'])\n"
     ]
    }
   ],
   "source": [
    "data['issue_d'] = pd.to_datetime(data['issue_d'])"
   ]
  },
  {
   "cell_type": "code",
   "execution_count": 129,
   "metadata": {
    "_uuid": "d0208aa8b15c941bc3392cf8fc561f75dadec430",
    "colab": {
     "base_uri": "https://localhost:8080/"
    },
    "id": "ztR8jXd8V3at",
    "outputId": "5ed8fac4-0706-4066-944a-6fbc044ec4e8"
   },
   "outputs": [
    {
     "data": {
      "text/plain": [
       "391584    2015-01-01\n",
       "1350570   2014-01-01\n",
       "991337    2016-03-01\n",
       "724099    2016-04-01\n",
       "1302141   2014-04-01\n",
       "Name: issue_d, dtype: datetime64[ns]"
      ]
     },
     "execution_count": 129,
     "metadata": {},
     "output_type": "execute_result"
    }
   ],
   "source": [
    "data['issue_d'].sample(5)"
   ]
  },
  {
   "cell_type": "markdown",
   "metadata": {
    "_uuid": "730cf056bcff6fc9e04188177c876895afe57f95",
    "id": "Pxsj6691V3at"
   },
   "source": [
    "Tất cả các giá trị ngày giờ mới đều vào ngày đầu tiên của tháng. Kiểm tra số liệu thống kê tóm tắt về ngày phát hành:"
   ]
  },
  {
   "cell_type": "code",
   "execution_count": 130,
   "metadata": {
    "_uuid": "b30fee581d32921e02468c825de52207dea31ccf",
    "colab": {
     "base_uri": "https://localhost:8080/"
    },
    "id": "98bg_TIxV3at",
    "outputId": "d07735e2-cb49-4eac-e267-e0d5edf24783"
   },
   "outputs": [
    {
     "data": {
      "text/plain": [
       "count                          1345310\n",
       "mean     2015-06-06 17:48:20.835048960\n",
       "min                2007-06-01 00:00:00\n",
       "25%                2014-07-01 00:00:00\n",
       "50%                2015-08-01 00:00:00\n",
       "75%                2016-07-01 00:00:00\n",
       "max                2018-12-01 00:00:00\n",
       "Name: issue_d, dtype: object"
      ]
     },
     "execution_count": 130,
     "metadata": {},
     "output_type": "execute_result"
    }
   ],
   "source": [
    "data['issue_d'].describe()"
   ]
  },
  {
   "cell_type": "markdown",
   "metadata": {
    "_uuid": "fa14dfa809d80d3285853b323abd5cc8d99378c1",
    "id": "9MnjsvkYV3au"
   },
   "source": [
    "Chỉ có 124 ngày phát hành duy nhất trong khoảng thời gian 10 năm vì chúng tôi chỉ có thông tin tháng/năm. Trong tập dữ liệu cụ thể này, các khoản vay đầu tiên được phát hành vào tháng 6 năm 2007 và các khoản vay gần đây nhất được phát hành vào tháng 9 năm 2017. Tháng bận rộn nhất là tháng 10 năm 2014 với 33.699 khoản vay được tài trợ trong tháng đó. Việc phân bổ các khoản vay được tài trợ trong mỗi năm như thế nào?"
   ]
  },
  {
   "cell_type": "code",
   "execution_count": 131,
   "metadata": {
    "_uuid": "8b7de46263cc73e90ca50ffac8925d736583d552",
    "colab": {
     "base_uri": "https://localhost:8080/",
     "height": 347
    },
    "id": "3Ck-aHCWV3au",
    "outputId": "46c057bc-b2d4-4e59-b337-c190ab3a600e"
   },
   "outputs": [
    {
     "data": {
      "text/plain": [
       "Text(0.5, 1.0, 'Loans Funded per Year')"
      ]
     },
     "execution_count": 131,
     "metadata": {},
     "output_type": "execute_result"
    },
    {
     "data": {
      "image/png": "[encoded data removed]",
      "text/plain": [
       "<Figure size 540x270 with 1 Axes>"
      ]
     },
     "metadata": {},
     "output_type": "display_data"
    }
   ],
   "source": [
    "plt.figure(figsize=(6,3), dpi=90)\n",
    "data['issue_d'].dt.year.value_counts().sort_index().plot.bar(color='darkblue')\n",
    "plt.xlabel('Year')\n",
    "plt.ylabel('Number of Loans Funded')\n",
    "plt.title('Loans Funded per Year')"
   ]
  },
  {
   "cell_type": "markdown",
   "metadata": {
    "_uuid": "798681ddba7953dab54a96c8f2b49f0aa53d51d6",
    "id": "ebGCPUKVV3au"
   },
   "source": [
    "Chúng tôi sẽ hình thành bộ kiểm tra từ 10% khoản vay gần đây nhất."
   ]
  },
  {
   "cell_type": "code",
   "execution_count": 132,
   "metadata": {
    "_uuid": "b99bcf4eaac34aecd49afba8cafe594b3c66ca81",
    "id": "6n713XHEV3au"
   },
   "outputs": [],
   "source": [
    "loans_train = data.loc[data['issue_d'] <  data['issue_d'].quantile(0.9)]\n",
    "loans_test =  data.loc[data['issue_d'] >= data['issue_d'].quantile(0.9)]"
   ]
  },
  {
   "cell_type": "markdown",
   "metadata": {
    "_uuid": "edbc412455923ae842634b243d3af3c650aa208f",
    "id": "kF-siYYwV3au"
   },
   "source": [
    "Kiểm tra xem chúng tôi đã phân chia các khoản vay một cách hợp lý chưa:"
   ]
  },
  {
   "cell_type": "code",
   "execution_count": 133,
   "metadata": {
    "_uuid": "f0f010bc09b71f4ffbc264b4e01f2942f83ae455",
    "colab": {
     "base_uri": "https://localhost:8080/"
    },
    "id": "7jQeek9wV3au",
    "outputId": "e7969675-817d-4185-e9d7-2eb0c90b1af2"
   },
   "outputs": [
    {
     "name": "stdout",
     "output_type": "stream",
     "text": [
      "Number of loans in the partition:    1345310\n",
      "Number of loans in the full dataset: 1345310\n"
     ]
    }
   ],
   "source": [
    "print('Number of loans in the partition:   ', loans_train.shape[0] + loans_test.shape[0])\n",
    "print('Number of loans in the full dataset:', data.shape[0])"
   ]
  },
  {
   "cell_type": "markdown",
   "metadata": {
    "_uuid": "69f2f0ad9630ee006fcb32c59e181da1a2797b91",
    "id": "FjItQTSnV3au"
   },
   "source": [
    "Kích thước thử nghiệm là gì?"
   ]
  },
  {
   "cell_type": "code",
   "execution_count": 134,
   "metadata": {
    "_uuid": "fba24aa8cad4aa550b20d58560374c82a86d1e02",
    "colab": {
     "base_uri": "https://localhost:8080/"
    },
    "id": "jcebzGahV3au",
    "outputId": "bff42b18-7f1a-487b-b4b0-4b2e389e357a"
   },
   "outputs": [
    {
     "data": {
      "text/plain": [
       "0.11111639696426846"
      ]
     },
     "execution_count": 134,
     "metadata": {},
     "output_type": "execute_result"
    }
   ],
   "source": [
    "loans_test.shape[0] / data.shape[0]"
   ]
  },
  {
   "cell_type": "markdown",
   "metadata": {
    "_uuid": "b07a31625dcee71d0d5d81b6ede12683bba593e0",
    "id": "OQpRc5eJV3au"
   },
   "source": [
    "Khoảng 10,2%. Phân vùng có vẻ ổn, vì vậy chúng ta có thể xóa khung dữ liệu `data` ban đầu:"
   ]
  },
  {
   "cell_type": "code",
   "execution_count": 135,
   "metadata": {
    "_uuid": "6b07dcb5d20a9e55a9f2a1616ccef58ee567b26f",
    "id": "lKbmqM67V3av"
   },
   "outputs": [],
   "source": [
    "del data"
   ]
  },
  {
   "cell_type": "markdown",
   "metadata": {
    "_uuid": "9d7019ce998b3c8d777ee1145b08e656acf27264",
    "id": "g_PQAc8tV3av"
   },
   "source": [
    "Hãy xem số liệu thống kê tóm tắt về ngày phát hành trong tập huấn luyện và tập kiểm tra:"
   ]
  },
  {
   "cell_type": "code",
   "execution_count": 136,
   "metadata": {
    "_uuid": "9bfaa543a84cf32947d826c3130ff16b8da5f002",
    "colab": {
     "base_uri": "https://localhost:8080/"
    },
    "id": "kjkung-nV3av",
    "outputId": "9ea568ca-be92-4028-8160-256239821bb6"
   },
   "outputs": [
    {
     "data": {
      "text/plain": [
       "count                          1195824\n",
       "mean     2015-02-14 03:13:47.495684864\n",
       "min                2007-06-01 00:00:00\n",
       "25%                2014-05-01 00:00:00\n",
       "50%                2015-06-01 00:00:00\n",
       "75%                2016-03-01 00:00:00\n",
       "max                2017-05-01 00:00:00\n",
       "Name: issue_d, dtype: object"
      ]
     },
     "execution_count": 136,
     "metadata": {},
     "output_type": "execute_result"
    }
   ],
   "source": [
    "loans_train['issue_d'].describe()"
   ]
  },
  {
   "cell_type": "code",
   "execution_count": 137,
   "metadata": {
    "_uuid": "978e5f89544d0d01ce33ff7397da6b2953008506",
    "colab": {
     "base_uri": "https://localhost:8080/"
    },
    "id": "aP6k9zUJV3av",
    "outputId": "d98ae016-d3b1-4acb-df1a-fa1aad541f4e"
   },
   "outputs": [
    {
     "data": {
      "text/plain": [
       "count                           149486\n",
       "mean     2017-11-23 13:15:22.119796992\n",
       "min                2017-06-01 00:00:00\n",
       "25%                2017-08-01 00:00:00\n",
       "50%                2017-11-01 00:00:00\n",
       "75%                2018-03-01 00:00:00\n",
       "max                2018-12-01 00:00:00\n",
       "Name: issue_d, dtype: object"
      ]
     },
     "execution_count": 137,
     "metadata": {},
     "output_type": "execute_result"
    }
   ],
   "source": [
    "loans_test['issue_d'].describe()"
   ]
  },
  {
   "cell_type": "markdown",
   "metadata": {
    "_uuid": "cbf9b4e884c2d41db83db56584041a56b5256a15",
    "id": "nZK4AOZuV3av"
   },
   "source": [
    "The training set includes loans from June 2007 to June 2016. The test set includes loans from July 2016 to September 2017.\n",
    "\n",
    "Now we need to delete the `issue_d` variable, because it was not available before the loan was funded."
   ]
  },
  {
   "cell_type": "code",
   "execution_count": 138,
   "metadata": {
    "_uuid": "56fda0540fd768bd4e7765cdbe1cd1fca7e98037",
    "colab": {
     "base_uri": "https://localhost:8080/"
    },
    "id": "4bN3h-b3V3av",
    "outputId": "cc15bb15-6e9a-4010-e09c-0000fe15cc75"
   },
   "outputs": [],
   "source": [
    "loans_train.drop('issue_d', axis=1, inplace=True)\n",
    "loans_test.drop('issue_d', axis=1, inplace=True)"
   ]
  },
  {
   "cell_type": "markdown",
   "metadata": {
    "_uuid": "c48d241bab847c0edd45c7c2da94b8420d09ad02",
    "id": "FqlcgANEV3av"
   },
   "source": [
    "Now separate the predictor variables from the response variable:"
   ]
  },
  {
   "cell_type": "code",
   "execution_count": 139,
   "metadata": {
    "_uuid": "b1d19f613709760a02ee35923eb055f1c29e99fc",
    "id": "PPSBNUODV3aw"
   },
   "outputs": [],
   "source": [
    "y_train = loans_train['charged_off']\n",
    "y_test = loans_test['charged_off']"
   ]
  },
  {
   "cell_type": "code",
   "execution_count": 140,
   "metadata": {
    "_uuid": "01c8b63ffe8e66be1ebeb52c3f81d62454e735cc",
    "id": "MwWudkJEV3aw"
   },
   "outputs": [],
   "source": [
    "X_train = loans_train.drop('charged_off', axis=1)\n",
    "X_test = loans_test.drop('charged_off', axis=1)"
   ]
  },
  {
   "cell_type": "code",
   "execution_count": 141,
   "metadata": {
    "_uuid": "e930781ec1e52861556c86545b020f76f0b2da73",
    "id": "_DlzHkdvV3aw"
   },
   "outputs": [],
   "source": [
    "del loans_train, loans_test"
   ]
  },
  {
   "cell_type": "markdown",
   "metadata": {
    "_uuid": "2e951c2ffc831a7abe5035c95d3011a10cf6c55f",
    "id": "nxNldioHV3ay"
   },
   "source": [
    "## 8.1 Logistic regression with SGD training\n",
    "<a id=\"8.1\"></a>"
   ]
  },
  {
   "cell_type": "markdown",
   "metadata": {
    "_cell_guid": "fc774c42-47e6-427a-ac9c-a4bdbf7b5837",
    "_uuid": "39ac0b9f118cbb5b11d6749f2ec3f8aa3f97ac6d",
    "id": "8Q28UgeiV3ay"
   },
   "source": [
    "The `SGDClassifier` estimator in scikit-learn implements linear classifiers (SVM, logistic regression, and others) with stochastic gradient descent (SGD) training. A particular linear classifier is chosen through the `loss` hyperparameter. Because we want to predict the probability of charge-off, we choose logistic regression (a probabilistic classifier) by setting `loss = 'log'`."
   ]
  },
  {
   "cell_type": "code",
   "execution_count": 142,
   "metadata": {
    "_uuid": "732a8160690b85edf5c05fcc1877e943388320d2",
    "id": "E3U9yfJHV3ay"
   },
   "outputs": [],
   "source": [
    "from sklearn.linear_model import LogisticRegression\n",
    "from sklearn.pipeline import Pipeline\n",
    "from sklearn.impute import SimpleImputer\n",
    "from sklearn.preprocessing import StandardScaler\n",
    "from sklearn.model_selection import GridSearchCV"
   ]
  },
  {
   "cell_type": "markdown",
   "metadata": {
    "_uuid": "3bda07c1025d052dc57e47e3b8c60c2bfa1d9e83",
    "id": "levFNmRAV3ay"
   },
   "source": [
    "The machine learning pipeline:"
   ]
  },
  {
   "cell_type": "code",
   "execution_count": 143,
   "metadata": {
    "_uuid": "67db7c7b385300c52c55e48863a743432a54cc69",
    "id": "B0z1h3t8V3ay"
   },
   "outputs": [],
   "source": [
    "pipeline_logreg = Pipeline([\n",
    "    ('imputer', SimpleImputer(copy=False)), # Mean imputation by default\n",
    "    ('scaler', StandardScaler(copy=False)),\n",
    "    ('model', LogisticRegression(max_iter=1000, tol=1e-3, random_state=1, warm_start=True))\n",
    "])"
   ]
  },
  {
   "cell_type": "markdown",
   "metadata": {
    "_uuid": "3934bf0ae9ea5808ecf12254484b83c6bbe4db30",
    "id": "6Nx_xxs9V3ay"
   },
   "source": [
    "A small grid of hyperparameters to search over:"
   ]
  },
  {
   "cell_type": "code",
   "execution_count": 144,
   "metadata": {
    "_uuid": "7459d6cdd73f68f18975be07e9e8ba38353d514a",
    "id": "5Fw-IHzbV3az"
   },
   "outputs": [],
   "source": [
    "param_grid_logreg = {\n",
    "    'model__penalty': ['l1', 'l2']\n",
    "}"
   ]
  },
  {
   "cell_type": "markdown",
   "metadata": {
    "_uuid": "f7f8e7ec0d9f40aabbac611e192db879f8c22d97",
    "id": "AL5J4FXwV3az"
   },
   "source": [
    "Create the search grid object:"
   ]
  },
  {
   "cell_type": "code",
   "execution_count": 145,
   "metadata": {
    "_cell_guid": "c016e122-86dd-4c96-88c2-a901fe48cf70",
    "_uuid": "8144ec0a936a93a1fbf5e2dd00cd0082dbc40782",
    "id": "CoE8IJSyV3az"
   },
   "outputs": [],
   "source": [
    "grid_logreg = GridSearchCV(estimator=pipeline_logreg, param_grid=param_grid_logreg, scoring='roc_auc', n_jobs=1, pre_dispatch=1, cv=5, verbose=1, return_train_score=False)"
   ]
  },
  {
   "cell_type": "markdown",
   "metadata": {
    "_uuid": "38ac4e8e24104c06d2abc4d52b46f606f254a15a",
    "id": "rxJHMnLmV3az"
   },
   "source": [
    "Conduct the grid search and train the final model on the whole dataset:"
   ]
  },
  {
   "cell_type": "code",
   "execution_count": 146,
   "metadata": {
    "_cell_guid": "b907b40c-402d-4d4a-a919-e4b63e0a832d",
    "_uuid": "76e6c2e828e670a1494d4d4fbec01f232f067512",
    "colab": {
     "base_uri": "https://localhost:8080/",
     "height": 618
    },
    "id": "wJdO7d0tV3az",
    "outputId": "750fa74c-9fac-41f9-929b-154f66df9b0f"
   },
   "outputs": [
    {
     "name": "stdout",
     "output_type": "stream",
     "text": [
      "Fitting 5 folds for each of 2 candidates, totalling 10 fits\n"
     ]
    },
    {
     "name": "stderr",
     "output_type": "stream",
     "text": [
      "C:\\ancoda\\Lib\\site-packages\\sklearn\\model_selection\\_validation.py:425: FitFailedWarning: \n",
      "5 fits failed out of a total of 10.\n",
      "The score on these train-test partitions for these parameters will be set to nan.\n",
      "If these failures are not expected, you can try to debug them by setting error_score='raise'.\n",
      "\n",
      "Below are more details about the failures:\n",
      "--------------------------------------------------------------------------------\n",
      "5 fits failed with the following error:\n",
      "Traceback (most recent call last):\n",
      "  File \"C:\\ancoda\\Lib\\site-packages\\sklearn\\model_selection\\_validation.py\", line 732, in _fit_and_score\n",
      "    estimator.fit(X_train, y_train, **fit_params)\n",
      "  File \"C:\\ancoda\\Lib\\site-packages\\sklearn\\base.py\", line 1151, in wrapper\n",
      "    return fit_method(estimator, *args, **kwargs)\n",
      "           ^^^^^^^^^^^^^^^^^^^^^^^^^^^^^^^^^^^^^^\n",
      "  File \"C:\\ancoda\\Lib\\site-packages\\sklearn\\pipeline.py\", line 420, in fit\n",
      "    self._final_estimator.fit(Xt, y, **fit_params_last_step)\n",
      "  File \"C:\\ancoda\\Lib\\site-packages\\sklearn\\base.py\", line 1151, in wrapper\n",
      "    return fit_method(estimator, *args, **kwargs)\n",
      "           ^^^^^^^^^^^^^^^^^^^^^^^^^^^^^^^^^^^^^^\n",
      "  File \"C:\\ancoda\\Lib\\site-packages\\sklearn\\linear_model\\_logistic.py\", line 1168, in fit\n",
      "    solver = _check_solver(self.solver, self.penalty, self.dual)\n",
      "             ^^^^^^^^^^^^^^^^^^^^^^^^^^^^^^^^^^^^^^^^^^^^^^^^^^^\n",
      "  File \"C:\\ancoda\\Lib\\site-packages\\sklearn\\linear_model\\_logistic.py\", line 56, in _check_solver\n",
      "    raise ValueError(\n",
      "ValueError: Solver lbfgs supports only 'l2' or 'none' penalties, got l1 penalty.\n",
      "\n",
      "  warnings.warn(some_fits_failed_message, FitFailedWarning)\n",
      "C:\\ancoda\\Lib\\site-packages\\sklearn\\model_selection\\_search.py:976: UserWarning: One or more of the test scores are non-finite: [       nan 0.71245319]\n",
      "  warnings.warn(\n"
     ]
    },
    {
     "data": {
      "text/html": [
       "<style>#sk-container-id-1 {color: black;}#sk-container-id-1 pre{padding: 0;}#sk-container-id-1 div.sk-toggleable {background-color: white;}#sk-container-id-1 label.sk-toggleable__label {cursor: pointer;display: block;width: 100%;margin-bottom: 0;padding: 0.3em;box-sizing: border-box;text-align: center;}#sk-container-id-1 label.sk-toggleable__label-arrow:before {content: \"▸\";float: left;margin-right: 0.25em;color: #696969;}#sk-container-id-1 label.sk-toggleable__label-arrow:hover:before {color: black;}#sk-container-id-1 div.sk-estimator:hover label.sk-toggleable__label-arrow:before {color: black;}#sk-container-id-1 div.sk-toggleable__content {max-height: 0;max-width: 0;overflow: hidden;text-align: left;background-color: #f0f8ff;}#sk-container-id-1 div.sk-toggleable__content pre {margin: 0.2em;color: black;border-radius: 0.25em;background-color: #f0f8ff;}#sk-container-id-1 input.sk-toggleable__control:checked~div.sk-toggleable__content {max-height: 200px;max-width: 100%;overflow: auto;}#sk-container-id-1 input.sk-toggleable__control:checked~label.sk-toggleable__label-arrow:before {content: \"▾\";}#sk-container-id-1 div.sk-estimator input.sk-toggleable__control:checked~label.sk-toggleable__label {background-color: #d4ebff;}#sk-container-id-1 div.sk-label input.sk-toggleable__control:checked~label.sk-toggleable__label {background-color: #d4ebff;}#sk-container-id-1 input.sk-hidden--visually {border: 0;clip: rect(1px 1px 1px 1px);clip: rect(1px, 1px, 1px, 1px);height: 1px;margin: -1px;overflow: hidden;padding: 0;position: absolute;width: 1px;}#sk-container-id-1 div.sk-estimator {font-family: monospace;background-color: #f0f8ff;border: 1px dotted black;border-radius: 0.25em;box-sizing: border-box;margin-bottom: 0.5em;}#sk-container-id-1 div.sk-estimator:hover {background-color: #d4ebff;}#sk-container-id-1 div.sk-parallel-item::after {content: \"\";width: 100%;border-bottom: 1px solid gray;flex-grow: 1;}#sk-container-id-1 div.sk-label:hover label.sk-toggleable__label {background-color: #d4ebff;}#sk-container-id-1 div.sk-serial::before {content: \"\";position: absolute;border-left: 1px solid gray;box-sizing: border-box;top: 0;bottom: 0;left: 50%;z-index: 0;}#sk-container-id-1 div.sk-serial {display: flex;flex-direction: column;align-items: center;background-color: white;padding-right: 0.2em;padding-left: 0.2em;position: relative;}#sk-container-id-1 div.sk-item {position: relative;z-index: 1;}#sk-container-id-1 div.sk-parallel {display: flex;align-items: stretch;justify-content: center;background-color: white;position: relative;}#sk-container-id-1 div.sk-item::before, #sk-container-id-1 div.sk-parallel-item::before {content: \"\";position: absolute;border-left: 1px solid gray;box-sizing: border-box;top: 0;bottom: 0;left: 50%;z-index: -1;}#sk-container-id-1 div.sk-parallel-item {display: flex;flex-direction: column;z-index: 1;position: relative;background-color: white;}#sk-container-id-1 div.sk-parallel-item:first-child::after {align-self: flex-end;width: 50%;}#sk-container-id-1 div.sk-parallel-item:last-child::after {align-self: flex-start;width: 50%;}#sk-container-id-1 div.sk-parallel-item:only-child::after {width: 0;}#sk-container-id-1 div.sk-dashed-wrapped {border: 1px dashed gray;margin: 0 0.4em 0.5em 0.4em;box-sizing: border-box;padding-bottom: 0.4em;background-color: white;}#sk-container-id-1 div.sk-label label {font-family: monospace;font-weight: bold;display: inline-block;line-height: 1.2em;}#sk-container-id-1 div.sk-label-container {text-align: center;}#sk-container-id-1 div.sk-container {/* jupyter's `normalize.less` sets `[hidden] { display: none; }` but bootstrap.min.css set `[hidden] { display: none !important; }` so we also need the `!important` here to be able to override the default hidden behavior on the sphinx rendered scikit-learn.org. See: https://github.com/scikit-learn/scikit-learn/issues/21755 */display: inline-block !important;position: relative;}#sk-container-id-1 div.sk-text-repr-fallback {display: none;}</style><div id=\"sk-container-id-1\" class=\"sk-top-container\"><div class=\"sk-text-repr-fallback\"><pre>GridSearchCV(cv=5,\n",
       "             estimator=Pipeline(steps=[(&#x27;imputer&#x27;, SimpleImputer(copy=False)),\n",
       "                                       (&#x27;scaler&#x27;, StandardScaler(copy=False)),\n",
       "                                       (&#x27;model&#x27;,\n",
       "                                        LogisticRegression(max_iter=1000,\n",
       "                                                           random_state=1,\n",
       "                                                           tol=0.001,\n",
       "                                                           warm_start=True))]),\n",
       "             n_jobs=1, param_grid={&#x27;model__penalty&#x27;: [&#x27;l1&#x27;, &#x27;l2&#x27;]},\n",
       "             pre_dispatch=1, scoring=&#x27;roc_auc&#x27;, verbose=1)</pre><b>In a Jupyter environment, please rerun this cell to show the HTML representation or trust the notebook. <br />On GitHub, the HTML representation is unable to render, please try loading this page with nbviewer.org.</b></div><div class=\"sk-container\" hidden><div class=\"sk-item sk-dashed-wrapped\"><div class=\"sk-label-container\"><div class=\"sk-label sk-toggleable\"><input class=\"sk-toggleable__control sk-hidden--visually\" id=\"sk-estimator-id-1\" type=\"checkbox\" ><label for=\"sk-estimator-id-1\" class=\"sk-toggleable__label sk-toggleable__label-arrow\">GridSearchCV</label><div class=\"sk-toggleable__content\"><pre>GridSearchCV(cv=5,\n",
       "             estimator=Pipeline(steps=[(&#x27;imputer&#x27;, SimpleImputer(copy=False)),\n",
       "                                       (&#x27;scaler&#x27;, StandardScaler(copy=False)),\n",
       "                                       (&#x27;model&#x27;,\n",
       "                                        LogisticRegression(max_iter=1000,\n",
       "                                                           random_state=1,\n",
       "                                                           tol=0.001,\n",
       "                                                           warm_start=True))]),\n",
       "             n_jobs=1, param_grid={&#x27;model__penalty&#x27;: [&#x27;l1&#x27;, &#x27;l2&#x27;]},\n",
       "             pre_dispatch=1, scoring=&#x27;roc_auc&#x27;, verbose=1)</pre></div></div></div><div class=\"sk-parallel\"><div class=\"sk-parallel-item\"><div class=\"sk-item\"><div class=\"sk-label-container\"><div class=\"sk-label sk-toggleable\"><input class=\"sk-toggleable__control sk-hidden--visually\" id=\"sk-estimator-id-2\" type=\"checkbox\" ><label for=\"sk-estimator-id-2\" class=\"sk-toggleable__label sk-toggleable__label-arrow\">estimator: Pipeline</label><div class=\"sk-toggleable__content\"><pre>Pipeline(steps=[(&#x27;imputer&#x27;, SimpleImputer(copy=False)),\n",
       "                (&#x27;scaler&#x27;, StandardScaler(copy=False)),\n",
       "                (&#x27;model&#x27;,\n",
       "                 LogisticRegression(max_iter=1000, random_state=1, tol=0.001,\n",
       "                                    warm_start=True))])</pre></div></div></div><div class=\"sk-serial\"><div class=\"sk-item\"><div class=\"sk-serial\"><div class=\"sk-item\"><div class=\"sk-estimator sk-toggleable\"><input class=\"sk-toggleable__control sk-hidden--visually\" id=\"sk-estimator-id-3\" type=\"checkbox\" ><label for=\"sk-estimator-id-3\" class=\"sk-toggleable__label sk-toggleable__label-arrow\">SimpleImputer</label><div class=\"sk-toggleable__content\"><pre>SimpleImputer(copy=False)</pre></div></div></div><div class=\"sk-item\"><div class=\"sk-estimator sk-toggleable\"><input class=\"sk-toggleable__control sk-hidden--visually\" id=\"sk-estimator-id-4\" type=\"checkbox\" ><label for=\"sk-estimator-id-4\" class=\"sk-toggleable__label sk-toggleable__label-arrow\">StandardScaler</label><div class=\"sk-toggleable__content\"><pre>StandardScaler(copy=False)</pre></div></div></div><div class=\"sk-item\"><div class=\"sk-estimator sk-toggleable\"><input class=\"sk-toggleable__control sk-hidden--visually\" id=\"sk-estimator-id-5\" type=\"checkbox\" ><label for=\"sk-estimator-id-5\" class=\"sk-toggleable__label sk-toggleable__label-arrow\">LogisticRegression</label><div class=\"sk-toggleable__content\"><pre>LogisticRegression(max_iter=1000, random_state=1, tol=0.001, warm_start=True)</pre></div></div></div></div></div></div></div></div></div></div></div></div>"
      ],
      "text/plain": [
       "GridSearchCV(cv=5,\n",
       "             estimator=Pipeline(steps=[('imputer', SimpleImputer(copy=False)),\n",
       "                                       ('scaler', StandardScaler(copy=False)),\n",
       "                                       ('model',\n",
       "                                        LogisticRegression(max_iter=1000,\n",
       "                                                           random_state=1,\n",
       "                                                           tol=0.001,\n",
       "                                                           warm_start=True))]),\n",
       "             n_jobs=1, param_grid={'model__penalty': ['l1', 'l2']},\n",
       "             pre_dispatch=1, scoring='roc_auc', verbose=1)"
      ]
     },
     "execution_count": 146,
     "metadata": {},
     "output_type": "execute_result"
    }
   ],
   "source": [
    "grid_logreg.fit(X_train, y_train)"
   ]
  },
  {
   "cell_type": "markdown",
   "metadata": {
    "_uuid": "c877b3a2823c5b3a73c4f55e64a92328a1a9cb19",
    "id": "79TlZBz8V3az"
   },
   "source": [
    "Mean cross-validated AUROC score of the best model:"
   ]
  },
  {
   "cell_type": "code",
   "execution_count": 147,
   "metadata": {
    "_uuid": "08435a05c474849b5e3a9faf574166383fcf3e1f",
    "colab": {
     "base_uri": "https://localhost:8080/"
    },
    "id": "2fiXTuqdV3az",
    "outputId": "d5c9a78d-3be9-4240-c4a3-ab6ca21c63ac"
   },
   "outputs": [
    {
     "data": {
      "text/plain": [
       "0.7124531934781234"
      ]
     },
     "execution_count": 147,
     "metadata": {},
     "output_type": "execute_result"
    }
   ],
   "source": [
    "grid_logreg.best_score_"
   ]
  },
  {
   "cell_type": "markdown",
   "metadata": {
    "_cell_guid": "67901f97-33dc-4ff0-8968-127eda9da452",
    "_uuid": "a6829cf727f13a804180637da8cfc8477754b8c6",
    "id": "c21H_wzdV3az"
   },
   "source": [
    "Best hyperparameters:"
   ]
  },
  {
   "cell_type": "code",
   "execution_count": 148,
   "metadata": {
    "_cell_guid": "14983fb4-d45a-431d-9c03-20d737862cc7",
    "_uuid": "fffc4de31000514e733ccd7c8f0aac9306226644",
    "colab": {
     "base_uri": "https://localhost:8080/"
    },
    "id": "oiES4XCbV3az",
    "outputId": "e8f3d0fc-e067-4dcf-83de-92ac13bbbb86"
   },
   "outputs": [
    {
     "data": {
      "text/plain": [
       "{'model__penalty': 'l2'}"
      ]
     },
     "execution_count": 148,
     "metadata": {},
     "output_type": "execute_result"
    }
   ],
   "source": [
    "grid_logreg.best_params_"
   ]
  },
  {
   "cell_type": "markdown",
   "metadata": {
    "_uuid": "cc88ccfb97a0f7678a5e629ccb7ad3cdf59c2ca2",
    "id": "_SoEgIFiV3a0"
   },
   "source": [
    "## 8.2 Random forest classifier\n",
    "<a id=\"8.2\"></a>"
   ]
  },
  {
   "cell_type": "markdown",
   "metadata": {
    "_cell_guid": "fc774c42-47e6-427a-ac9c-a4bdbf7b5837",
    "_uuid": "39ac0b9f118cbb5b11d6749f2ec3f8aa3f97ac6d",
    "id": "53bWavoyV3a0"
   },
   "source": [
    "Next we train a random forest model. Note that data standardization is not necessary for a random forest."
   ]
  },
  {
   "cell_type": "code",
   "execution_count": 149,
   "metadata": {
    "_uuid": "e3ac2ed291bcd75f60f5f42172b0cc2af7283d5c",
    "id": "4SrciKUVV3a0"
   },
   "outputs": [],
   "source": [
    "from sklearn.ensemble import RandomForestClassifier"
   ]
  },
  {
   "cell_type": "code",
   "execution_count": 150,
   "metadata": {
    "_uuid": "44cef4bc961a193829febfc689817575eb023691",
    "id": "abEyigodV3a0"
   },
   "outputs": [],
   "source": [
    "pipeline_rfc = Pipeline([\n",
    "    ('imputer', SimpleImputer(copy=False)),\n",
    "    ('model', RandomForestClassifier(n_jobs=-1, random_state=1))\n",
    "])"
   ]
  },
  {
   "cell_type": "markdown",
   "metadata": {
    "_uuid": "5a421f2838ac69f19d963768245c172b6a856a69",
    "id": "fdpF_SvDV3a0"
   },
   "source": [
    "The random forest takes very long to train, so we don't test different hyperparameter choices. We'll still use `GridSearchCV` for the sake of consistency."
   ]
  },
  {
   "cell_type": "code",
   "execution_count": 151,
   "metadata": {
    "_uuid": "40e26dde7b06814585e336cc93636279b7b063e8",
    "id": "IbYJ8zy8V3a0"
   },
   "outputs": [],
   "source": [
    "param_grid_rfc = {\n",
    "    'model__n_estimators': [50] # The number of randomized trees to build\n",
    "}"
   ]
  },
  {
   "cell_type": "markdown",
   "metadata": {
    "_uuid": "b3ddc28e898d8e4127cc8ac532bfdc5efdd564b5",
    "id": "Lu9N1XeHV3a0"
   },
   "source": [
    "The AUROC will always improve (with decreasing gains) as the number of estimators increases, but it's not necessarily worth the extra training time and model complexity."
   ]
  },
  {
   "cell_type": "code",
   "execution_count": 152,
   "metadata": {
    "_cell_guid": "c016e122-86dd-4c96-88c2-a901fe48cf70",
    "_uuid": "8144ec0a936a93a1fbf5e2dd00cd0082dbc40782",
    "id": "dBw2XJYDV3a0"
   },
   "outputs": [],
   "source": [
    "grid_rfc = GridSearchCV(estimator=pipeline_rfc, param_grid=param_grid_rfc, scoring='roc_auc', n_jobs=1, pre_dispatch=1, cv=5, verbose=1, return_train_score=False)"
   ]
  },
  {
   "cell_type": "code",
   "execution_count": 153,
   "metadata": {
    "_cell_guid": "b907b40c-402d-4d4a-a919-e4b63e0a832d",
    "_uuid": "76e6c2e828e670a1494d4d4fbec01f232f067512",
    "colab": {
     "base_uri": "https://localhost:8080/",
     "height": 170
    },
    "id": "dbTuq4ahV3a1",
    "outputId": "7f12b600-d354-4e69-a02c-f534683b66a5"
   },
   "outputs": [
    {
     "name": "stdout",
     "output_type": "stream",
     "text": [
      "Fitting 5 folds for each of 1 candidates, totalling 5 fits\n"
     ]
    },
    {
     "data": {
      "text/html": [
       "<style>#sk-container-id-2 {color: black;}#sk-container-id-2 pre{padding: 0;}#sk-container-id-2 div.sk-toggleable {background-color: white;}#sk-container-id-2 label.sk-toggleable__label {cursor: pointer;display: block;width: 100%;margin-bottom: 0;padding: 0.3em;box-sizing: border-box;text-align: center;}#sk-container-id-2 label.sk-toggleable__label-arrow:before {content: \"▸\";float: left;margin-right: 0.25em;color: #696969;}#sk-container-id-2 label.sk-toggleable__label-arrow:hover:before {color: black;}#sk-container-id-2 div.sk-estimator:hover label.sk-toggleable__label-arrow:before {color: black;}#sk-container-id-2 div.sk-toggleable__content {max-height: 0;max-width: 0;overflow: hidden;text-align: left;background-color: #f0f8ff;}#sk-container-id-2 div.sk-toggleable__content pre {margin: 0.2em;color: black;border-radius: 0.25em;background-color: #f0f8ff;}#sk-container-id-2 input.sk-toggleable__control:checked~div.sk-toggleable__content {max-height: 200px;max-width: 100%;overflow: auto;}#sk-container-id-2 input.sk-toggleable__control:checked~label.sk-toggleable__label-arrow:before {content: \"▾\";}#sk-container-id-2 div.sk-estimator input.sk-toggleable__control:checked~label.sk-toggleable__label {background-color: #d4ebff;}#sk-container-id-2 div.sk-label input.sk-toggleable__control:checked~label.sk-toggleable__label {background-color: #d4ebff;}#sk-container-id-2 input.sk-hidden--visually {border: 0;clip: rect(1px 1px 1px 1px);clip: rect(1px, 1px, 1px, 1px);height: 1px;margin: -1px;overflow: hidden;padding: 0;position: absolute;width: 1px;}#sk-container-id-2 div.sk-estimator {font-family: monospace;background-color: #f0f8ff;border: 1px dotted black;border-radius: 0.25em;box-sizing: border-box;margin-bottom: 0.5em;}#sk-container-id-2 div.sk-estimator:hover {background-color: #d4ebff;}#sk-container-id-2 div.sk-parallel-item::after {content: \"\";width: 100%;border-bottom: 1px solid gray;flex-grow: 1;}#sk-container-id-2 div.sk-label:hover label.sk-toggleable__label {background-color: #d4ebff;}#sk-container-id-2 div.sk-serial::before {content: \"\";position: absolute;border-left: 1px solid gray;box-sizing: border-box;top: 0;bottom: 0;left: 50%;z-index: 0;}#sk-container-id-2 div.sk-serial {display: flex;flex-direction: column;align-items: center;background-color: white;padding-right: 0.2em;padding-left: 0.2em;position: relative;}#sk-container-id-2 div.sk-item {position: relative;z-index: 1;}#sk-container-id-2 div.sk-parallel {display: flex;align-items: stretch;justify-content: center;background-color: white;position: relative;}#sk-container-id-2 div.sk-item::before, #sk-container-id-2 div.sk-parallel-item::before {content: \"\";position: absolute;border-left: 1px solid gray;box-sizing: border-box;top: 0;bottom: 0;left: 50%;z-index: -1;}#sk-container-id-2 div.sk-parallel-item {display: flex;flex-direction: column;z-index: 1;position: relative;background-color: white;}#sk-container-id-2 div.sk-parallel-item:first-child::after {align-self: flex-end;width: 50%;}#sk-container-id-2 div.sk-parallel-item:last-child::after {align-self: flex-start;width: 50%;}#sk-container-id-2 div.sk-parallel-item:only-child::after {width: 0;}#sk-container-id-2 div.sk-dashed-wrapped {border: 1px dashed gray;margin: 0 0.4em 0.5em 0.4em;box-sizing: border-box;padding-bottom: 0.4em;background-color: white;}#sk-container-id-2 div.sk-label label {font-family: monospace;font-weight: bold;display: inline-block;line-height: 1.2em;}#sk-container-id-2 div.sk-label-container {text-align: center;}#sk-container-id-2 div.sk-container {/* jupyter's `normalize.less` sets `[hidden] { display: none; }` but bootstrap.min.css set `[hidden] { display: none !important; }` so we also need the `!important` here to be able to override the default hidden behavior on the sphinx rendered scikit-learn.org. See: https://github.com/scikit-learn/scikit-learn/issues/21755 */display: inline-block !important;position: relative;}#sk-container-id-2 div.sk-text-repr-fallback {display: none;}</style><div id=\"sk-container-id-2\" class=\"sk-top-container\"><div class=\"sk-text-repr-fallback\"><pre>GridSearchCV(cv=5,\n",
       "             estimator=Pipeline(steps=[(&#x27;imputer&#x27;, SimpleImputer(copy=False)),\n",
       "                                       (&#x27;model&#x27;,\n",
       "                                        RandomForestClassifier(n_jobs=-1,\n",
       "                                                               random_state=1))]),\n",
       "             n_jobs=1, param_grid={&#x27;model__n_estimators&#x27;: [50]}, pre_dispatch=1,\n",
       "             scoring=&#x27;roc_auc&#x27;, verbose=1)</pre><b>In a Jupyter environment, please rerun this cell to show the HTML representation or trust the notebook. <br />On GitHub, the HTML representation is unable to render, please try loading this page with nbviewer.org.</b></div><div class=\"sk-container\" hidden><div class=\"sk-item sk-dashed-wrapped\"><div class=\"sk-label-container\"><div class=\"sk-label sk-toggleable\"><input class=\"sk-toggleable__control sk-hidden--visually\" id=\"sk-estimator-id-6\" type=\"checkbox\" ><label for=\"sk-estimator-id-6\" class=\"sk-toggleable__label sk-toggleable__label-arrow\">GridSearchCV</label><div class=\"sk-toggleable__content\"><pre>GridSearchCV(cv=5,\n",
       "             estimator=Pipeline(steps=[(&#x27;imputer&#x27;, SimpleImputer(copy=False)),\n",
       "                                       (&#x27;model&#x27;,\n",
       "                                        RandomForestClassifier(n_jobs=-1,\n",
       "                                                               random_state=1))]),\n",
       "             n_jobs=1, param_grid={&#x27;model__n_estimators&#x27;: [50]}, pre_dispatch=1,\n",
       "             scoring=&#x27;roc_auc&#x27;, verbose=1)</pre></div></div></div><div class=\"sk-parallel\"><div class=\"sk-parallel-item\"><div class=\"sk-item\"><div class=\"sk-label-container\"><div class=\"sk-label sk-toggleable\"><input class=\"sk-toggleable__control sk-hidden--visually\" id=\"sk-estimator-id-7\" type=\"checkbox\" ><label for=\"sk-estimator-id-7\" class=\"sk-toggleable__label sk-toggleable__label-arrow\">estimator: Pipeline</label><div class=\"sk-toggleable__content\"><pre>Pipeline(steps=[(&#x27;imputer&#x27;, SimpleImputer(copy=False)),\n",
       "                (&#x27;model&#x27;, RandomForestClassifier(n_jobs=-1, random_state=1))])</pre></div></div></div><div class=\"sk-serial\"><div class=\"sk-item\"><div class=\"sk-serial\"><div class=\"sk-item\"><div class=\"sk-estimator sk-toggleable\"><input class=\"sk-toggleable__control sk-hidden--visually\" id=\"sk-estimator-id-8\" type=\"checkbox\" ><label for=\"sk-estimator-id-8\" class=\"sk-toggleable__label sk-toggleable__label-arrow\">SimpleImputer</label><div class=\"sk-toggleable__content\"><pre>SimpleImputer(copy=False)</pre></div></div></div><div class=\"sk-item\"><div class=\"sk-estimator sk-toggleable\"><input class=\"sk-toggleable__control sk-hidden--visually\" id=\"sk-estimator-id-9\" type=\"checkbox\" ><label for=\"sk-estimator-id-9\" class=\"sk-toggleable__label sk-toggleable__label-arrow\">RandomForestClassifier</label><div class=\"sk-toggleable__content\"><pre>RandomForestClassifier(n_jobs=-1, random_state=1)</pre></div></div></div></div></div></div></div></div></div></div></div></div>"
      ],
      "text/plain": [
       "GridSearchCV(cv=5,\n",
       "             estimator=Pipeline(steps=[('imputer', SimpleImputer(copy=False)),\n",
       "                                       ('model',\n",
       "                                        RandomForestClassifier(n_jobs=-1,\n",
       "                                                               random_state=1))]),\n",
       "             n_jobs=1, param_grid={'model__n_estimators': [50]}, pre_dispatch=1,\n",
       "             scoring='roc_auc', verbose=1)"
      ]
     },
     "execution_count": 153,
     "metadata": {},
     "output_type": "execute_result"
    }
   ],
   "source": [
    "grid_rfc.fit(X_train, y_train)"
   ]
  },
  {
   "cell_type": "markdown",
   "metadata": {
    "_uuid": "85e7efcd2cec88501d0e47e12a6a5982ecaaf405",
    "id": "kzVH2kIcV3a1"
   },
   "source": [
    "Mean cross-validated AUROC score of the random forest:"
   ]
  },
  {
   "cell_type": "code",
   "execution_count": 154,
   "metadata": {
    "_uuid": "54a61497986d5cafaad3a1d93933f49ec0fa328e",
    "colab": {
     "base_uri": "https://localhost:8080/"
    },
    "id": "Q9AH7SUKV3a1",
    "outputId": "30460800-d42e-4a13-f949-c44b40be0af9"
   },
   "outputs": [
    {
     "data": {
      "text/plain": [
       "0.6943352951183979"
      ]
     },
     "execution_count": 154,
     "metadata": {},
     "output_type": "execute_result"
    }
   ],
   "source": [
    "grid_rfc.best_score_"
   ]
  },
  {
   "cell_type": "markdown",
   "metadata": {
    "_uuid": "acc3197dc05fa0bd5164850aa86fdd783f53088a",
    "id": "VMd2sGc2V3a1"
   },
   "source": [
    "Not quite as good as logistic regression, at least according to this metric."
   ]
  },
  {
   "cell_type": "markdown",
   "metadata": {
    "_uuid": "fd08230abd9280d520181a667054428a6bce6b56",
    "id": "MYNKUqoUV3a1"
   },
   "source": [
    "## 8.3 k-nearest neighbors\n",
    "<a id=\"8.3\"></a>"
   ]
  },
  {
   "cell_type": "markdown",
   "metadata": {
    "_cell_guid": "fc774c42-47e6-427a-ac9c-a4bdbf7b5837",
    "_uuid": "39ac0b9f118cbb5b11d6749f2ec3f8aa3f97ac6d",
    "id": "Zw9he38QV3a1"
   },
   "source": [
    "Next we try k-nearest neighbors. We need to reduce the number of variables to 10 or fewer ([reference](https://en.wikipedia.org/wiki/K-nearest_neighbors_algorithm#Dimension_reduction)) for kNN to perform well. We'll use LDA for dimension reduction. The number of component variables to keep is a hyperparameter."
   ]
  },
  {
   "cell_type": "code",
   "execution_count": 155,
   "metadata": {
    "_uuid": "04a2c7dee800b909c4dca3330604f3d7fe8fc415",
    "id": "6Obou5FpV3a1"
   },
   "outputs": [],
   "source": [
    "from sklearn.neighbors import KNeighborsClassifier\n",
    "from sklearn.discriminant_analysis import LinearDiscriminantAnalysis"
   ]
  },
  {
   "cell_type": "code",
   "execution_count": 156,
   "metadata": {
    "_uuid": "420c474a1001c4e89953dc88427f15c045ed0a51",
    "id": "GKYYpWQLV3a1"
   },
   "outputs": [],
   "source": [
    "pipeline_knn = Pipeline([\n",
    "    ('imputer', SimpleImputer(copy=False)),\n",
    "    ('scaler', StandardScaler(copy=False)),\n",
    "    ('lda', LinearDiscriminantAnalysis()),\n",
    "    ('model', KNeighborsClassifier(n_jobs=-1))\n",
    "])"
   ]
  },
  {
   "cell_type": "code",
   "execution_count": 157,
   "metadata": {
    "_uuid": "a6bf52de06a0bb4abf2faa282ed8d37ce9b6a698",
    "id": "dv3s3GFPV3a2"
   },
   "outputs": [],
   "source": [
    "param_grid_knn = {\n",
    "    'lda__n_components': [1, 2, 3], # The number of LDA components to keep\n",
    "    'model__n_neighbors': [5, 25, 125] # The 'k' in k-nearest neighbors\n",
    "}"
   ]
  },
  {
   "cell_type": "code",
   "execution_count": 158,
   "metadata": {
    "_cell_guid": "c016e122-86dd-4c96-88c2-a901fe48cf70",
    "_uuid": "8144ec0a936a93a1fbf5e2dd00cd0082dbc40782",
    "id": "NqVHOT3SV3a2"
   },
   "outputs": [],
   "source": [
    "grid_knn = GridSearchCV(estimator=pipeline_knn, param_grid=param_grid_knn, scoring='roc_auc', n_jobs=1, pre_dispatch=1, cv=5, verbose=1, return_train_score=False)"
   ]
  },
  {
   "cell_type": "code",
   "execution_count": 159,
   "metadata": {
    "_cell_guid": "b907b40c-402d-4d4a-a919-e4b63e0a832d",
    "_uuid": "76e6c2e828e670a1494d4d4fbec01f232f067512",
    "colab": {
     "base_uri": "https://localhost:8080/",
     "height": 813
    },
    "id": "1hk8xZyEV3a2",
    "outputId": "6c0df51f-adb0-496e-ced9-1270affe096c"
   },
   "outputs": [
    {
     "name": "stdout",
     "output_type": "stream",
     "text": [
      "Fitting 5 folds for each of 9 candidates, totalling 45 fits\n"
     ]
    },
    {
     "name": "stderr",
     "output_type": "stream",
     "text": [
      "C:\\ancoda\\Lib\\site-packages\\sklearn\\model_selection\\_validation.py:425: FitFailedWarning: \n",
      "30 fits failed out of a total of 45.\n",
      "The score on these train-test partitions for these parameters will be set to nan.\n",
      "If these failures are not expected, you can try to debug them by setting error_score='raise'.\n",
      "\n",
      "Below are more details about the failures:\n",
      "--------------------------------------------------------------------------------\n",
      "30 fits failed with the following error:\n",
      "Traceback (most recent call last):\n",
      "  File \"C:\\ancoda\\Lib\\site-packages\\sklearn\\model_selection\\_validation.py\", line 732, in _fit_and_score\n",
      "    estimator.fit(X_train, y_train, **fit_params)\n",
      "  File \"C:\\ancoda\\Lib\\site-packages\\sklearn\\base.py\", line 1151, in wrapper\n",
      "    return fit_method(estimator, *args, **kwargs)\n",
      "           ^^^^^^^^^^^^^^^^^^^^^^^^^^^^^^^^^^^^^^\n",
      "  File \"C:\\ancoda\\Lib\\site-packages\\sklearn\\pipeline.py\", line 416, in fit\n",
      "    Xt = self._fit(X, y, **fit_params_steps)\n",
      "         ^^^^^^^^^^^^^^^^^^^^^^^^^^^^^^^^^^^\n",
      "  File \"C:\\ancoda\\Lib\\site-packages\\sklearn\\pipeline.py\", line 370, in _fit\n",
      "    X, fitted_transformer = fit_transform_one_cached(\n",
      "                            ^^^^^^^^^^^^^^^^^^^^^^^^^\n",
      "  File \"C:\\ancoda\\Lib\\site-packages\\joblib\\memory.py\", line 349, in __call__\n",
      "    return self.func(*args, **kwargs)\n",
      "           ^^^^^^^^^^^^^^^^^^^^^^^^^^\n",
      "  File \"C:\\ancoda\\Lib\\site-packages\\sklearn\\pipeline.py\", line 950, in _fit_transform_one\n",
      "    res = transformer.fit_transform(X, y, **fit_params)\n",
      "          ^^^^^^^^^^^^^^^^^^^^^^^^^^^^^^^^^^^^^^^^^^^^^\n",
      "  File \"C:\\ancoda\\Lib\\site-packages\\sklearn\\utils\\_set_output.py\", line 140, in wrapped\n",
      "    data_to_wrap = f(self, X, *args, **kwargs)\n",
      "                   ^^^^^^^^^^^^^^^^^^^^^^^^^^^\n",
      "  File \"C:\\ancoda\\Lib\\site-packages\\sklearn\\base.py\", line 918, in fit_transform\n",
      "    return self.fit(X, y, **fit_params).transform(X)\n",
      "           ^^^^^^^^^^^^^^^^^^^^^^^^^^^^\n",
      "  File \"C:\\ancoda\\Lib\\site-packages\\sklearn\\base.py\", line 1151, in wrapper\n",
      "    return fit_method(estimator, *args, **kwargs)\n",
      "           ^^^^^^^^^^^^^^^^^^^^^^^^^^^^^^^^^^^^^^\n",
      "  File \"C:\\ancoda\\Lib\\site-packages\\sklearn\\discriminant_analysis.py\", line 614, in fit\n",
      "    raise ValueError(\n",
      "ValueError: n_components cannot be larger than min(n_features, n_classes - 1).\n",
      "\n",
      "  warnings.warn(some_fits_failed_message, FitFailedWarning)\n",
      "C:\\ancoda\\Lib\\site-packages\\sklearn\\model_selection\\_search.py:976: UserWarning: One or more of the test scores are non-finite: [0.61739009 0.67800146 0.70298065        nan        nan        nan\n",
      "        nan        nan        nan]\n",
      "  warnings.warn(\n"
     ]
    },
    {
     "data": {
      "text/html": [
       "<style>#sk-container-id-3 {color: black;}#sk-container-id-3 pre{padding: 0;}#sk-container-id-3 div.sk-toggleable {background-color: white;}#sk-container-id-3 label.sk-toggleable__label {cursor: pointer;display: block;width: 100%;margin-bottom: 0;padding: 0.3em;box-sizing: border-box;text-align: center;}#sk-container-id-3 label.sk-toggleable__label-arrow:before {content: \"▸\";float: left;margin-right: 0.25em;color: #696969;}#sk-container-id-3 label.sk-toggleable__label-arrow:hover:before {color: black;}#sk-container-id-3 div.sk-estimator:hover label.sk-toggleable__label-arrow:before {color: black;}#sk-container-id-3 div.sk-toggleable__content {max-height: 0;max-width: 0;overflow: hidden;text-align: left;background-color: #f0f8ff;}#sk-container-id-3 div.sk-toggleable__content pre {margin: 0.2em;color: black;border-radius: 0.25em;background-color: #f0f8ff;}#sk-container-id-3 input.sk-toggleable__control:checked~div.sk-toggleable__content {max-height: 200px;max-width: 100%;overflow: auto;}#sk-container-id-3 input.sk-toggleable__control:checked~label.sk-toggleable__label-arrow:before {content: \"▾\";}#sk-container-id-3 div.sk-estimator input.sk-toggleable__control:checked~label.sk-toggleable__label {background-color: #d4ebff;}#sk-container-id-3 div.sk-label input.sk-toggleable__control:checked~label.sk-toggleable__label {background-color: #d4ebff;}#sk-container-id-3 input.sk-hidden--visually {border: 0;clip: rect(1px 1px 1px 1px);clip: rect(1px, 1px, 1px, 1px);height: 1px;margin: -1px;overflow: hidden;padding: 0;position: absolute;width: 1px;}#sk-container-id-3 div.sk-estimator {font-family: monospace;background-color: #f0f8ff;border: 1px dotted black;border-radius: 0.25em;box-sizing: border-box;margin-bottom: 0.5em;}#sk-container-id-3 div.sk-estimator:hover {background-color: #d4ebff;}#sk-container-id-3 div.sk-parallel-item::after {content: \"\";width: 100%;border-bottom: 1px solid gray;flex-grow: 1;}#sk-container-id-3 div.sk-label:hover label.sk-toggleable__label {background-color: #d4ebff;}#sk-container-id-3 div.sk-serial::before {content: \"\";position: absolute;border-left: 1px solid gray;box-sizing: border-box;top: 0;bottom: 0;left: 50%;z-index: 0;}#sk-container-id-3 div.sk-serial {display: flex;flex-direction: column;align-items: center;background-color: white;padding-right: 0.2em;padding-left: 0.2em;position: relative;}#sk-container-id-3 div.sk-item {position: relative;z-index: 1;}#sk-container-id-3 div.sk-parallel {display: flex;align-items: stretch;justify-content: center;background-color: white;position: relative;}#sk-container-id-3 div.sk-item::before, #sk-container-id-3 div.sk-parallel-item::before {content: \"\";position: absolute;border-left: 1px solid gray;box-sizing: border-box;top: 0;bottom: 0;left: 50%;z-index: -1;}#sk-container-id-3 div.sk-parallel-item {display: flex;flex-direction: column;z-index: 1;position: relative;background-color: white;}#sk-container-id-3 div.sk-parallel-item:first-child::after {align-self: flex-end;width: 50%;}#sk-container-id-3 div.sk-parallel-item:last-child::after {align-self: flex-start;width: 50%;}#sk-container-id-3 div.sk-parallel-item:only-child::after {width: 0;}#sk-container-id-3 div.sk-dashed-wrapped {border: 1px dashed gray;margin: 0 0.4em 0.5em 0.4em;box-sizing: border-box;padding-bottom: 0.4em;background-color: white;}#sk-container-id-3 div.sk-label label {font-family: monospace;font-weight: bold;display: inline-block;line-height: 1.2em;}#sk-container-id-3 div.sk-label-container {text-align: center;}#sk-container-id-3 div.sk-container {/* jupyter's `normalize.less` sets `[hidden] { display: none; }` but bootstrap.min.css set `[hidden] { display: none !important; }` so we also need the `!important` here to be able to override the default hidden behavior on the sphinx rendered scikit-learn.org. See: https://github.com/scikit-learn/scikit-learn/issues/21755 */display: inline-block !important;position: relative;}#sk-container-id-3 div.sk-text-repr-fallback {display: none;}</style><div id=\"sk-container-id-3\" class=\"sk-top-container\"><div class=\"sk-text-repr-fallback\"><pre>GridSearchCV(cv=5,\n",
       "             estimator=Pipeline(steps=[(&#x27;imputer&#x27;, SimpleImputer(copy=False)),\n",
       "                                       (&#x27;scaler&#x27;, StandardScaler(copy=False)),\n",
       "                                       (&#x27;lda&#x27;, LinearDiscriminantAnalysis()),\n",
       "                                       (&#x27;model&#x27;,\n",
       "                                        KNeighborsClassifier(n_jobs=-1))]),\n",
       "             n_jobs=1,\n",
       "             param_grid={&#x27;lda__n_components&#x27;: [1, 2, 3],\n",
       "                         &#x27;model__n_neighbors&#x27;: [5, 25, 125]},\n",
       "             pre_dispatch=1, scoring=&#x27;roc_auc&#x27;, verbose=1)</pre><b>In a Jupyter environment, please rerun this cell to show the HTML representation or trust the notebook. <br />On GitHub, the HTML representation is unable to render, please try loading this page with nbviewer.org.</b></div><div class=\"sk-container\" hidden><div class=\"sk-item sk-dashed-wrapped\"><div class=\"sk-label-container\"><div class=\"sk-label sk-toggleable\"><input class=\"sk-toggleable__control sk-hidden--visually\" id=\"sk-estimator-id-10\" type=\"checkbox\" ><label for=\"sk-estimator-id-10\" class=\"sk-toggleable__label sk-toggleable__label-arrow\">GridSearchCV</label><div class=\"sk-toggleable__content\"><pre>GridSearchCV(cv=5,\n",
       "             estimator=Pipeline(steps=[(&#x27;imputer&#x27;, SimpleImputer(copy=False)),\n",
       "                                       (&#x27;scaler&#x27;, StandardScaler(copy=False)),\n",
       "                                       (&#x27;lda&#x27;, LinearDiscriminantAnalysis()),\n",
       "                                       (&#x27;model&#x27;,\n",
       "                                        KNeighborsClassifier(n_jobs=-1))]),\n",
       "             n_jobs=1,\n",
       "             param_grid={&#x27;lda__n_components&#x27;: [1, 2, 3],\n",
       "                         &#x27;model__n_neighbors&#x27;: [5, 25, 125]},\n",
       "             pre_dispatch=1, scoring=&#x27;roc_auc&#x27;, verbose=1)</pre></div></div></div><div class=\"sk-parallel\"><div class=\"sk-parallel-item\"><div class=\"sk-item\"><div class=\"sk-label-container\"><div class=\"sk-label sk-toggleable\"><input class=\"sk-toggleable__control sk-hidden--visually\" id=\"sk-estimator-id-11\" type=\"checkbox\" ><label for=\"sk-estimator-id-11\" class=\"sk-toggleable__label sk-toggleable__label-arrow\">estimator: Pipeline</label><div class=\"sk-toggleable__content\"><pre>Pipeline(steps=[(&#x27;imputer&#x27;, SimpleImputer(copy=False)),\n",
       "                (&#x27;scaler&#x27;, StandardScaler(copy=False)),\n",
       "                (&#x27;lda&#x27;, LinearDiscriminantAnalysis()),\n",
       "                (&#x27;model&#x27;, KNeighborsClassifier(n_jobs=-1))])</pre></div></div></div><div class=\"sk-serial\"><div class=\"sk-item\"><div class=\"sk-serial\"><div class=\"sk-item\"><div class=\"sk-estimator sk-toggleable\"><input class=\"sk-toggleable__control sk-hidden--visually\" id=\"sk-estimator-id-12\" type=\"checkbox\" ><label for=\"sk-estimator-id-12\" class=\"sk-toggleable__label sk-toggleable__label-arrow\">SimpleImputer</label><div class=\"sk-toggleable__content\"><pre>SimpleImputer(copy=False)</pre></div></div></div><div class=\"sk-item\"><div class=\"sk-estimator sk-toggleable\"><input class=\"sk-toggleable__control sk-hidden--visually\" id=\"sk-estimator-id-13\" type=\"checkbox\" ><label for=\"sk-estimator-id-13\" class=\"sk-toggleable__label sk-toggleable__label-arrow\">StandardScaler</label><div class=\"sk-toggleable__content\"><pre>StandardScaler(copy=False)</pre></div></div></div><div class=\"sk-item\"><div class=\"sk-estimator sk-toggleable\"><input class=\"sk-toggleable__control sk-hidden--visually\" id=\"sk-estimator-id-14\" type=\"checkbox\" ><label for=\"sk-estimator-id-14\" class=\"sk-toggleable__label sk-toggleable__label-arrow\">LinearDiscriminantAnalysis</label><div class=\"sk-toggleable__content\"><pre>LinearDiscriminantAnalysis()</pre></div></div></div><div class=\"sk-item\"><div class=\"sk-estimator sk-toggleable\"><input class=\"sk-toggleable__control sk-hidden--visually\" id=\"sk-estimator-id-15\" type=\"checkbox\" ><label for=\"sk-estimator-id-15\" class=\"sk-toggleable__label sk-toggleable__label-arrow\">KNeighborsClassifier</label><div class=\"sk-toggleable__content\"><pre>KNeighborsClassifier(n_jobs=-1)</pre></div></div></div></div></div></div></div></div></div></div></div></div>"
      ],
      "text/plain": [
       "GridSearchCV(cv=5,\n",
       "             estimator=Pipeline(steps=[('imputer', SimpleImputer(copy=False)),\n",
       "                                       ('scaler', StandardScaler(copy=False)),\n",
       "                                       ('lda', LinearDiscriminantAnalysis()),\n",
       "                                       ('model',\n",
       "                                        KNeighborsClassifier(n_jobs=-1))]),\n",
       "             n_jobs=1,\n",
       "             param_grid={'lda__n_components': [1, 2, 3],\n",
       "                         'model__n_neighbors': [5, 25, 125]},\n",
       "             pre_dispatch=1, scoring='roc_auc', verbose=1)"
      ]
     },
     "execution_count": 159,
     "metadata": {},
     "output_type": "execute_result"
    }
   ],
   "source": [
    "grid_knn.fit(X_train, y_train)"
   ]
  },
  {
   "cell_type": "markdown",
   "metadata": {
    "_uuid": "4b600aa605a1df0aa9aed7813a0a58ebfc0c1acd",
    "id": "bG756b1MV3a2"
   },
   "source": [
    "Mean cross-validated AUROC score of the best model:"
   ]
  },
  {
   "cell_type": "code",
   "execution_count": 160,
   "metadata": {
    "_uuid": "fb69ab73a93c093a87d2f320e7fc658925effda9",
    "colab": {
     "base_uri": "https://localhost:8080/"
    },
    "id": "GYaFQnPhV3a2",
    "outputId": "740b6c96-eaf4-491b-8709-738c36262da4"
   },
   "outputs": [
    {
     "data": {
      "text/plain": [
       "0.7029806543196433"
      ]
     },
     "execution_count": 160,
     "metadata": {},
     "output_type": "execute_result"
    }
   ],
   "source": [
    "grid_knn.best_score_"
   ]
  },
  {
   "cell_type": "markdown",
   "metadata": {
    "_cell_guid": "67901f97-33dc-4ff0-8968-127eda9da452",
    "_uuid": "a6829cf727f13a804180637da8cfc8477754b8c6",
    "id": "heG3X6dsV3a2"
   },
   "source": [
    "Best hyperparameters:"
   ]
  },
  {
   "cell_type": "code",
   "execution_count": 161,
   "metadata": {
    "_cell_guid": "14983fb4-d45a-431d-9c03-20d737862cc7",
    "_uuid": "fffc4de31000514e733ccd7c8f0aac9306226644",
    "colab": {
     "base_uri": "https://localhost:8080/"
    },
    "id": "mk5NW44wV3a2",
    "outputId": "e79757d1-5300-4382-df38-6ca7d0f2482d"
   },
   "outputs": [
    {
     "data": {
      "text/plain": [
       "{'lda__n_components': 1, 'model__n_neighbors': 125}"
      ]
     },
     "execution_count": 161,
     "metadata": {},
     "output_type": "execute_result"
    }
   ],
   "source": [
    "grid_knn.best_params_"
   ]
  },
  {
   "cell_type": "markdown",
   "metadata": {
    "_uuid": "6f03f5ac3f24ca51d9b38fe9d5cdcaaf6f4283d4",
    "id": "WieRDi9kV3a2"
   },
   "source": [
    "Only 1 LDA components are necessary for kNN to perform almost as well as logistic regression!"
   ]
  },
  {
   "cell_type": "markdown",
   "metadata": {
    "_cell_guid": "04560103-0efe-4ace-831b-be73ece4fe7b",
    "_uuid": "4476709021bd10a8e39d8f7e99e8fdf4adcb6970",
    "id": "GGXAP4vAV3a2"
   },
   "source": [
    "## 8.4 Comparing the chosen model\n",
    "<a id=\"8.4\"></a>"
   ]
  },
  {
   "cell_type": "markdown",
   "metadata": {
    "_cell_guid": "b7460548-ee72-4f66-b921-2ea68bd5db24",
    "_uuid": "edd6b1de60cf7b9da054d0259ea83e8b4e4e8719",
    "id": "qHeSIWD7V3a3"
   },
   "source": [
    "The three models performed quite similarly according to the AUROC:"
   ]
  },
  {
   "cell_type": "code",
   "execution_count": 162,
   "metadata": {
    "_uuid": "399dbe1ae869b7b09f4c793b2f0d2dbf2ab3ce99",
    "colab": {
     "base_uri": "https://localhost:8080/"
    },
    "id": "D64tsGP-V3a3",
    "outputId": "ef44af06-27f6-4e72-fca3-7c4565d11cd3"
   },
   "outputs": [
    {
     "name": "stdout",
     "output_type": "stream",
     "text": [
      "Cross-validated AUROC scores\n",
      "0.7124531934781234 - Logistic regression\n",
      "0.6943352951183979 - Random forest\n",
      "0.7029806543196433 - k-nearest neighbors\n"
     ]
    }
   ],
   "source": [
    "print('Cross-validated AUROC scores')\n",
    "print(grid_logreg.best_score_, '- Logistic regression')\n",
    "print(grid_rfc.best_score_, '- Random forest')\n",
    "print(grid_knn.best_score_, '- k-nearest neighbors')"
   ]
  },
  {
   "cell_type": "markdown",
   "metadata": {
    "_uuid": "ad636baf5b85663770647c4c49572d9d6b5ea445",
    "id": "7BUckoZHV3a3"
   },
   "source": [
    "Logistic regression squeaked out ahead, and coupled with the fact that `SGDClassifier` trains much faster than the other two models, we'll select logistic regression as our final model. Now we'll tune the hyperparameters more finely."
   ]
  },
  {
   "cell_type": "markdown",
   "metadata": {
    "_cell_guid": "61ffd538-9579-4638-8156-bcb3f29b39ab",
    "_uuid": "f3b87036a9ae078b8a9cc36ce5b47f734059358c",
    "id": "cjRX9U2gV3a4"
   },
   "source": [
    "## 8.5 Test set evaluation\n",
    "<a id=\"8.5\"></a>"
   ]
  },
  {
   "cell_type": "markdown",
   "metadata": {
    "_uuid": "392c3c4194201722d6139f71c030be32411858f4",
    "id": "W0U-YQ7SV3a4"
   },
   "source": [
    "Now we can finally see how our chosen model performs on the test data (the most recent 10% of the loans)."
   ]
  },
  {
   "cell_type": "code",
   "execution_count": 163,
   "metadata": {
    "_uuid": "5e30cfcec41346c823cfd51b574de4628a091cb1",
    "id": "16goANRBV3a4"
   },
   "outputs": [],
   "source": [
    "from sklearn.metrics import roc_auc_score"
   ]
  },
  {
   "cell_type": "code",
   "execution_count": 164,
   "metadata": {
    "_uuid": "9422581825e175f37148cfae47016c7a81bbe29a",
    "colab": {
     "base_uri": "https://localhost:8080/"
    },
    "id": "6Wryrbo6V3a4",
    "outputId": "2f1f446a-fda6-46da-a1b1-666acdfc7e36"
   },
   "outputs": [
    {
     "data": {
      "text/plain": [
       "0.7053093389916258"
      ]
     },
     "execution_count": 164,
     "metadata": {},
     "output_type": "execute_result"
    }
   ],
   "source": [
    "y_score = grid_logreg.predict_proba(X_test)[:,1]\n",
    "roc_auc_score(y_test, y_score)"
   ]
  },
  {
   "cell_type": "markdown",
   "metadata": {
    "_uuid": "75ec79860214bfcc917bf58cc1f945b58ed5e8a6",
    "id": "ycRHIMp6V3a4"
   },
   "source": [
    "### Confusion Matrix"
   ]
  },
  {
   "cell_type": "code",
   "execution_count": 165,
   "metadata": {
    "colab": {
     "base_uri": "https://localhost:8080/",
     "height": 421
    },
    "id": "ZbBs9U5T2j1-",
    "outputId": "a6cb82a2-6b1d-4adf-9900-25ebefe24bc9"
   },
   "outputs": [
    {
     "data": {
      "image/png": "[encoded data removed]",
      "text/plain": [
       "<Figure size 2200x1200 with 2 Axes>"
      ]
     },
     "metadata": {},
     "output_type": "display_data"
    }
   ],
   "source": [
    "from sklearn.metrics import confusion_matrix\n",
    "\n",
    "# Logistic Regression fitted using SMOTE technique\n",
    "y_pred_logreg = grid_logreg.predict(X_test)\n",
    "\n",
    "\n",
    "log_reg_cf = confusion_matrix(y_test, y_pred_logreg)\n",
    "\n",
    "# Draw confusion matrix\n",
    "fig, ax = plt.subplots(1, 1,figsize=(22,12))\n",
    "\n",
    "\n",
    "sns.heatmap(log_reg_cf, ax=ax, annot=True, cmap=plt.cm.copper, fmt='g')\n",
    "ax.set_title(\"Logistic Regression \\n Confusion Matrix\", fontsize=14)\n",
    "ax.set_xticklabels(['0', '1'], fontsize=14, rotation=180)\n",
    "ax.set_yticklabels(['0', '1'], fontsize=14, rotation=0)\n",
    "ax.set_ylabel('True label', fontsize=14)\n",
    "ax.set_xlabel('Predicted label', fontsize=14)\n",
    "\n",
    "\n",
    "plt.show()"
   ]
  },
  {
   "cell_type": "code",
   "execution_count": 166,
   "metadata": {
    "colab": {
     "base_uri": "https://localhost:8080/"
    },
    "id": "ZLRRljmc49W_",
    "outputId": "0b5baa8c-ef63-42a1-adf5-0175b3d3f0bd"
   },
   "outputs": [
    {
     "name": "stdout",
     "output_type": "stream",
     "text": [
      "Logistic Regression:\n",
      "              precision    recall  f1-score   support\n",
      "\n",
      "           0       0.81      0.98      0.88    119203\n",
      "           1       0.49      0.08      0.13     30283\n",
      "\n",
      "    accuracy                           0.80    149486\n",
      "   macro avg       0.65      0.53      0.51    149486\n",
      "weighted avg       0.74      0.80      0.73    149486\n",
      "\n"
     ]
    }
   ],
   "source": [
    "from sklearn.metrics import classification_report\n",
    "\n",
    "\n",
    "print('Logistic Regression:')\n",
    "print(classification_report(y_test, y_pred_logreg))"
   ]
  },
  {
   "cell_type": "markdown",
   "metadata": {
    "_uuid": "4d779c09e670092936e083526dffbdd12e02e1c6",
    "id": "EacI6sTDV3a4"
   },
   "source": [
    "# 9. Conclusion\n",
    "<a id=\"9\"></a>"
   ]
  },
  {
   "cell_type": "markdown",
   "metadata": {
    "_uuid": "d93f5d6f4cc477e453a27475cd8647f97b642dc2",
    "id": "_atdwfNtV3a4"
   },
   "source": [
    "We applied machine learning methods to predict the probability that a requested loan on LendingClub will charge off. After training and evaluating three different models (logistic regression, random forest, and k-nearest neighbors), we found that all three performed similarly according to a cross-validated AUROC score on the training data. We selected logistic regression (with ridge penalty) because it was the fastest model to train, and this model obtained an AUROC score of 0.689 on a test set consisting of the most recent 10% of the loans.\n",
    "\n",
    "This model, while far from perfect, can provide a somewhat informed prediction of the likelihood that a loan will charge off, using only data available to potential investors before the loan is fully funded.\n",
    "\n",
    "We also found that, according to linear measures of correlation between the predictors and the response, the most important variables for predicting charge-off are the loan interest rate and term, and the borrower's FICO score and debt-to-income ratio."
   ]
  },
  {
   "cell_type": "code",
   "execution_count": null,
   "metadata": {},
   "outputs": [],
   "source": []
  },
  {
   "cell_type": "code",
   "execution_count": null,
   "metadata": {},
   "outputs": [],
   "source": []
  },
  {
   "cell_type": "code",
   "execution_count": null,
   "metadata": {},
   "outputs": [],
   "source": []
  },
  {
   "cell_type": "code",
   "execution_count": null,
   "metadata": {},
   "outputs": [],
   "source": []
  },
  {
   "cell_type": "code",
   "execution_count": null,
   "metadata": {},
   "outputs": [],
   "source": []
  }
 ],
 "metadata": {
  "colab": {
   "provenance": []
  },
  "kernelspec": {
   "display_name": "Python 3 (ipykernel)",
   "language": "python",
   "name": "python3"
  },
  "language_info": {
   "codemirror_mode": {
    "name": "ipython",
    "version": 3
   },
   "file_extension": ".py",
   "mimetype": "text/x-python",
   "name": "python",
   "nbconvert_exporter": "python",
   "pygments_lexer": "ipython3",
   "version": "3.11.5"
  }
 },
 "nbformat": 4,
 "nbformat_minor": 4
}
